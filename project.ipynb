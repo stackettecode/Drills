{
  "nbformat": 4,
  "nbformat_minor": 0,
  "metadata": {
    "colab": {
      "name": "Copy of Copy of project.ipynb",
      "version": "0.3.2",
      "provenance": [],
      "collapsed_sections": [
        "GKcvaaBbzcB1"
      ],
      "toc_visible": true,
      "machine_shape": "hm",
      "include_colab_link": true
    },
    "kernelspec": {
      "name": "python3",
      "display_name": "Python 3"
    },
    "accelerator": "GPU"
  },
  "cells": [
    {
      "cell_type": "markdown",
      "metadata": {
        "id": "view-in-github",
        "colab_type": "text"
      },
      "source": [
        "<a href=\"https://colab.research.google.com/github/stephmather/Drills/blob/master/project.ipynb\" target=\"_parent\"><img src=\"https://colab.research.google.com/assets/colab-badge.svg\" alt=\"Open In Colab\"/></a>"
      ]
    },
    {
      "cell_type": "markdown",
      "metadata": {
        "id": "tOEg3tXY59hr",
        "colab_type": "text"
      },
      "source": [
        "# MIDS W207 Group 9 - Final Project"
      ]
    },
    {
      "cell_type": "markdown",
      "metadata": {
        "id": "BRqtrPm95ldY",
        "colab_type": "text"
      },
      "source": [
        "## Colaboratory Notebook Preconditions\n",
        "\n",
        "**This Colab notebook requires access to a Google Drive.**  Project data is retrieved from a folder on the Google Drive associated with the Google account with which this notebook is executing.\n",
        "\n",
        "This data folder may exist anywhere beneath the Google Drive.  Unfortunately, mounted Google Drives do not have access to folders and files shared by others.\n",
        "\n",
        "If the project data files do not reside on the Google Drive of the current Google account, please contact any of the following Group 9 members for assistance:\n",
        "\n",
        "* Brad Andersen - bdandersen@berkeley.edu\n",
        "* Stephanie Mather - stephanie.mather@berkeley.edu\n",
        "* Sonal Thakkar - sonalthakkar@berkeley.edu"
      ]
    },
    {
      "cell_type": "code",
      "metadata": {
        "id": "OQi_UyOzJnYM",
        "colab_type": "code",
        "outputId": "bd4783f0-019a-4d70-9623-a09e372ee1a7",
        "colab": {
          "base_uri": "https://localhost:8080/",
          "height": 34
        }
      },
      "source": [
        "import sys\n",
        "print(\"Python runtime:\", sys.version_info)\n",
        "assert 3 == sys.version_info.major and 6 == sys.version_info.minor, \"Python runtime must be version 3.6.x\""
      ],
      "execution_count": 0,
      "outputs": [
        {
          "output_type": "stream",
          "text": [
            "Python runtime: sys.version_info(major=3, minor=6, micro=8, releaselevel='final', serial=0)\n"
          ],
          "name": "stdout"
        }
      ]
    },
    {
      "cell_type": "markdown",
      "metadata": {
        "id": "apL-qDst5O9j",
        "colab_type": "text"
      },
      "source": [
        "### Identifying the Pathname for Project Resources\n",
        "\n",
        "This Colab notebook will mount the current user's Google Drive beneath `/content/drive`.   Please specify the pathname of the project resource folder as it is maintained on the current user's Google Drive.\n",
        "\n",
        "*This is the folder beneath which subfolders **data** and **py** are located.*"
      ]
    },
    {
      "cell_type": "code",
      "metadata": {
        "id": "mQsdU7g26MGN",
        "colab_type": "code",
        "colab": {}
      },
      "source": [
        "gdrive_project_pathname = '/My Drive/MIDS/W207/Final Project'  #@param {type: \"string\"}"
      ],
      "execution_count": 0,
      "outputs": []
    },
    {
      "cell_type": "code",
      "metadata": {
        "id": "fMqBPDpzH6rU",
        "colab_type": "code",
        "outputId": "ea2c5f3a-7e21-418e-e52f-3cd833269203",
        "colab": {
          "base_uri": "https://localhost:8080/",
          "height": 176
        }
      },
      "source": [
        "import os.path\n",
        "from google.colab import drive\n",
        "\n",
        "# Mount the current user's Google Drive\n",
        "GOOGLE_DRIVE_MOUNT_POINT = \"/content/drive\"\n",
        "print(\"Mounting Google Drive beneath %s\" % GOOGLE_DRIVE_MOUNT_POINT)\n",
        "drive.mount(GOOGLE_DRIVE_MOUNT_POINT, force_remount = True)\n",
        "\n",
        "# Build the pathname to the project's folder residing beneath the current user's Google Drive\n",
        "if not gdrive_project_pathname.startswith(\"/\"):\n",
        "  gdrive_project_pathname = \"/\" + gdrive_project_pathname\n",
        "abs_project_pathname = GOOGLE_DRIVE_MOUNT_POINT + gdrive_project_pathname\n",
        "print(\"Project folder: %s\" % gdrive_project_pathname)\n",
        "\n",
        "# Check that the subdirectories anticipated beneath the Google Drive project folder exist\n",
        "# by checking for the presence of the DO_NOT_DELETE.txt file\n",
        "for subfolder in [\"data\", \"py\"]:\n",
        "    if not os.path.exists(abs_project_pathname + \"/\" + subfolder + \"/DO_NOT_DELETE.txt\"):\n",
        "        raise FileNotFoundError(\"Required subfolder '\" + subfolder + \"' does not exist beneath the Google Drive project folder\")\n",
        "print(\"Project subfolders successfully verified\")\n",
        "\n",
        "abs_data_pathname = abs_project_pathname + \"/data\"\n",
        "abs_py_pathname = abs_project_pathname + \"/py\""
      ],
      "execution_count": 0,
      "outputs": [
        {
          "output_type": "stream",
          "text": [
            "Mounting Google Drive beneath /content/drive\n",
            "Go to this URL in a browser: https://accounts.google.com/o/oauth2/auth?client_id=947318989803-6bn6qk8qdgf4n4g3pfee6491hc0brc4i.apps.googleusercontent.com&redirect_uri=urn%3Aietf%3Awg%3Aoauth%3A2.0%3Aoob&scope=email%20https%3A%2F%2Fwww.googleapis.com%2Fauth%2Fdocs.test%20https%3A%2F%2Fwww.googleapis.com%2Fauth%2Fdrive%20https%3A%2F%2Fwww.googleapis.com%2Fauth%2Fdrive.photos.readonly%20https%3A%2F%2Fwww.googleapis.com%2Fauth%2Fpeopleapi.readonly&response_type=code\n",
            "\n",
            "Enter your authorization code:\n",
            "··········\n",
            "Mounted at /content/drive\n",
            "Project folder: /My Drive/MIDS/W207/Final Project\n",
            "Project subfolders successfully verified\n"
          ],
          "name": "stdout"
        }
      ]
    },
    {
      "cell_type": "markdown",
      "metadata": {
        "id": "SIGsFalRNZvb",
        "colab_type": "text"
      },
      "source": [
        "### Dependencies"
      ]
    },
    {
      "cell_type": "code",
      "metadata": {
        "id": "iqlQkFluKo1A",
        "colab_type": "code",
        "outputId": "c096a717-ed6a-4eab-b473-d9be674950f1",
        "colab": {
          "base_uri": "https://localhost:8080/",
          "height": 225
        }
      },
      "source": [
        "import IPython\n",
        "\n",
        "! pip install -U mne"
      ],
      "execution_count": 0,
      "outputs": [
        {
          "output_type": "stream",
          "text": [
            "Collecting mne\n",
            "\u001b[?25l  Downloading https://files.pythonhosted.org/packages/42/ec/08afc26ea6204473031f786d0f3034119a5a138d40062b37fbf578c81c01/mne-0.18.2.tar.gz (6.3MB)\n",
            "\u001b[K     |████████████████████████████████| 6.3MB 6.8MB/s \n",
            "\u001b[?25hRequirement already satisfied, skipping upgrade: numpy>=1.11.3 in /usr/local/lib/python3.6/dist-packages (from mne) (1.16.4)\n",
            "Requirement already satisfied, skipping upgrade: scipy>=0.17.1 in /usr/local/lib/python3.6/dist-packages (from mne) (1.3.0)\n",
            "Building wheels for collected packages: mne\n",
            "  Building wheel for mne (setup.py) ... \u001b[?25l\u001b[?25hdone\n",
            "  Created wheel for mne: filename=mne-0.18.2-cp36-none-any.whl size=6316005 sha256=2433bcf26dccc19d45f4a3adfda9bfdf2e9172af70cfb31c2cf21de54e25bb70\n",
            "  Stored in directory: /root/.cache/pip/wheels/71/40/30/fb9a9bdeac02c6b3b144be66ac345c5b5587a7d7610564535b\n",
            "Successfully built mne\n",
            "Installing collected packages: mne\n",
            "Successfully installed mne-0.18.2\n"
          ],
          "name": "stdout"
        }
      ]
    },
    {
      "cell_type": "code",
      "metadata": {
        "id": "p8X6-80I9V2M",
        "colab_type": "code",
        "colab": {}
      },
      "source": [
        "# import decimal\n",
        "# import glob\n",
        "# import gzip\n",
        "# import locale\n",
        "# import os\n",
        "import pickle\n",
        "# import re\n",
        "# import tarfile\n",
        "\n",
        "import numpy as np\n",
        "# import pandas as pd\n",
        "import matplotlib.pyplot as plt\n",
        "\n",
        "# import IPython\n",
        "# import plotly.plotly as py\n",
        "# import plotly.figure_factory as ff\n",
        "# from plotly.offline import init_notebook_mode, iplot\n",
        "# import plotly.graph_objs as go\n",
        "# from plotly import tools\n",
        "# from plotly.graph_objs import Layout, Scatter, Figure, Marker, Scattergl \n",
        "# from plotly.graph_objs.layout import YAxis, Annotation, Font\n",
        "# from plotly.graph_objs.layout.annotation import Font\n",
        "\n",
        "# from scipy.io import loadmat\n",
        "\n",
        "from sklearn.model_selection import train_test_split, GridSearchCV\n",
        "from sklearn.naive_bayes import GaussianNB\n",
        "from sklearn.metrics import classification_report, confusion_matrix, f1_score, roc_auc_score, accuracy_score\n",
        "from sklearn.pipeline import Pipeline\n",
        "from sklearn.ensemble import RandomForestRegressor\n",
        "from sklearn.decomposition import PCA\n",
        "\n",
        "from sklearn import preprocessing\n",
        "\n",
        "\n",
        "# # EEG analysis and visualization (https://martinos.org/mne/stable/index.html)\n",
        "# import mne\n",
        "# from mne.datasets import sample\n",
        "# mne.set_log_level('WARNING')\n",
        "\n",
        "# # Turicreate for disk-cached data (https://apple.github.io/turicreate)\n",
        "# # import turicreate as tc\n",
        "\n",
        "# Add plot inline in the page\n",
        "%matplotlib inline"
      ],
      "execution_count": 0,
      "outputs": []
    },
    {
      "cell_type": "code",
      "metadata": {
        "id": "Z8-H0pSa3tEv",
        "colab_type": "code",
        "colab": {}
      },
      "source": [
        "sys.path.append(abs_py_pathname)\n",
        "import data\n",
        "import eda\n",
        "import ml_utl"
      ],
      "execution_count": 0,
      "outputs": []
    },
    {
      "cell_type": "markdown",
      "metadata": {
        "id": "IyOUGM6B-B8h",
        "colab_type": "text"
      },
      "source": [
        "# move to ml_utls"
      ]
    },
    {
      "cell_type": "code",
      "metadata": {
        "id": "vopAxbY7-GgN",
        "colab_type": "code",
        "colab": {}
      },
      "source": [
        "from sklearn.model_selection import train_test_split, GridSearchCV\n",
        "from sklearn.naive_bayes import GaussianNB\n",
        "from sklearn.metrics import classification_report, confusion_matrix, f1_score, roc_auc_score, accuracy_score\n",
        "from sklearn.pipeline import Pipeline\n",
        "from sklearn.ensemble import RandomForestRegressor\n",
        "from sklearn.decomposition import PCA\n",
        "\n",
        "from sklearn import preprocessing\n",
        "\n",
        "\n",
        "class Baseline_50_50_Model():\n",
        "  \"\"\"Baseline model that has no training. Classification is by probability \n",
        "  50% chance a clip is 'ictal' or 'interictal'\n",
        "  50% chance that an 'ictal' clip is 'early ictal'\n",
        "  \n",
        "  \n",
        "  \"\"\"\n",
        "  def fit(self, train_data, train_labels):\n",
        "    return self\n",
        "  \n",
        "  \n",
        "  def predict(self, test_data):\n",
        "    predicted = np.empty(len(test_data))\n",
        "    for i in range(len(predicted)):\n",
        "      guess1 = np.random.rand()\n",
        "      if guess1 < 0.5:\n",
        "        predicted[i] = 0.0\n",
        "      else:\n",
        "          predicted[i] = 1.0\n",
        "\n",
        "    return predicted\n",
        "\n",
        "\n",
        "class Baseline_50_50_Early_Model():\n",
        "  \"\"\"Baseline model that has no training. Classification is by probability \n",
        "  50% chance a clip is 'ictal' or 'interictal'\n",
        "  50% chance that an 'ictal' clip is 'early ictal'\n",
        "  \n",
        "  \n",
        "  \"\"\"\n",
        "  def fit(self, train_data, train_labels):\n",
        "    return self\n",
        "  \n",
        "  \n",
        "  def predict(self, test_data):\n",
        "    predicted = np.empty(len(test_data))\n",
        "    for i in range(len(predicted)):\n",
        "      guess1 = np.random.rand()\n",
        "      if guess1 < 0.5:\n",
        "        predicted[i] = 0.0\n",
        "      else:\n",
        "        guess2 = np.random.rand()\n",
        "        if guess2 < 0.5:\n",
        "          predicted[i] = 1.0\n",
        "        else:\n",
        "          predicted[i] = 2.0\n",
        "    return predicted\n",
        "\n",
        "  \n",
        "  \n",
        "def model_score(test_labels, predicted, model_name, verbose = True):\n",
        "  \"\"\"Function to score model performance. Prints out Confusion matrix and Classification report\n",
        "  \n",
        "  Arguments\n",
        "  ---------\n",
        "  test_labels - list or array containing actual labels of the test data. (required) \n",
        "  \n",
        "  predicted - list or array containing predicted labels of the test data. (required)\n",
        "  \n",
        "  model_name - string to uniquely identify model for results output (required)\n",
        "\n",
        "  verbose - Whether to print results in the terminal. (default = True)\n",
        "\n",
        "  \n",
        "  Returns\n",
        "  -------\n",
        "  model_results_dict - dictionary object containing the confusion matrix and classification report for the model\n",
        "  \"\"\"\n",
        "  \n",
        "  \n",
        "  model_classifcation_report = classification_report(test_labels, predicted, output_dict = True)\n",
        "  conf_matrix = confusion_matrix(test_labels, predicted)\n",
        "  \n",
        "  if verbose:\n",
        "    print('\\n', model_name, 'Classification Report\\n')\n",
        "    print(classification_report(test_labels, predicted))\n",
        "    print('\\nConfusion Matrix:\\n')\n",
        "    print(confusion_matrix(test_labels, predicted))\n",
        "    \n",
        "  model_results_dict = {model_name : {\n",
        "  'Model_Classification_Report': model_classifcation_report, \n",
        "  'Confusion_Matrix' : conf_matrix\n",
        "  }}\n",
        "  \n",
        "  #saves reults in global results_dict\n",
        "  results_dict.update(model_results_dict)\n",
        "    \n",
        "  return   model_results_dict"
      ],
      "execution_count": 0,
      "outputs": []
    },
    {
      "cell_type": "markdown",
      "metadata": {
        "id": "bk34okcpXULp",
        "colab_type": "text"
      },
      "source": [
        "### Baseline Model Evaluation\n",
        "\n",
        "A standard method  for comparing model is required. For this prject the following elements will be used:\n",
        "\n",
        "* Confusion Matrix\n",
        "* f1 score for each label\n",
        "* ROC AUC Score\n",
        "\n",
        "A Baseline Model has been created through the following assumptions:\n",
        "\n",
        "* 50% chance a clip is 'ictal' or 'interictal'\n",
        "* 50% chance that an 'ictal' clip is 'early ictal'"
      ]
    },
    {
      "cell_type": "code",
      "metadata": {
        "id": "iFU-8XWfKmBP",
        "colab_type": "code",
        "colab": {}
      },
      "source": [
        "# run to reset results dictionary\n",
        "results_dict = {}"
      ],
      "execution_count": 0,
      "outputs": []
    },
    {
      "cell_type": "code",
      "metadata": {
        "id": "4Lwvxm7Sd5t-",
        "colab_type": "code",
        "outputId": "23e32c1d-cd2a-43e4-a257-019dd9b288c9",
        "colab": {
          "base_uri": "https://localhost:8080/",
          "height": 452
        }
      },
      "source": [
        "\n",
        "train_data, test_data, train_labels, test_labels = ml_utl.get_raw_train_test_split(\n",
        "    abs_data_pathname, data.SUBJECT_PATIENT, 2, flattened = True, early_ictal_label = False\n",
        ")\n",
        "\n",
        "classifier = Baseline_50_50_Model()\n",
        "classifier.fit(train_data, train_labels)\n",
        "predicted = classifier.predict(test_data)\n",
        "model_results_dict = model_score(test_labels, predicted, 'Baseline_50_50' )\n"
      ],
      "execution_count": 0,
      "outputs": [
        {
          "output_type": "stream",
          "text": [
            "Loading pickled segment data: /content/drive/My Drive/MIDS/W207/Final Project/data/pickled/Patient_2_ictal_as_raw_data.pickle\n",
            "Loading pickled segment data: /content/drive/My Drive/MIDS/W207/Final Project/data/pickled/Patient_2_interictal_as_raw_data.pickle\n",
            "Confirming lengths of data:\n",
            "- Source of training and test data: 3140\n",
            "- Training data: (2512, 80000)\n",
            "- Training labels: 2512\n",
            "- Test data: (628, 80000)\n",
            "- Test labels: 628\n",
            "\n",
            " Baseline_50_50 Classification Report\n",
            "\n",
            "              precision    recall  f1-score   support\n",
            "\n",
            "           0       0.96      0.51      0.66       601\n",
            "           1       0.04      0.48      0.08        27\n",
            "\n",
            "    accuracy                           0.50       628\n",
            "   macro avg       0.50      0.49      0.37       628\n",
            "weighted avg       0.92      0.50      0.64       628\n",
            "\n",
            "\n",
            "Confusion Matrix:\n",
            "\n",
            "[[304 297]\n",
            " [ 14  13]]\n"
          ],
          "name": "stdout"
        }
      ]
    },
    {
      "cell_type": "code",
      "metadata": {
        "id": "qPW_Vgg1EBiw",
        "colab_type": "code",
        "outputId": "f7a5e925-0837-42ae-ae13-431cb673fefc",
        "colab": {
          "base_uri": "https://localhost:8080/",
          "height": 486
        }
      },
      "source": [
        "train_data, test_data, train_labels, test_labels = ml_utl.get_raw_train_test_split(\n",
        "    abs_data_pathname, data.SUBJECT_PATIENT, 2, flattened = True, early_ictal_label = True\n",
        ")\n",
        "\n",
        "classifier = Baseline_50_50_Early_Model()\n",
        "classifier.fit(train_data, train_labels)\n",
        "predicted = classifier.predict(test_data)\n",
        "model_results_dict = model_score(test_labels, predicted, 'Baseline_50_50_early_ictal' )\n"
      ],
      "execution_count": 0,
      "outputs": [
        {
          "output_type": "stream",
          "text": [
            "Loading pickled segment data: /content/drive/My Drive/MIDS/W207/Final Project/data/pickled/Patient_2_ictal_as_raw_data.pickle\n",
            "Loading pickled segment data: /content/drive/My Drive/MIDS/W207/Final Project/data/pickled/Patient_2_interictal_as_raw_data.pickle\n",
            "Confirming lengths of data:\n",
            "- Source of training and test data: 3140\n",
            "- Training data: (2512, 80000)\n",
            "- Training labels: 2512\n",
            "- Test data: (628, 80000)\n",
            "- Test labels: 628\n",
            "\n",
            " Baseline_50_50_early_ictal Classification Report\n",
            "\n",
            "              precision    recall  f1-score   support\n",
            "\n",
            "         0.0       0.95      0.49      0.64       601\n",
            "         1.0       0.04      0.33      0.07        18\n",
            "         2.0       0.01      0.11      0.01         9\n",
            "\n",
            "    accuracy                           0.48       628\n",
            "   macro avg       0.33      0.31      0.24       628\n",
            "weighted avg       0.91      0.48      0.62       628\n",
            "\n",
            "\n",
            "Confusion Matrix:\n",
            "\n",
            "[[292 150 159]\n",
            " [ 10   6   2]\n",
            " [  6   2   1]]\n"
          ],
          "name": "stdout"
        }
      ]
    },
    {
      "cell_type": "markdown",
      "metadata": {
        "id": "xDNXBCF_MK8C",
        "colab_type": "text"
      },
      "source": [
        "Brad to add text around bias"
      ]
    },
    {
      "cell_type": "markdown",
      "metadata": {
        "id": "7V9PqtdgJoYu",
        "colab_type": "text"
      },
      "source": [
        "## Feature Selection\n",
        "As the data set is very large, some simple feature selection procedures were trialed on the data set.\n",
        "\n",
        "The mean, max, min and standard deviation of each one sec clip were extracted and used to train a Gaussain Naive Bayes model. The accuracy scores of 97% seem quite high but are <60% accurate at picking up seizure clips. This may be a result of much greater number of interictal samples than ictal samples, skewing the bias of the model labels."
      ]
    },
    {
      "cell_type": "code",
      "metadata": {
        "id": "1myQ5Gd2bhmw",
        "colab_type": "code",
        "outputId": "8d2f1af1-ac0a-4215-e55d-6a4091ccca1e",
        "colab": {
          "base_uri": "https://localhost:8080/",
          "height": 51
        }
      },
      "source": [
        "p2_ictal = data.load_segments( \\\n",
        "      abs_data_pathname, \\\n",
        "      data.SUBJECT_PATIENT, \\\n",
        "      2, \\\n",
        "      data.CLASS_ICTAL, \\\n",
        "      data.as_measurement_data, \\\n",
        "      verbose = True, \\\n",
        "      pickled = True \\\n",
        "    )\n",
        "p2_interictal = data.load_segments( \\\n",
        "      abs_data_pathname, \\\n",
        "      data.SUBJECT_PATIENT, \\\n",
        "      2, \\\n",
        "      data.CLASS_INTERICTAL, \\\n",
        "      data.as_measurement_data, \\\n",
        "      verbose = True, \\\n",
        "      pickled = True\n",
        "    )\n",
        "\n",
        "p2_all = np.concatenate([p2_interictal, p2_ictal], axis = 0)"
      ],
      "execution_count": 0,
      "outputs": [
        {
          "output_type": "stream",
          "text": [
            "Loading pickled segment data: /content/drive/My Drive/MIDS/W207/Final Project/data/pickled/Patient_2_ictal_as_measurement_data.pickle\n",
            "Loading pickled segment data: /content/drive/My Drive/MIDS/W207/Final Project/data/pickled/Patient_2_interictal_as_measurement_data.pickle\n"
          ],
          "name": "stdout"
        }
      ]
    },
    {
      "cell_type": "code",
      "metadata": {
        "id": "WSPcjTF011a7",
        "colab_type": "code",
        "outputId": "4fb77ad3-b46b-441a-bfee-6db022f6a62d",
        "colab": {
          "base_uri": "https://localhost:8080/",
          "height": 121
        }
      },
      "source": [
        "p2_all_measurements = [x[0] for x in p2_all]\n",
        "\n",
        "p2_all_labels = [0  if m.class_type == 'interictal' else 1 for m in p2_all_measurements ]\n",
        "\n",
        "train_data, test_data, train_labels, test_labels = train_test_split( \n",
        "  p2_all_measurements, p2_all_labels, test_size = 0.2, random_state = 0, shuffle = True \n",
        ")\n",
        "\n",
        "print(\"Confirming lengths of data:\")\n",
        "print(\"- Source of training and test data: %d\" % len(p2_all_measurements))\n",
        "print(\"- Training data: %d\" % len(train_data))\n",
        "print(\"- Training labels: %d\" % len(train_labels))\n",
        "print(\"- Test data: %d\" % len(test_data))\n",
        "print(\"- Test data: %d\" % len(test_data))"
      ],
      "execution_count": 0,
      "outputs": [
        {
          "output_type": "stream",
          "text": [
            "Confirming lengths of data:\n",
            "- Source of training and test data: 3141\n",
            "- Training data: 2512\n",
            "- Training labels: 2512\n",
            "- Test data: 629\n",
            "- Test data: 629\n"
          ],
          "name": "stdout"
        }
      ]
    },
    {
      "cell_type": "code",
      "metadata": {
        "id": "7c3JggMFTphe",
        "colab_type": "code",
        "outputId": "82b44e26-18ed-4272-80ca-a2432fa97dd0",
        "colab": {
          "base_uri": "https://localhost:8080/",
          "height": 156
        }
      },
      "source": [
        "test_data[0].__dict__\n"
      ],
      "execution_count": 0,
      "outputs": [
        {
          "output_type": "execute_result",
          "data": {
            "text/plain": [
              "{'class_type': 'interictal',\n",
              " 'max': 78.3185999999987,\n",
              " 'mean': -1.30385160446167e-12,\n",
              " 'measures': 5000,\n",
              " 'min': -67.6814000000013,\n",
              " 'position': 0,\n",
              " 'segment_number': 1491,\n",
              " 'stddev': 35.28143270957119}"
            ]
          },
          "metadata": {
            "tags": []
          },
          "execution_count": 13
        }
      ]
    },
    {
      "cell_type": "markdown",
      "metadata": {
        "id": "kR_tAX8LTjrW",
        "colab_type": "text"
      },
      "source": [
        "###Statistical Features Models\n",
        "\n",
        "\n",
        "Gaussian Naive Bayes - Mean only\n",
        "***This will fail!***\n",
        "\n",
        "Mean values are too close to zero, and Python's floating-point precision isn't capable of handling these numbers."
      ]
    },
    {
      "cell_type": "code",
      "metadata": {
        "id": "_bFC0Qpu2veh",
        "colab_type": "code",
        "colab": {}
      },
      "source": [
        "# classifier = GaussianNB()\n",
        "\n",
        "# training_means = [[decimal.Decimal(x.mean).ln()] for x in train_data]\n",
        "# testing_means = [[decimal.Decimal(x.mean).ln()] for x in test_data]\n",
        "\n",
        "# print(training_means)\n",
        "# print(testing_means)\n",
        "\n",
        "# classifier.fit(training_means, train_labels)\n",
        "# predicted = classifier.predict(testing_means)\n",
        "# print(classification_report(test_labels, predicted))\n",
        "# print('Confusion Matrix:'confusion_matrix(test_labels, predicted))"
      ],
      "execution_count": 0,
      "outputs": []
    },
    {
      "cell_type": "markdown",
      "metadata": {
        "id": "DW5K2ndwwdvc",
        "colab_type": "text"
      },
      "source": [
        "Gaussian Naive Bayes - Minimum feature only"
      ]
    },
    {
      "cell_type": "code",
      "metadata": {
        "id": "6hoJkWzUQHih",
        "colab_type": "code",
        "outputId": "8eb67e3c-d29e-4cc5-aacb-2595bd87c1ec",
        "colab": {
          "base_uri": "https://localhost:8080/",
          "height": 504
        }
      },
      "source": [
        "# Using the common library for prediction:\n",
        "classifier = GaussianNB()\n",
        "training_mins = [[x.min] for x in train_data]\n",
        "testing_mins = [[x.min] for x in test_data]\n",
        "predicted = ml_utl.nb_predict(classifier,training_mins,train_labels, testing_mins, test_labels)\n",
        "\n",
        "model_results_dict = model_score(test_labels, predicted, 'GaussianNB_x.min')\n",
        "\n",
        "\n"
      ],
      "execution_count": 0,
      "outputs": [
        {
          "output_type": "stream",
          "text": [
            "              precision    recall  f1-score   support\n",
            "\n",
            "           0       0.97      0.98      0.98       600\n",
            "           1       0.50      0.31      0.38        29\n",
            "\n",
            "    accuracy                           0.95       629\n",
            "   macro avg       0.73      0.65      0.68       629\n",
            "weighted avg       0.95      0.95      0.95       629\n",
            "\n",
            "[[591   9]\n",
            " [ 20   9]]\n",
            "\n",
            " GaussianNB_x.min Classification Report\n",
            "\n",
            "              precision    recall  f1-score   support\n",
            "\n",
            "           0       0.97      0.98      0.98       600\n",
            "           1       0.50      0.31      0.38        29\n",
            "\n",
            "    accuracy                           0.95       629\n",
            "   macro avg       0.73      0.65      0.68       629\n",
            "weighted avg       0.95      0.95      0.95       629\n",
            "\n",
            "\n",
            "Confusion Matrix:\n",
            "\n",
            "[[591   9]\n",
            " [ 20   9]]\n"
          ],
          "name": "stdout"
        }
      ]
    },
    {
      "cell_type": "code",
      "metadata": {
        "id": "kjGrftrj9Cbh",
        "colab_type": "code",
        "outputId": "85dd8256-b2f4-4b8f-9b22-8dac480fe2d4",
        "colab": {
          "base_uri": "https://localhost:8080/",
          "height": 504
        }
      },
      "source": [
        "classifier = GaussianNB()\n",
        "\n",
        "training_maxs = [[x.max] for x in train_data]\n",
        "testing_maxs = [[x.max] for x in test_data]\n",
        "\n",
        "predicted = ml_utl.nb_predict(classifier,training_maxs,train_labels, testing_maxs, test_labels)\n",
        "model_results_dict = model_score(test_labels, predicted, 'GaussianNB_x.max')\n"
      ],
      "execution_count": 0,
      "outputs": [
        {
          "output_type": "stream",
          "text": [
            "              precision    recall  f1-score   support\n",
            "\n",
            "           0       0.97      0.98      0.98       600\n",
            "           1       0.52      0.41      0.46        29\n",
            "\n",
            "    accuracy                           0.96       629\n",
            "   macro avg       0.75      0.70      0.72       629\n",
            "weighted avg       0.95      0.96      0.95       629\n",
            "\n",
            "[[589  11]\n",
            " [ 17  12]]\n",
            "\n",
            " GaussianNB_x.max Classification Report\n",
            "\n",
            "              precision    recall  f1-score   support\n",
            "\n",
            "           0       0.97      0.98      0.98       600\n",
            "           1       0.52      0.41      0.46        29\n",
            "\n",
            "    accuracy                           0.96       629\n",
            "   macro avg       0.75      0.70      0.72       629\n",
            "weighted avg       0.95      0.96      0.95       629\n",
            "\n",
            "\n",
            "Confusion Matrix:\n",
            "\n",
            "[[589  11]\n",
            " [ 17  12]]\n"
          ],
          "name": "stdout"
        }
      ]
    },
    {
      "cell_type": "code",
      "metadata": {
        "id": "foYLYhg5gDTl",
        "colab_type": "code",
        "outputId": "879065fa-9ab8-42a2-ae54-3ed68ad12226",
        "colab": {
          "base_uri": "https://localhost:8080/",
          "height": 504
        }
      },
      "source": [
        "classifier = GaussianNB()\n",
        "\n",
        "training_stddevs =  [[x.stddev] for x in train_data]\n",
        "testing_stddevs = [[x.stddev] for x in test_data] \n",
        "\n",
        "predicted = ml_utl.nb_predict(classifier,training_stddevs,train_labels, testing_stddevs, test_labels)\n",
        "model_results_dict = model_score(test_labels, predicted, 'GaussianNB_x.stdev')"
      ],
      "execution_count": 0,
      "outputs": [
        {
          "output_type": "stream",
          "text": [
            "              precision    recall  f1-score   support\n",
            "\n",
            "           0       0.97      0.99      0.98       600\n",
            "           1       0.56      0.34      0.43        29\n",
            "\n",
            "    accuracy                           0.96       629\n",
            "   macro avg       0.76      0.67      0.70       629\n",
            "weighted avg       0.95      0.96      0.95       629\n",
            "\n",
            "[[592   8]\n",
            " [ 19  10]]\n",
            "\n",
            " GaussianNB_x.stdev Classification Report\n",
            "\n",
            "              precision    recall  f1-score   support\n",
            "\n",
            "           0       0.97      0.99      0.98       600\n",
            "           1       0.56      0.34      0.43        29\n",
            "\n",
            "    accuracy                           0.96       629\n",
            "   macro avg       0.76      0.67      0.70       629\n",
            "weighted avg       0.95      0.96      0.95       629\n",
            "\n",
            "\n",
            "Confusion Matrix:\n",
            "\n",
            "[[592   8]\n",
            " [ 19  10]]\n"
          ],
          "name": "stdout"
        }
      ]
    },
    {
      "cell_type": "markdown",
      "metadata": {
        "id": "W1YM_thswpgB",
        "colab_type": "text"
      },
      "source": [
        "Gaussian Naive Bayes - stddev, max, min features"
      ]
    },
    {
      "cell_type": "code",
      "metadata": {
        "id": "kxF18NGANnc1",
        "colab_type": "code",
        "outputId": "1a3e03b9-f7e3-4118-e991-73ab5caba874",
        "colab": {
          "base_uri": "https://localhost:8080/",
          "height": 504
        }
      },
      "source": [
        "training_measures = [[x.stddev, x.max, x.min] for x in train_data]\n",
        "testing_measures = [[x.stddev, x.max, x.min] for x in test_data]\n",
        "\n",
        "predicted = ml_utl.nb_predict(classifier,training_measures,train_labels, testing_measures, test_labels)\n",
        "model_results_dict = model_score(test_labels, predicted, 'GaussianNB_x.min.max.std')"
      ],
      "execution_count": 0,
      "outputs": [
        {
          "output_type": "stream",
          "text": [
            "              precision    recall  f1-score   support\n",
            "\n",
            "           0       0.98      0.97      0.97       600\n",
            "           1       0.43      0.52      0.47        29\n",
            "\n",
            "    accuracy                           0.95       629\n",
            "   macro avg       0.70      0.74      0.72       629\n",
            "weighted avg       0.95      0.95      0.95       629\n",
            "\n",
            "[[580  20]\n",
            " [ 14  15]]\n",
            "\n",
            " GaussianNB_x.min.max.std Classification Report\n",
            "\n",
            "              precision    recall  f1-score   support\n",
            "\n",
            "           0       0.98      0.97      0.97       600\n",
            "           1       0.43      0.52      0.47        29\n",
            "\n",
            "    accuracy                           0.95       629\n",
            "   macro avg       0.70      0.74      0.72       629\n",
            "weighted avg       0.95      0.95      0.95       629\n",
            "\n",
            "\n",
            "Confusion Matrix:\n",
            "\n",
            "[[580  20]\n",
            " [ 14  15]]\n"
          ],
          "name": "stdout"
        }
      ]
    },
    {
      "cell_type": "code",
      "metadata": {
        "id": "sCZkpiup16Wx",
        "colab_type": "code",
        "outputId": "a340042b-252d-4503-d843-65e641b1008c",
        "colab": {
          "base_uri": "https://localhost:8080/",
          "height": 208
        }
      },
      "source": [
        "training_measures = [[x.stddev, x.max, x.min] for x in train_data]\n",
        "testing_measures = [[x.stddev, x.max, x.min] for x in test_data]\n",
        "\n",
        "classifier.fit(training_measures, train_labels)\n",
        "predicted = classifier.predict(testing_measures)\n",
        "print(classification_report(test_labels, predicted))\n",
        "print(confusion_matrix(test_labels, predicted))"
      ],
      "execution_count": 0,
      "outputs": [
        {
          "output_type": "stream",
          "text": [
            "              precision    recall  f1-score   support\n",
            "\n",
            "           0       0.98      0.97      0.97       600\n",
            "           1       0.43      0.52      0.47        29\n",
            "\n",
            "    accuracy                           0.95       629\n",
            "   macro avg       0.70      0.74      0.72       629\n",
            "weighted avg       0.95      0.95      0.95       629\n",
            "\n",
            "[[580  20]\n",
            " [ 14  15]]\n"
          ],
          "name": "stdout"
        }
      ]
    },
    {
      "cell_type": "code",
      "metadata": {
        "id": "94u5JWhv2Upr",
        "colab_type": "code",
        "outputId": "ad4f32ab-9f3e-4e98-a2ab-f76a9eb1fa57",
        "colab": {
          "base_uri": "https://localhost:8080/",
          "height": 86
        }
      },
      "source": [
        "print(classifier.theta_)\n",
        "print(classifier.sigma_)"
      ],
      "execution_count": 0,
      "outputs": [
        {
          "output_type": "stream",
          "text": [
            "[[  45.84110515  100.77865289 -104.29624251]\n",
            " [ 170.34183228  454.66306885 -505.08283279]]\n",
            "[[  2363.85365271   6872.65210313   9946.5444311 ]\n",
            " [  4193.17232083  41686.69847436 104052.68227339]]\n"
          ],
          "name": "stdout"
        }
      ]
    },
    {
      "cell_type": "markdown",
      "metadata": {
        "id": "8vY8KMeRMvSP",
        "colab_type": "text"
      },
      "source": [
        "Look into sigma/theta"
      ]
    },
    {
      "cell_type": "markdown",
      "metadata": {
        "id": "vAz5ouai3EOy",
        "colab_type": "text"
      },
      "source": [
        "#### Improve Gaussian Naive Bayes through hyperparameter tuning"
      ]
    },
    {
      "cell_type": "code",
      "metadata": {
        "id": "LGTB5-3o1IS1",
        "colab_type": "code",
        "outputId": "d535a131-30c0-4f87-8f65-b7104b108938",
        "colab": {
          "base_uri": "https://localhost:8080/",
          "height": 243
        }
      },
      "source": [
        "def GridSearch_Model(hyperprmtrs, model):\n",
        "\n",
        "\n",
        "  ## Grid search classifier \n",
        "  gridsearch = GridSearchCV(model, hyperprmtrs, cv=3)\n",
        "  gridsearch.fit(training_measures, train_labels)\n",
        "  grid_predict = gridsearch.predict(testing_measures)\n",
        "\n",
        "  #report accuracy\n",
        "  accuracy = classification_report(grid_predict, test_labels)\n",
        "  modelscore = gridsearch.score(testing_measures, test_labels)\n",
        "  print (\"Accuracy of the classifier: %.3f\\n\\n %s\" %(modelscore, accuracy))\n",
        "  print(confusion_matrix(test_labels, grid_predict))\n",
        "\n",
        "  return gridsearch\n",
        "\n",
        "\n",
        "hyperprmtrs = {'var_smoothing': [0.000001, 0.00001, 0.0001, 0.001, 0.01, 0.1, 1, 4, 10]}\n",
        "nb = GridSearch_Model(hyperprmtrs, GaussianNB())\n"
      ],
      "execution_count": 0,
      "outputs": [
        {
          "output_type": "stream",
          "text": [
            "Accuracy of the classifier: 0.965\n",
            "\n",
            "               precision    recall  f1-score   support\n",
            "\n",
            "           0       0.99      0.97      0.98       614\n",
            "           1       0.38      0.73      0.50        15\n",
            "\n",
            "    accuracy                           0.97       629\n",
            "   macro avg       0.69      0.85      0.74       629\n",
            "weighted avg       0.98      0.97      0.97       629\n",
            "\n",
            "[[596   4]\n",
            " [ 18  11]]\n"
          ],
          "name": "stdout"
        }
      ]
    },
    {
      "cell_type": "markdown",
      "metadata": {
        "id": "ceRleBdF3LQR",
        "colab_type": "text"
      },
      "source": [
        "Accuracy gain of 2% points by using var_smooting value of 1. However there are actually less seizures correctly classified so it is recommendded that var_smoothing is left at the defult value of 1e-9."
      ]
    },
    {
      "cell_type": "code",
      "metadata": {
        "id": "KuDBebl124s3",
        "colab_type": "code",
        "outputId": "47bb56c1-7b26-4772-c901-b0b0b217c803",
        "colab": {
          "base_uri": "https://localhost:8080/",
          "height": 69
        }
      },
      "source": [
        "np.set_printoptions(precision=3)\n",
        "print (nb.best_params_)\n",
        "print (hyperprmtrs)\n",
        "print (nb.cv_results_['mean_test_score'])"
      ],
      "execution_count": 0,
      "outputs": [
        {
          "output_type": "stream",
          "text": [
            "{'var_smoothing': 1}\n",
            "{'var_smoothing': [1e-06, 1e-05, 0.0001, 0.001, 0.01, 0.1, 1, 4, 10]}\n",
            "[0.953 0.953 0.953 0.953 0.953 0.955 0.964 0.959 0.951]\n"
          ],
          "name": "stdout"
        }
      ]
    },
    {
      "cell_type": "markdown",
      "metadata": {
        "id": "ktx-mhVsRLKP",
        "colab_type": "text"
      },
      "source": [
        "The accuracy of the model using the extracted features of max, min and standard deviation of each one sec clip were extracted and used to train a Gaussain Naive Bayes model. This approach performs poorly on the ictal data with >50% f1_score. \n",
        "\n",
        "This may be a result of much greater number of interictal samples than ictal samples, skewing the bias of the model labels. This was corrected in the next iteration of the model to try and improve the accuracy."
      ]
    },
    {
      "cell_type": "markdown",
      "metadata": {
        "id": "TnAw-wBb0CS1",
        "colab_type": "text"
      },
      "source": [
        "### Regression Model"
      ]
    },
    {
      "cell_type": "code",
      "metadata": {
        "id": "d1XMepkrPMSp",
        "colab_type": "code",
        "outputId": "9e6b42b2-5866-4be3-e3d5-162bd5897e36",
        "colab": {
          "base_uri": "https://localhost:8080/",
          "height": 399
        }
      },
      "source": [
        "#Try Logistic Regression\n",
        "from sklearn.linear_model import LogisticRegression\n",
        "# SK-learn libraries for evaluation.\n",
        "from sklearn.metrics import confusion_matrix\n",
        "from sklearn import metrics\n",
        "\n",
        "training_measures = [[x.stddev, x.max, x.min] for x in train_data]\n",
        "testing_measures = [[x.stddev, x.max, x.min] for x in test_data]\n",
        "\n",
        "lgr = LogisticRegression()\n",
        "lgr.fit(training_measures, train_labels)\n",
        "lgr_predictions = lgr.predict(testing_measures)\n",
        "\n",
        "f1Score = metrics.f1_score(test_labels,lgr_predictions,average='weighted')\n",
        "#f1score.append(f1Score)\n",
        "print(\"F1-score: %3.4f\" %(f1Score))\n",
        "\n",
        "\n",
        "model_results_dict = model_score(test_labels, lgr_predictions, 'LogisticRegression')"
      ],
      "execution_count": 0,
      "outputs": [
        {
          "output_type": "stream",
          "text": [
            "F1-score: 0.9597\n",
            "\n",
            " LogisticRegression Classification Report\n",
            "\n",
            "              precision    recall  f1-score   support\n",
            "\n",
            "           0       0.97      0.99      0.98       600\n",
            "           1       0.73      0.38      0.50        29\n",
            "\n",
            "    accuracy                           0.97       629\n",
            "   macro avg       0.85      0.69      0.74       629\n",
            "weighted avg       0.96      0.97      0.96       629\n",
            "\n",
            "\n",
            "Confusion Matrix:\n",
            "\n",
            "[[596   4]\n",
            " [ 18  11]]\n"
          ],
          "name": "stdout"
        },
        {
          "output_type": "stream",
          "text": [
            "/usr/local/lib/python3.6/dist-packages/sklearn/linear_model/logistic.py:432: FutureWarning:\n",
            "\n",
            "Default solver will be changed to 'lbfgs' in 0.22. Specify a solver to silence this warning.\n",
            "\n"
          ],
          "name": "stderr"
        }
      ]
    },
    {
      "cell_type": "markdown",
      "metadata": {
        "id": "08kuUDywywM-",
        "colab_type": "text"
      },
      "source": [
        "## Balancing Training data: ictal versus interictal\n",
        "\n",
        "Using the Gaussian Naive Bayes - stddev, max, min features model we varied the proportion of ictal versus interictal data in the training data. "
      ]
    },
    {
      "cell_type": "code",
      "metadata": {
        "id": "ZqkWoz-1SvIZ",
        "colab_type": "code",
        "outputId": "45adac29-7469-4a50-b072-5a43fd79ded0",
        "colab": {
          "base_uri": "https://localhost:8080/",
          "height": 300
        }
      },
      "source": [
        "ratios = []\n",
        "ictal_f1s = []\n",
        "interictal_f1s = []\n",
        "accuracies = []\n",
        "\n",
        "for ii in [30, 50, 80, 100, 120, 130,  170, 200, 300, 400, 500, 600, 700, 800, 900, 1000, 1500, 2000, 3000]:\n",
        "\n",
        "  p2_balanced = np.concatenate([p2_interictal[:ii], p2_ictal], axis = 0)\n",
        "\n",
        "  ratio = len(p2_ictal)/(len(p2_interictal[:ii])+len(p2_ictal))\n",
        "\n",
        "  p2_all_measurements = [x[0] for x in p2_balanced]\n",
        "\n",
        "  p2_all_labels = [m.class_type for m in p2_all_measurements]\n",
        "\n",
        "  train_data, test_data, train_labels, test_labels = train_test_split( \\\n",
        "    p2_all_measurements, p2_all_labels, test_size = 0.2, random_state = 0, shuffle = True \\\n",
        "  )\n",
        "\n",
        "\n",
        "  training_measures = [[x.stddev, x.max, x.min] for x in train_data]\n",
        "  testing_measures = [[x.stddev, x.max, x.min] for x in test_data]\n",
        "  \n",
        "  classifier = GaussianNB()\n",
        "  classifier.fit(training_measures, train_labels)\n",
        "  predicted = classifier.predict(testing_measures)\n",
        "  interictal_f1 = f1_score(test_labels, predicted, average = 'binary', pos_label = 'interictal')\n",
        "  ictal_f1 = f1_score(test_labels, predicted, average = 'binary', pos_label = 'ictal')\n",
        "  accuracy = accuracy_score(test_labels, predicted)\n",
        "#   print(classification_report(test_labels, predicted))\n",
        "  \n",
        "  ratios.append(ratio)\n",
        "  ictal_f1s.append(ictal_f1)\n",
        "  interictal_f1s.append(interictal_f1)\n",
        "  accuracies.append(accuracy)\n",
        "  \n",
        "plt.plot(ratios, ictal_f1s, label = 'ictal')\n",
        "plt.plot(ratios, interictal_f1s, label = 'interictal')\n",
        "plt.plot(ratios, accuracies, label = 'model accuracy')\n",
        "plt.legend()\n",
        "plt.xlabel('% of training data that was ictal')\n",
        "plt.ylabel('f1 score or accuracy')"
      ],
      "execution_count": 0,
      "outputs": [
        {
          "output_type": "execute_result",
          "data": {
            "text/plain": [
              "Text(0, 0.5, 'f1 score or accuracy')"
            ]
          },
          "metadata": {
            "tags": []
          },
          "execution_count": 24
        },
        {
          "output_type": "display_data",
          "data": {
            "image/png": "[encoded data removed]",
            "text/plain": [
              "<Figure size 432x288 with 1 Axes>"
            ]
          },
          "metadata": {
            "tags": []
          }
        }
      ]
    },
    {
      "cell_type": "markdown",
      "metadata": {
        "id": "Npnv749Kfyes",
        "colab_type": "text"
      },
      "source": [
        "It is evident that the skewed ratio of training data is having an effect on the Gaussian Model accuracy. As the ratio becomes closer to 2:1 interictal:ictal data the accuracy for the ictal data improves. Beyond this the performance becomes unstable whichi may be reflective of too little training data."
      ]
    },
    {
      "cell_type": "markdown",
      "metadata": {
        "id": "NX8w9q6i0ppp",
        "colab_type": "text"
      },
      "source": [
        "### Create more ictal data to improve model performance"
      ]
    },
    {
      "cell_type": "code",
      "metadata": {
        "id": "p2NLQ2Gtg4Ve",
        "colab_type": "code",
        "colab": {}
      },
      "source": [
        "### add some code here and re-run Gaussian"
      ],
      "execution_count": 0,
      "outputs": []
    },
    {
      "cell_type": "markdown",
      "metadata": {
        "id": "mIR8Z9_MINsn",
        "colab_type": "text"
      },
      "source": [
        "### Dimensionality Reduction with PCA\n",
        "add some code to try dimensionality reduction as well as some visulisation of both the data clusters and the %variance caputred as N increases. Similar to Q2 and 3 in Project 3"
      ]
    },
    {
      "cell_type": "markdown",
      "metadata": {
        "id": "fOhT4uPuN3-i",
        "colab_type": "text"
      },
      "source": [
        "PCA on 2 label dataset"
      ]
    },
    {
      "cell_type": "code",
      "metadata": {
        "id": "e2Chvu9h450S",
        "colab_type": "code",
        "outputId": "17324485-4721-4d80-eb17-610be9b1db77",
        "colab": {
          "base_uri": "https://localhost:8080/",
          "height": 156
        }
      },
      "source": [
        "train_data, test_data, train_labels, test_labels = ml_utl.get_raw_train_test_split(\n",
        "    abs_data_pathname, data.SUBJECT_PATIENT, 2, flattened = True\n",
        ")"
      ],
      "execution_count": 0,
      "outputs": [
        {
          "output_type": "stream",
          "text": [
            "Loading pickled segment data: /content/drive/My Drive/MIDS/W207/Final Project/data/pickled/Patient_2_ictal_as_raw_data.pickle\n",
            "Loading pickled segment data: /content/drive/My Drive/MIDS/W207/Final Project/data/pickled/Patient_2_interictal_as_raw_data.pickle\n",
            "Confirming lengths of data:\n",
            "- Source of training and test data: 3140\n",
            "- Training data: (2512, 80000)\n",
            "- Training labels: 2512\n",
            "- Test data: (628, 80000)\n",
            "- Test labels: 628\n"
          ],
          "name": "stdout"
        }
      ]
    },
    {
      "cell_type": "code",
      "metadata": {
        "id": "O5nQcv70qfvO",
        "colab_type": "code",
        "outputId": "196d79dc-a8b7-4b7c-b5f2-310f157aa54a",
        "colab": {
          "base_uri": "https://localhost:8080/",
          "height": 642
        }
      },
      "source": [
        "def scatter_fit(data_set, data_labels, title_text):\n",
        "    pca = PCA(n_components=2)\n",
        "    data_2D = pca.fit_transform(data_set)\n",
        "  \n",
        "    \n",
        "    positive_pca = data_2D[data_labels == 1]\n",
        "    print(positive_pca.shape)\n",
        "    negative_pca = data_2D[data_labels == 0]\n",
        "    print(negative_pca.shape)\n",
        "    positive = plt.scatter(positive_pca[:, 0], positive_pca[:, 1],facecolor='red',marker=\".\")\n",
        "    negative = plt.scatter(negative_pca[:, 0], negative_pca[:, 1],facecolor='yellow',marker=\".\")\n",
        "    # Plot legends for scatterplot\n",
        "    plt.legend((positive,negative),\n",
        "           ('positive', 'negative'),\n",
        "           scatterpoints=1,\n",
        "           loc='upper left')\n",
        "    plt.xlabel(\"1st principal comp score\")\n",
        "    plt.ylabel('2nd principal comp score')\n",
        "    plt.title(\"{} data projection to 2 dimensional space\".format(title_text))\n",
        "    plt.show()\n",
        "    \n",
        "scatter_fit(train_data, train_labels, 'Training')\n",
        "scatter_fit(test_data, test_labels, 'Test')"
      ],
      "execution_count": 0,
      "outputs": [
        {
          "output_type": "stream",
          "text": [
            "(124, 2)\n",
            "(2388, 2)\n"
          ],
          "name": "stdout"
        },
        {
          "output_type": "display_data",
          "data": {
            "image/png": "[encoded data removed]",
            "text/plain": [
              "<Figure size 432x288 with 1 Axes>"
            ]
          },
          "metadata": {
            "tags": []
          }
        },
        {
          "output_type": "stream",
          "text": [
            "(27, 2)\n",
            "(601, 2)\n"
          ],
          "name": "stdout"
        },
        {
          "output_type": "display_data",
          "data": {
            "image/png": "[encoded data removed]",
            "text/plain": [
              "<Figure size 432x288 with 1 Axes>"
            ]
          },
          "metadata": {
            "tags": []
          }
        }
      ]
    },
    {
      "cell_type": "code",
      "metadata": {
        "id": "69pbn3rM9Quf",
        "colab_type": "code",
        "outputId": "00a1912c-6718-49ad-fe4d-d3270ba0b244",
        "colab": {
          "base_uri": "https://localhost:8080/",
          "height": 573
        }
      },
      "source": [
        "def explained_variance(train_data, ks):\n",
        "\n",
        "  explained_var = []\n",
        "  k_list = []\n",
        "  for k in ks:\n",
        "    n_comp = k\n",
        "    pca_mod = PCA(n_components = n_comp)\n",
        "    pca_mod.fit(train_data)\n",
        "    \n",
        "    k_list.append(n_comp)\n",
        "    explained_var.append(sum(pca_mod.explained_variance_ratio_))\n",
        "    \n",
        "    \n",
        "    print('k: ', k,'-- Explained variance ratio:', sum(pca_mod.explained_variance_ratio_) )\n",
        "                         \n",
        "  plt.scatter(x=k_list, y = explained_var)\n",
        "\n",
        "  \n",
        "  \n",
        "# get full raw data set, flattened  only ictal, interictal labels\n",
        "train_data, test_data, train_labels, test_labels = ml_utl.get_raw_train_test_split(\n",
        "    abs_data_pathname, data.SUBJECT_PATIENT, subject_number = 2, reduced_set = False, early_ictal_label = False, flattened = True\n",
        ")\n",
        "\n",
        "#list of k-dimensions for PCA\n",
        "ks=[5,10,50,100, 150, 200, 400, 600, 800, 1000]\n",
        "\n",
        "explained_variance(train_data, ks)"
      ],
      "execution_count": 0,
      "outputs": [
        {
          "output_type": "stream",
          "text": [
            "Loading pickled segment data: /content/drive/My Drive/MIDS/W207/Final Project/data/pickled/Patient_2_ictal_as_raw_data.pickle\n",
            "Loading pickled segment data: /content/drive/My Drive/MIDS/W207/Final Project/data/pickled/Patient_2_interictal_as_raw_data.pickle\n",
            "Confirming lengths of data:\n",
            "- Source of training and test data: 3140\n",
            "- Training data: (2512, 80000)\n",
            "- Training labels: 2512\n",
            "- Test data: (628, 80000)\n",
            "- Test labels: 628\n",
            "k:  5 -- Explained variance ratio: 0.5471602621088042\n",
            "k:  10 -- Explained variance ratio: 0.6646673327326127\n",
            "k:  50 -- Explained variance ratio: 0.8790929138163547\n",
            "k:  100 -- Explained variance ratio: 0.9425939951489466\n",
            "k:  150 -- Explained variance ratio: 0.9666700467898147\n"
          ],
          "name": "stdout"
        },
        {
          "output_type": "error",
          "ename": "KeyboardInterrupt",
          "evalue": "ignored",
          "traceback": [
            "\u001b[0;31m---------------------------------------------------------------------------\u001b[0m",
            "\u001b[0;31mKeyboardInterrupt\u001b[0m                         Traceback (most recent call last)",
            "\u001b[0;32m<ipython-input-28-c41006fde1ef>\u001b[0m in \u001b[0;36m<module>\u001b[0;34m()\u001b[0m\n\u001b[1;32m     26\u001b[0m \u001b[0mks\u001b[0m\u001b[0;34m=\u001b[0m\u001b[0;34m[\u001b[0m\u001b[0;36m5\u001b[0m\u001b[0;34m,\u001b[0m\u001b[0;36m10\u001b[0m\u001b[0;34m,\u001b[0m\u001b[0;36m50\u001b[0m\u001b[0;34m,\u001b[0m\u001b[0;36m100\u001b[0m\u001b[0;34m,\u001b[0m \u001b[0;36m150\u001b[0m\u001b[0;34m,\u001b[0m \u001b[0;36m200\u001b[0m\u001b[0;34m,\u001b[0m \u001b[0;36m400\u001b[0m\u001b[0;34m,\u001b[0m \u001b[0;36m600\u001b[0m\u001b[0;34m,\u001b[0m \u001b[0;36m800\u001b[0m\u001b[0;34m,\u001b[0m \u001b[0;36m1000\u001b[0m\u001b[0;34m]\u001b[0m\u001b[0;34m\u001b[0m\u001b[0;34m\u001b[0m\u001b[0m\n\u001b[1;32m     27\u001b[0m \u001b[0;34m\u001b[0m\u001b[0m\n\u001b[0;32m---> 28\u001b[0;31m \u001b[0mexplained_variance\u001b[0m\u001b[0;34m(\u001b[0m\u001b[0mtrain_data\u001b[0m\u001b[0;34m,\u001b[0m \u001b[0mks\u001b[0m\u001b[0;34m)\u001b[0m\u001b[0;34m\u001b[0m\u001b[0;34m\u001b[0m\u001b[0m\n\u001b[0m",
            "\u001b[0;32m<ipython-input-28-c41006fde1ef>\u001b[0m in \u001b[0;36mexplained_variance\u001b[0;34m(train_data, ks)\u001b[0m\n\u001b[1;32m      6\u001b[0m     \u001b[0mn_comp\u001b[0m \u001b[0;34m=\u001b[0m \u001b[0mk\u001b[0m\u001b[0;34m\u001b[0m\u001b[0;34m\u001b[0m\u001b[0m\n\u001b[1;32m      7\u001b[0m     \u001b[0mpca_mod\u001b[0m \u001b[0;34m=\u001b[0m \u001b[0mPCA\u001b[0m\u001b[0;34m(\u001b[0m\u001b[0mn_components\u001b[0m \u001b[0;34m=\u001b[0m \u001b[0mn_comp\u001b[0m\u001b[0;34m)\u001b[0m\u001b[0;34m\u001b[0m\u001b[0;34m\u001b[0m\u001b[0m\n\u001b[0;32m----> 8\u001b[0;31m     \u001b[0mpca_mod\u001b[0m\u001b[0;34m.\u001b[0m\u001b[0mfit\u001b[0m\u001b[0;34m(\u001b[0m\u001b[0mtrain_data\u001b[0m\u001b[0;34m)\u001b[0m\u001b[0;34m\u001b[0m\u001b[0;34m\u001b[0m\u001b[0m\n\u001b[0m\u001b[1;32m      9\u001b[0m \u001b[0;34m\u001b[0m\u001b[0m\n\u001b[1;32m     10\u001b[0m     \u001b[0mk_list\u001b[0m\u001b[0;34m.\u001b[0m\u001b[0mappend\u001b[0m\u001b[0;34m(\u001b[0m\u001b[0mn_comp\u001b[0m\u001b[0;34m)\u001b[0m\u001b[0;34m\u001b[0m\u001b[0;34m\u001b[0m\u001b[0m\n",
            "\u001b[0;32m/usr/local/lib/python3.6/dist-packages/sklearn/decomposition/pca.py\u001b[0m in \u001b[0;36mfit\u001b[0;34m(self, X, y)\u001b[0m\n\u001b[1;32m    339\u001b[0m             \u001b[0mReturns\u001b[0m \u001b[0mthe\u001b[0m \u001b[0minstance\u001b[0m \u001b[0mitself\u001b[0m\u001b[0;34m.\u001b[0m\u001b[0;34m\u001b[0m\u001b[0;34m\u001b[0m\u001b[0m\n\u001b[1;32m    340\u001b[0m         \"\"\"\n\u001b[0;32m--> 341\u001b[0;31m         \u001b[0mself\u001b[0m\u001b[0;34m.\u001b[0m\u001b[0m_fit\u001b[0m\u001b[0;34m(\u001b[0m\u001b[0mX\u001b[0m\u001b[0;34m)\u001b[0m\u001b[0;34m\u001b[0m\u001b[0;34m\u001b[0m\u001b[0m\n\u001b[0m\u001b[1;32m    342\u001b[0m         \u001b[0;32mreturn\u001b[0m \u001b[0mself\u001b[0m\u001b[0;34m\u001b[0m\u001b[0;34m\u001b[0m\u001b[0m\n\u001b[1;32m    343\u001b[0m \u001b[0;34m\u001b[0m\u001b[0m\n",
            "\u001b[0;32m/usr/local/lib/python3.6/dist-packages/sklearn/decomposition/pca.py\u001b[0m in \u001b[0;36m_fit\u001b[0;34m(self, X)\u001b[0m\n\u001b[1;32m    407\u001b[0m             \u001b[0;32mreturn\u001b[0m \u001b[0mself\u001b[0m\u001b[0;34m.\u001b[0m\u001b[0m_fit_full\u001b[0m\u001b[0;34m(\u001b[0m\u001b[0mX\u001b[0m\u001b[0;34m,\u001b[0m \u001b[0mn_components\u001b[0m\u001b[0;34m)\u001b[0m\u001b[0;34m\u001b[0m\u001b[0;34m\u001b[0m\u001b[0m\n\u001b[1;32m    408\u001b[0m         \u001b[0;32melif\u001b[0m \u001b[0mself\u001b[0m\u001b[0;34m.\u001b[0m\u001b[0m_fit_svd_solver\u001b[0m \u001b[0;32min\u001b[0m \u001b[0;34m[\u001b[0m\u001b[0;34m'arpack'\u001b[0m\u001b[0;34m,\u001b[0m \u001b[0;34m'randomized'\u001b[0m\u001b[0;34m]\u001b[0m\u001b[0;34m:\u001b[0m\u001b[0;34m\u001b[0m\u001b[0;34m\u001b[0m\u001b[0m\n\u001b[0;32m--> 409\u001b[0;31m             \u001b[0;32mreturn\u001b[0m \u001b[0mself\u001b[0m\u001b[0;34m.\u001b[0m\u001b[0m_fit_truncated\u001b[0m\u001b[0;34m(\u001b[0m\u001b[0mX\u001b[0m\u001b[0;34m,\u001b[0m \u001b[0mn_components\u001b[0m\u001b[0;34m,\u001b[0m \u001b[0mself\u001b[0m\u001b[0;34m.\u001b[0m\u001b[0m_fit_svd_solver\u001b[0m\u001b[0;34m)\u001b[0m\u001b[0;34m\u001b[0m\u001b[0;34m\u001b[0m\u001b[0m\n\u001b[0m\u001b[1;32m    410\u001b[0m         \u001b[0;32melse\u001b[0m\u001b[0;34m:\u001b[0m\u001b[0;34m\u001b[0m\u001b[0;34m\u001b[0m\u001b[0m\n\u001b[1;32m    411\u001b[0m             raise ValueError(\"Unrecognized svd_solver='{0}'\"\n",
            "\u001b[0;32m/usr/local/lib/python3.6/dist-packages/sklearn/decomposition/pca.py\u001b[0m in \u001b[0;36m_fit_truncated\u001b[0;34m(self, X, n_components, svd_solver)\u001b[0m\n\u001b[1;32m    524\u001b[0m                                      \u001b[0mn_iter\u001b[0m\u001b[0;34m=\u001b[0m\u001b[0mself\u001b[0m\u001b[0;34m.\u001b[0m\u001b[0miterated_power\u001b[0m\u001b[0;34m,\u001b[0m\u001b[0;34m\u001b[0m\u001b[0;34m\u001b[0m\u001b[0m\n\u001b[1;32m    525\u001b[0m                                      \u001b[0mflip_sign\u001b[0m\u001b[0;34m=\u001b[0m\u001b[0;32mTrue\u001b[0m\u001b[0;34m,\u001b[0m\u001b[0;34m\u001b[0m\u001b[0;34m\u001b[0m\u001b[0m\n\u001b[0;32m--> 526\u001b[0;31m                                      random_state=random_state)\n\u001b[0m\u001b[1;32m    527\u001b[0m \u001b[0;34m\u001b[0m\u001b[0m\n\u001b[1;32m    528\u001b[0m         \u001b[0mself\u001b[0m\u001b[0;34m.\u001b[0m\u001b[0mn_samples_\u001b[0m\u001b[0;34m,\u001b[0m \u001b[0mself\u001b[0m\u001b[0;34m.\u001b[0m\u001b[0mn_features_\u001b[0m \u001b[0;34m=\u001b[0m \u001b[0mn_samples\u001b[0m\u001b[0;34m,\u001b[0m \u001b[0mn_features\u001b[0m\u001b[0;34m\u001b[0m\u001b[0;34m\u001b[0m\u001b[0m\n",
            "\u001b[0;32m/usr/local/lib/python3.6/dist-packages/sklearn/utils/extmath.py\u001b[0m in \u001b[0;36mrandomized_svd\u001b[0;34m(M, n_components, n_oversamples, n_iter, power_iteration_normalizer, transpose, flip_sign, random_state)\u001b[0m\n\u001b[1;32m    332\u001b[0m \u001b[0;34m\u001b[0m\u001b[0m\n\u001b[1;32m    333\u001b[0m     Q = randomized_range_finder(M, n_random, n_iter,\n\u001b[0;32m--> 334\u001b[0;31m                                 power_iteration_normalizer, random_state)\n\u001b[0m\u001b[1;32m    335\u001b[0m \u001b[0;34m\u001b[0m\u001b[0m\n\u001b[1;32m    336\u001b[0m     \u001b[0;31m# project M to the (k + p) dimensional space using the basis vectors\u001b[0m\u001b[0;34m\u001b[0m\u001b[0;34m\u001b[0m\u001b[0;34m\u001b[0m\u001b[0m\n",
            "\u001b[0;32m/usr/local/lib/python3.6/dist-packages/sklearn/utils/extmath.py\u001b[0m in \u001b[0;36mrandomized_range_finder\u001b[0;34m(A, size, n_iter, power_iteration_normalizer, random_state)\u001b[0m\n\u001b[1;32m    224\u001b[0m     \u001b[0;31m# Sample the range of A using by linear projection of Q\u001b[0m\u001b[0;34m\u001b[0m\u001b[0;34m\u001b[0m\u001b[0;34m\u001b[0m\u001b[0m\n\u001b[1;32m    225\u001b[0m     \u001b[0;31m# Extract an orthonormal basis\u001b[0m\u001b[0;34m\u001b[0m\u001b[0;34m\u001b[0m\u001b[0;34m\u001b[0m\u001b[0m\n\u001b[0;32m--> 226\u001b[0;31m     \u001b[0mQ\u001b[0m\u001b[0;34m,\u001b[0m \u001b[0m_\u001b[0m \u001b[0;34m=\u001b[0m \u001b[0mlinalg\u001b[0m\u001b[0;34m.\u001b[0m\u001b[0mqr\u001b[0m\u001b[0;34m(\u001b[0m\u001b[0msafe_sparse_dot\u001b[0m\u001b[0;34m(\u001b[0m\u001b[0mA\u001b[0m\u001b[0;34m,\u001b[0m \u001b[0mQ\u001b[0m\u001b[0;34m)\u001b[0m\u001b[0;34m,\u001b[0m \u001b[0mmode\u001b[0m\u001b[0;34m=\u001b[0m\u001b[0;34m'economic'\u001b[0m\u001b[0;34m)\u001b[0m\u001b[0;34m\u001b[0m\u001b[0;34m\u001b[0m\u001b[0m\n\u001b[0m\u001b[1;32m    227\u001b[0m     \u001b[0;32mreturn\u001b[0m \u001b[0mQ\u001b[0m\u001b[0;34m\u001b[0m\u001b[0;34m\u001b[0m\u001b[0m\n\u001b[1;32m    228\u001b[0m \u001b[0;34m\u001b[0m\u001b[0m\n",
            "\u001b[0;32m/usr/local/lib/python3.6/dist-packages/sklearn/utils/extmath.py\u001b[0m in \u001b[0;36msafe_sparse_dot\u001b[0;34m(a, b, dense_output)\u001b[0m\n\u001b[1;32m    140\u001b[0m         \u001b[0;32mreturn\u001b[0m \u001b[0mret\u001b[0m\u001b[0;34m\u001b[0m\u001b[0;34m\u001b[0m\u001b[0m\n\u001b[1;32m    141\u001b[0m     \u001b[0;32melse\u001b[0m\u001b[0;34m:\u001b[0m\u001b[0;34m\u001b[0m\u001b[0;34m\u001b[0m\u001b[0m\n\u001b[0;32m--> 142\u001b[0;31m         \u001b[0;32mreturn\u001b[0m \u001b[0mnp\u001b[0m\u001b[0;34m.\u001b[0m\u001b[0mdot\u001b[0m\u001b[0;34m(\u001b[0m\u001b[0ma\u001b[0m\u001b[0;34m,\u001b[0m \u001b[0mb\u001b[0m\u001b[0;34m)\u001b[0m\u001b[0;34m\u001b[0m\u001b[0;34m\u001b[0m\u001b[0m\n\u001b[0m\u001b[1;32m    143\u001b[0m \u001b[0;34m\u001b[0m\u001b[0m\n\u001b[1;32m    144\u001b[0m \u001b[0;34m\u001b[0m\u001b[0m\n",
            "\u001b[0;31mKeyboardInterrupt\u001b[0m: "
          ]
        }
      ]
    },
    {
      "cell_type": "markdown",
      "metadata": {
        "id": "dqJZjI3c6oAO",
        "colab_type": "text"
      },
      "source": [
        "Try GaussiannNB with PCA"
      ]
    },
    {
      "cell_type": "code",
      "metadata": {
        "id": "USfhzTFN5yLC",
        "colab_type": "code",
        "colab": {}
      },
      "source": [
        "k=600\n",
        "  \n",
        "model_pipeline=Pipeline([('compression',  PCA(n_components = k)), \n",
        "                        ('classifier', \n",
        "                         GaussianNB())])\n",
        "\n",
        "\n",
        "model_pipeline.fit(train_data, train_labels)\n",
        "\n"
      ],
      "execution_count": 0,
      "outputs": []
    },
    {
      "cell_type": "code",
      "metadata": {
        "id": "PojJKVoi6cba",
        "colab_type": "code",
        "colab": {}
      },
      "source": [
        "predicted = model_pipeline.predict(test_data)\n",
        "\n",
        "\n",
        "model_results_dict = model_score(test_labels, predicted, 'PCA_600_GaussianNB' )"
      ],
      "execution_count": 0,
      "outputs": []
    },
    {
      "cell_type": "markdown",
      "metadata": {
        "id": "wouPf2Uz6ds7",
        "colab_type": "text"
      },
      "source": [
        "Try RandomForrestRegressor"
      ]
    },
    {
      "cell_type": "code",
      "metadata": {
        "id": "R8AN7KyP-9wc",
        "colab_type": "code",
        "colab": {}
      },
      "source": [
        "## warning slow to train --uncomment to run\n",
        "\n",
        "\n",
        "k=600\n",
        "  \n",
        "model_pipeline=Pipeline([('compression',  PCA(n_components = k)), \n",
        "                        ('classifier', \n",
        "                         RandomForestRegressor(n_estimators=3000,\n",
        "                                               min_samples_split=2, \n",
        "                                               bootstrap=False, \n",
        "                                               n_jobs=4, \n",
        "                                               random_state=0))])\n",
        "  \n",
        "model_pipeline.fit(train_data,train_labels)\n",
        "  \n",
        "print('train complete!')\n",
        "predicted = model_pipeline.predict(test_data)\n",
        "plt.scatter(predicted, test_labels)  \n",
        "\n",
        "\n",
        "model_results_dict = model_score(test_labels, predicted, 'PCA_600_RandForestReg' )\n",
        "\n",
        "# save the model to disk\n",
        "filename = 'PCA_600_RandForestReg.sav'\n",
        "pickle.dump(model_pipeline, open(filename, 'wb'))"
      ],
      "execution_count": 0,
      "outputs": []
    },
    {
      "cell_type": "code",
      "metadata": {
        "id": "OUmlN0h5B8qB",
        "colab_type": "code",
        "colab": {}
      },
      "source": [
        ""
      ],
      "execution_count": 0,
      "outputs": []
    },
    {
      "cell_type": "markdown",
      "metadata": {
        "id": "sDtXFWsNOw-R",
        "colab_type": "text"
      },
      "source": [
        "Steph =- Add confusion matrix and classification report (use ml_utl.assign_predicted_labels())"
      ]
    },
    {
      "cell_type": "markdown",
      "metadata": {
        "id": "jAtzQj_KN1k_",
        "colab_type": "text"
      },
      "source": [
        "PCA on 3 label dataset"
      ]
    },
    {
      "cell_type": "code",
      "metadata": {
        "id": "gvDU9sFw4P3T",
        "colab_type": "code",
        "colab": {}
      },
      "source": [
        "\n",
        "\n",
        "## warning slow to train --uncomment to run\n",
        "\n",
        "get full raw data set, flattened , early ictal, ictal and interictal labels\n",
        "train_data, test_data, train_labels, test_labels = ml_utl.get_raw_train_test_split(\n",
        "    abs_data_pathname, data.SUBJECT_PATIENT, subject_number = 2, reduced_set = False, early_ictal_label = False, flattened = True\n",
        ")\n",
        "\n",
        "k=600\n",
        "  \n",
        "model_pipeline=Pipeline([('compression',  PCA(n_components = k)), \n",
        "                        ('classifier', \n",
        "                         RandomForestRegressor(n_estimators=3000,\n",
        "                                               min_samples_split=2, \n",
        "                                               bootstrap=False, \n",
        "                                               n_jobs=4, \n",
        "                                               random_state=0))])\n",
        "  \n",
        "model_pipeline.fit(train_data,train_labels)\n",
        "  \n",
        "print('train complete!')\n",
        "predicted = model_pipeline.predict(test_data)\n",
        "plt.scatter(predicted, test_labels) \n",
        "\n",
        "model_results_dict = model_score(test_labels, predicted, 'PCA_600_RandForestReg_early_ict' )\n",
        "\n",
        "# save the model to disk\n",
        "filename = 'PCA_600_RandForestReg_early_ict.sav'\n",
        "pickle.dump(model_pipeline, open(filename, 'wb'))"
      ],
      "execution_count": 0,
      "outputs": []
    },
    {
      "cell_type": "markdown",
      "metadata": {
        "id": "Qqc52UV5p2Wj",
        "colab_type": "text"
      },
      "source": [
        "Steph =- Add confusion matrix and classification report (use ml_utl.assign_predicted_labels())"
      ]
    },
    {
      "cell_type": "markdown",
      "metadata": {
        "id": "rbx09nuWhSS7",
        "colab_type": "text"
      },
      "source": [
        "## Michael Hills Winning Submission"
      ]
    },
    {
      "cell_type": "markdown",
      "metadata": {
        "id": "GKcvaaBbzcB1",
        "colab_type": "text"
      },
      "source": [
        "##### Code"
      ]
    },
    {
      "cell_type": "code",
      "metadata": {
        "id": "BybloUKpfMfw",
        "colab_type": "code",
        "colab": {}
      },
      "source": [
        "## MichaelHills/seizure-detection\n",
        "\n",
        "## Customised by StephMather as noted\n",
        "\n",
        "import numpy as np\n",
        "from scipy import signal\n",
        "from scipy.signal import resample, hann\n",
        "from sklearn import preprocessing\n",
        "\n",
        "\n",
        "\n",
        "# NOTE(mike): All transforms take in data of the shape (NUM_CHANNELS, NUM_FEATURES)\n",
        "# Although some have been written work on the last axis and may work on any-dimension data.\n",
        "\n",
        "\n",
        "class FFT:\n",
        "    \"\"\"\n",
        "    Apply Fast Fourier Transform to the last axis.\n",
        "    \"\"\"\n",
        "    def get_name(self):\n",
        "        return \"fft\"\n",
        "\n",
        "    def apply(self, data):\n",
        "        axis = data.ndim - 1\n",
        "        return np.fft.rfft(data, axis=axis)\n",
        "\n",
        "\n",
        "class Slice:\n",
        "    \"\"\"\n",
        "    Customised by StephMather\n",
        "    \n",
        "    Take a slice of the data on the last axis.\n",
        "    e.g. Slice(1, 48) works like a normal python slice, that is 1-47 will be taken\n",
        "    \"\"\"\n",
        "    def __init__(self, start, end):\n",
        "        self.start = start\n",
        "        self.end = end\n",
        "\n",
        "    def get_name(self):\n",
        "        return \"slice%d-%d\" % (self.start, self.end)\n",
        "\n",
        "    def apply(self, data):\n",
        "        s = [slice(None),] * data.ndim\n",
        "        s[-1] = slice(self.start, self.end)\n",
        "        s= tuple(s) # new line for future compatibility warning\n",
        "        return data[s]\n",
        "      \n",
        "      \n",
        "\n",
        "class LPF:\n",
        "    \"\"\"\n",
        "    Low-pass filter using FIR window\n",
        "    \"\"\"\n",
        "    def __init__(self, f):\n",
        "        self.f = f\n",
        "\n",
        "    def get_name(self):\n",
        "        return 'lpf%d' % self.f\n",
        "\n",
        "    def apply(self, data):\n",
        "        nyq = self.f / 2.0\n",
        "        cutoff = min(self.f, nyq-1)\n",
        "        h = signal.firwin(numtaps=101, cutoff=cutoff, nyq=nyq)\n",
        "\n",
        "        # data[i][ch][dim0]\n",
        "        for i in range(len(data)):\n",
        "            data_point = data[i]\n",
        "            for j in range(len(data_point)):\n",
        "                data_point[j] = signal.lfilter(h, 1.0, data_point[j])\n",
        "\n",
        "        return data\n",
        "\n",
        "\n",
        "class MFCC:\n",
        "    \"\"\"\n",
        "    Mel-frequency cepstrum coefficients\n",
        "    \"\"\"\n",
        "    def get_name(self):\n",
        "        return \"mfcc\"\n",
        "\n",
        "    def apply(self, data):\n",
        "        all_ceps = []\n",
        "        for ch in data:\n",
        "            ceps, mspec, spec = mfcc(ch)\n",
        "            all_ceps.append(ceps.ravel())\n",
        "\n",
        "        return np.array(all_ceps)\n",
        "\n",
        "\n",
        "class Magnitude:\n",
        "    \"\"\"\n",
        "    Take magnitudes of Complex data\n",
        "    \"\"\"\n",
        "    def get_name(self):\n",
        "        return \"mag\"\n",
        "\n",
        "    def apply(self, data):\n",
        "        return np.absolute(data)\n",
        "\n",
        "\n",
        "class MagnitudeAndPhase:\n",
        "    \"\"\"\n",
        "    Take the magnitudes and phases of complex data and append them together.\n",
        "    \"\"\"\n",
        "    def get_name(self):\n",
        "        return \"magphase\"\n",
        "\n",
        "    def apply(self, data):\n",
        "        magnitudes = np.absolute(data)\n",
        "        phases = np.angle(data)\n",
        "        return np.concatenate((magnitudes, phases), axis=1)\n",
        "\n",
        "\n",
        "class Log10:\n",
        "    \"\"\"\n",
        "    Apply Log10\n",
        "    \"\"\"\n",
        "    def get_name(self):\n",
        "        return \"log10\"\n",
        "\n",
        "    def apply(self, data):\n",
        "        # 10.0 * log10(re * re + im * im)\n",
        "        indices = np.where(data <= 0)\n",
        "        data[indices] = np.max(data)\n",
        "        data[indices] = (np.min(data) * 0.1)\n",
        "        return np.log10(data)\n",
        "\n",
        "\n",
        "\n",
        "class Resample:\n",
        "    \"\"\"\n",
        "    Resample time-series data.\n",
        "    \"\"\"\n",
        "    def __init__(self, sample_rate):\n",
        "        self.f = sample_rate\n",
        "\n",
        "    def get_name(self):\n",
        "        return \"resample%d\" % self.f\n",
        "\n",
        "    def apply(self, data):\n",
        "        axis = data.ndim - 1\n",
        "        if data.shape[-1] > self.f:\n",
        "            return resample(data, self.f, axis=axis)\n",
        "        return data\n",
        "\n",
        "\n",
        "class ResampleHanning:\n",
        "    \"\"\"\n",
        "    Resample time-series data using a Hanning window\n",
        "    \"\"\"\n",
        "    def __init__(self, sample_rate):\n",
        "        self.f = sample_rate\n",
        "\n",
        "    def get_name(self):\n",
        "        return \"resample%dhanning\" % self.f\n",
        "\n",
        "    def apply(self, data):\n",
        "        axis = data.ndim - 1\n",
        "        out = resample(data, self.f, axis=axis, window=hann(M=data.shape[axis]))\n",
        "        return out\n",
        "\n",
        "\n",
        "class DaubWaveletStats:\n",
        "    \"\"\"\n",
        "    Daubechies wavelet coefficients. For each block of co-efficients\n",
        "    take (mean, std, min, max)\n",
        "    \"\"\"\n",
        "    def __init__(self, n):\n",
        "        self.n = n\n",
        "\n",
        "    def get_name(self):\n",
        "        return \"dwtdb%dstats\" % self.n\n",
        "\n",
        "    def apply(self, data):\n",
        "        # data[ch][dim0]\n",
        "        shape = data.shape\n",
        "        out = np.empty((shape[0], 4 * (self.n * 2 + 1)), dtype=np.float64)\n",
        "\n",
        "        def set_stats(outi, x, offset):\n",
        "            outi[offset*4] = np.mean(x)\n",
        "            outi[offset*4+1] = np.std(x)\n",
        "            outi[offset*4+2] = np.min(x)\n",
        "            outi[offset*4+3] = np.max(x)\n",
        "\n",
        "        for i in range(len(data)):\n",
        "            outi = out[i]\n",
        "            new_data = pywt.wavedec(data[i], 'db%d' % self.n, level=self.n*2)\n",
        "            for i, x in enumerate(new_data):\n",
        "                set_stats(outi, x, i)\n",
        "\n",
        "        return out\n",
        "\n",
        "\n",
        "class UnitScale:\n",
        "    \"\"\"\n",
        "    Scale across the last axis.\n",
        "    \"\"\"\n",
        "    def get_name(self):\n",
        "        return 'unit-scale'\n",
        "\n",
        "    def apply(self, data):\n",
        "        return preprocessing.scale(data, axis=data.ndim-1)\n",
        "\n",
        "\n",
        "class UnitScaleFeat:\n",
        "    \"\"\"\n",
        "    Scale across the first axis, i.e. scale each feature.\n",
        "    \"\"\"\n",
        "    def get_name(self):\n",
        "        return 'unit-scale-feat'\n",
        "\n",
        "    def apply(self, data):\n",
        "        return preprocessing.scale(data, axis=0)\n",
        "\n",
        "\n",
        "class CorrelationMatrix:\n",
        "    \"\"\"\n",
        "    Calculate correlation coefficients matrix across all EEG channels.\n",
        "    \"\"\"\n",
        "    def get_name(self):\n",
        "        return 'corr-mat'\n",
        "\n",
        "    def apply(self, data):\n",
        "        return np.corrcoef(data)\n",
        "\n",
        "\n",
        "class Eigenvalues:\n",
        "    \"\"\"\n",
        "    Take eigenvalues of a matrix, and sort them by magnitude in order to\n",
        "    make them useful as features (as they have no inherent order).\n",
        "    \"\"\"\n",
        "    def get_name(self):\n",
        "        return 'eigenvalues'\n",
        "\n",
        "    def apply(self, data):\n",
        "        w, v = np.linalg.eig(data)\n",
        "        w = np.absolute(w)\n",
        "        w.sort()\n",
        "        return w\n",
        "\n",
        "\n",
        "# Take the upper right triangle of a matrix\n",
        "def upper_right_triangle(matrix):\n",
        "    accum = []\n",
        "    for i in range(matrix.shape[0]):\n",
        "        for j in range(i+1, matrix.shape[1]):\n",
        "            accum.append(matrix[i, j])\n",
        "\n",
        "    return np.array(accum)\n",
        "\n",
        "\n",
        "\n",
        "\n",
        "class FreqCorrelation:\n",
        "    \"\"\"\n",
        "    Correlation in the frequency domain. First take FFT with (start, end) slice options,\n",
        "    then calculate correlation co-efficients on the FFT output, followed by calculating\n",
        "    eigenvalues on the correlation co-efficients matrix.\n",
        "    The output features are (fft, upper_right_diagonal(correlation_coefficients), eigenvalues)\n",
        "    Features can be selected/omitted using the constructor arguments.\n",
        "    \"\"\"\n",
        "    def __init__(self, start, end, scale_option, with_fft=False, with_corr=True, with_eigen=True):\n",
        "        self.start = start\n",
        "        self.end = end\n",
        "        self.scale_option = scale_option\n",
        "        self.with_fft = with_fft\n",
        "        self.with_corr = with_corr\n",
        "        self.with_eigen = with_eigen\n",
        "        assert scale_option in ('us', 'usf', 'none')\n",
        "        assert with_corr or with_eigen\n",
        "\n",
        "    def get_name(self):\n",
        "        selections = []\n",
        "        if not self.with_corr:\n",
        "            selections.append('nocorr')\n",
        "        if not self.with_eigen:\n",
        "            selections.append('noeig')\n",
        "        if len(selections) > 0:\n",
        "            selection_str = '-' + '-'.join(selections)\n",
        "        else:\n",
        "            selection_str = ''\n",
        "        return 'freq-correlation-%d-%d-%s-%s%s' % (self.start, self.end, 'withfft' if self.with_fft else 'nofft',\n",
        "                                                   self.scale_option, selection_str)\n",
        "\n",
        "    def apply(self, data):\n",
        "        data1 = FFT().apply(data)\n",
        "        data1 = Slice(self.start, self.end).apply(data1)\n",
        "        data1 = Magnitude().apply(data1)\n",
        "        data1 = Log10().apply(data1)\n",
        "\n",
        "        data2 = data1\n",
        "        if self.scale_option == 'usf':\n",
        "            data2 = UnitScaleFeat().apply(data2)\n",
        "        elif self.scale_option == 'us':\n",
        "            data2 = UnitScale().apply(data2)\n",
        "\n",
        "        data2 = CorrelationMatrix().apply(data2)\n",
        "\n",
        "        if self.with_eigen:\n",
        "            w = Eigenvalues().apply(data2)\n",
        "\n",
        "        out = []\n",
        "        if self.with_corr:\n",
        "            data2 = upper_right_triangle(data2)\n",
        "            out.append(data2)\n",
        "        if self.with_eigen:\n",
        "            out.append(w)\n",
        "        if self.with_fft:\n",
        "            data1 = data1.ravel()\n",
        "            out.append(data1)\n",
        "        for d in out:\n",
        "            assert d.ndim == 1\n",
        "\n",
        "        return np.concatenate(out, axis=0)\n",
        "\n",
        "\n",
        "class TimeCorrelation:\n",
        "    \"\"\"\n",
        "    Correlation in the time domain. First downsample the data, then calculate correlation co-efficients\n",
        "    followed by calculating eigenvalues on the correlation co-efficients matrix.\n",
        "    The output features are (upper_right_diagonal(correlation_coefficients), eigenvalues)\n",
        "    Features can be selected/omitted using the constructor arguments.\n",
        "    \"\"\"\n",
        "    def __init__(self, max_hz, scale_option, with_corr=True, with_eigen=True):\n",
        "        self.max_hz = max_hz\n",
        "        self.scale_option = scale_option\n",
        "        self.with_corr = with_corr\n",
        "        self.with_eigen = with_eigen\n",
        "        assert scale_option in ('us', 'usf', 'none')\n",
        "        assert with_corr or with_eigen\n",
        "\n",
        "    def get_name(self):\n",
        "        selections = []\n",
        "        if not self.with_corr:\n",
        "            selections.append('nocorr')\n",
        "        if not self.with_eigen:\n",
        "            selections.append('noeig')\n",
        "        if len(selections) > 0:\n",
        "            selection_str = '-' + '-'.join(selections)\n",
        "        else:\n",
        "            selection_str = ''\n",
        "        return 'time-correlation-r%d-%s%s' % (self.max_hz, self.scale_option, selection_str)\n",
        "\n",
        "    def apply(self, data):\n",
        "        # so that correlation matrix calculation doesn't crash\n",
        "        for ch in data:\n",
        "            if np.alltrue(ch == 0.0):\n",
        "                ch[-1] += 0.00001\n",
        "\n",
        "        data1 = data\n",
        "        if data1.shape[1] > self.max_hz:\n",
        "            data1 = Resample(self.max_hz).apply(data1)\n",
        "\n",
        "        if self.scale_option == 'usf':\n",
        "            data1 = UnitScaleFeat().apply(data1)\n",
        "        elif self.scale_option == 'us':\n",
        "            data1 = UnitScale().apply(data1)\n",
        "\n",
        "        data1 = CorrelationMatrix().apply(data1)\n",
        "\n",
        "        if self.with_eigen:\n",
        "            w = Eigenvalues().apply(data1)\n",
        "\n",
        "        out = []\n",
        "        if self.with_corr:\n",
        "            data1 = upper_right_triangle(data1)\n",
        "            out.append(data1)\n",
        "        if self.with_eigen:\n",
        "            out.append(w)\n",
        "\n",
        "        for d in out:\n",
        "            assert d.ndim == 1\n",
        "\n",
        "        return np.concatenate(out, axis=0)\n",
        "\n",
        "\n",
        "\n",
        "class FFTWithTimeFreqCorrelation:\n",
        "    \"\"\"\n",
        "    Customised by StephMather\n",
        "    \n",
        "    \n",
        "    Combines FFT with time and frequency correlation, taking both correlation coefficients and eigenvalues.\n",
        "    \"\"\"\n",
        "    def __init__(self, start, end, max_hz, scale_option):\n",
        "        self.start = start\n",
        "        self.end = end\n",
        "        self.max_hz = max_hz\n",
        "        self.scale_option = scale_option\n",
        "\n",
        "    def get_name(self):\n",
        "        return 'fft-with-time-freq-corr-%d-%d-r%d-%s' % (self.start, self.end, self.max_hz, self.scale_option)\n",
        "      \n",
        "    def fit(self, X, y = None): # created by Stephanie Mather for Pipeline compatibility\n",
        "      return self\n",
        "\n",
        "    def transform(self, data):  # renamed to transform for Pipeline compatibility and modified\n",
        "#       transformed_data = np.empty((data.shape[0],1024))\n",
        "      for i in range(data.shape[0]):\n",
        "        \n",
        "        data1 = TimeCorrelation(self.max_hz, self.scale_option).apply(data[i])\n",
        "        data2 = FreqCorrelation(self.start, self.end, self.scale_option, with_fft=True).apply(data[i])\n",
        "        assert data1.ndim == data2.ndim\n",
        "        xi = np.concatenate((data1, data2), axis=data1.ndim-1)\n",
        "        \n",
        "        if i == 0:\n",
        "          transformed_data = np.empty((data.shape[0],xi.shape[0]))\n",
        "#         print(xi)\n",
        "        transformed_data[i] = xi\n",
        "      return transformed_data\n",
        "\n"
      ],
      "execution_count": 0,
      "outputs": []
    },
    {
      "cell_type": "markdown",
      "metadata": {
        "id": "7coILz3Kzgaa",
        "colab_type": "text"
      },
      "source": [
        "##### Analysis\n"
      ]
    },
    {
      "cell_type": "code",
      "metadata": {
        "id": "23GT8zkPf4wD",
        "colab_type": "code",
        "outputId": "36bfe537-fe39-431d-c016-298eb84280c5",
        "colab": {
          "base_uri": "https://localhost:8080/",
          "height": 156
        }
      },
      "source": [
        "train_data, test_data, train_labels, test_labels = ml_utl.get_raw_train_test_split(\n",
        "    abs_data_pathname, data.SUBJECT_PATIENT, subject_number = 2, reduced_set = False, early_ictal_label = False, flattened = False\n",
        ")"
      ],
      "execution_count": 0,
      "outputs": [
        {
          "output_type": "stream",
          "text": [
            "Loading pickled segment data: /content/drive/My Drive/MIDS/W207/Final Project/data/pickled/Patient_2_ictal_as_raw_data.pickle\n",
            "Loading pickled segment data: /content/drive/My Drive/MIDS/W207/Final Project/data/pickled/Patient_2_interictal_as_raw_data.pickle\n",
            "Confirming lengths of data:\n",
            "- Source of training and test data: 3140\n",
            "- Training data: (2512, 16, 5000)\n",
            "- Training labels: 2512\n",
            "- Test data: (628, 16, 5000)\n",
            "- Test labels: 628\n"
          ],
          "name": "stdout"
        }
      ]
    },
    {
      "cell_type": "code",
      "metadata": {
        "id": "iNOrOi-Qm7KP",
        "colab_type": "code",
        "outputId": "7ff8ab44-0763-4be0-ebbf-49d83bda5ebc",
        "colab": {
          "base_uri": "https://localhost:8080/",
          "height": 582
        }
      },
      "source": [
        "\n",
        "model_pipeline=Pipeline([('compression',  FFTWithTimeFreqCorrelation(1, 48, 400, 'usf'))\n",
        "                        , \n",
        "                        ('classifier', \n",
        "                         GaussianNB())])\n",
        "\n",
        "\n",
        "model_pipeline.fit(train_data, train_labels)\n",
        "\n",
        "print('train complete!')\n",
        "\n",
        "predicted = model_pipeline.predict(test_data)\n",
        "plt.scatter(predicted, test_labels)\n",
        "\n",
        "\n",
        "model_results_dict = model_score(test_labels, predicted, 'FFT_GaussianNB' )\n",
        "\n",
        "# save the model to disk\n",
        "filename = 'FFT_GaussianNB.sav'\n",
        "pickle.dump(model_pipeline, open(abs_data_pathname+ '/pickled/' + filename, 'wb'))"
      ],
      "execution_count": 0,
      "outputs": [
        {
          "output_type": "stream",
          "text": [
            "train complete!\n",
            "\n",
            " FFT_GaussianNB Classification Report\n",
            "\n",
            "              precision    recall  f1-score   support\n",
            "\n",
            "           0       0.99      0.97      0.98       601\n",
            "           1       0.53      0.89      0.67        27\n",
            "\n",
            "    accuracy                           0.96       628\n",
            "   macro avg       0.76      0.93      0.82       628\n",
            "weighted avg       0.98      0.96      0.97       628\n",
            "\n",
            "\n",
            "Confusion Matrix:\n",
            "\n",
            "[[580  21]\n",
            " [  3  24]]\n"
          ],
          "name": "stdout"
        },
        {
          "output_type": "display_data",
          "data": {
            "image/png": "[encoded data removed]",
            "text/plain": [
              "<Figure size 432x288 with 1 Axes>"
            ]
          },
          "metadata": {
            "tags": []
          }
        }
      ]
    },
    {
      "cell_type": "code",
      "metadata": {
        "id": "VkIuMyWsgX4U",
        "colab_type": "code",
        "outputId": "15d85232-fe9f-42c0-a515-9b69d97ef84f",
        "colab": {
          "base_uri": "https://localhost:8080/",
          "height": 651
        }
      },
      "source": [
        "# warning slow - uncomment to run\n",
        "model_pipeline=Pipeline([('compression',  FFTWithTimeFreqCorrelation(1, 48, 400, 'usf'))\n",
        "                        , \n",
        "                        ('classifier', \n",
        "                         RandomForestRegressor(n_estimators=3000,\n",
        "                                               min_samples_split=2, \n",
        "                                               bootstrap=False, \n",
        "                                               n_jobs=4, \n",
        "                                               random_state=0))])\n",
        "\n",
        "\n",
        "model_pipeline.fit(train_data, train_labels)\n",
        "\n",
        "print('train complete!')\n",
        "\n",
        "predicted = model_pipeline.predict(test_data)\n",
        "plt.scatter(predicted, test_labels)\n",
        "\n",
        "# Apply labels\n",
        "\n",
        "predicted_label = ml_utl.assign_predicted_labels(predicted)\n",
        "\n",
        "model_results_dict = model_score(test_labels, predicted, 'FFT_RandForestReg' )\n",
        "\n",
        "# save the model to disk\n",
        "filename = 'FFT_RandForestReg.sav'\n",
        "pickle.dump(model_pipeline, open(abs_data_pathname+ '/pickled/' + filename, 'wb'))"
      ],
      "execution_count": 0,
      "outputs": [
        {
          "output_type": "stream",
          "text": [
            "train complete!\n"
          ],
          "name": "stdout"
        },
        {
          "output_type": "error",
          "ename": "ValueError",
          "evalue": "ignored",
          "traceback": [
            "\u001b[0;31m---------------------------------------------------------------------------\u001b[0m",
            "\u001b[0;31mValueError\u001b[0m                                Traceback (most recent call last)",
            "\u001b[0;32m<ipython-input-11-3c6302c3adfc>\u001b[0m in \u001b[0;36m<module>\u001b[0;34m()\u001b[0m\n\u001b[1;32m     20\u001b[0m \u001b[0mpredicted_label\u001b[0m \u001b[0;34m=\u001b[0m \u001b[0mml_utl\u001b[0m\u001b[0;34m.\u001b[0m\u001b[0massign_predicted_labels\u001b[0m\u001b[0;34m(\u001b[0m\u001b[0mpredicted\u001b[0m\u001b[0;34m)\u001b[0m\u001b[0;34m\u001b[0m\u001b[0;34m\u001b[0m\u001b[0m\n\u001b[1;32m     21\u001b[0m \u001b[0;34m\u001b[0m\u001b[0m\n\u001b[0;32m---> 22\u001b[0;31m \u001b[0mmodel_results_dict\u001b[0m \u001b[0;34m=\u001b[0m \u001b[0mmodel_score\u001b[0m\u001b[0;34m(\u001b[0m\u001b[0mtest_labels\u001b[0m\u001b[0;34m,\u001b[0m \u001b[0mpredicted\u001b[0m\u001b[0;34m,\u001b[0m \u001b[0;34m'FFT_RandForestReg'\u001b[0m \u001b[0;34m)\u001b[0m\u001b[0;34m\u001b[0m\u001b[0;34m\u001b[0m\u001b[0m\n\u001b[0m\u001b[1;32m     23\u001b[0m \u001b[0;34m\u001b[0m\u001b[0m\n\u001b[1;32m     24\u001b[0m \u001b[0;31m# save the model to disk\u001b[0m\u001b[0;34m\u001b[0m\u001b[0;34m\u001b[0m\u001b[0;34m\u001b[0m\u001b[0m\n",
            "\u001b[0;32m<ipython-input-8-1528318c648e>\u001b[0m in \u001b[0;36mmodel_score\u001b[0;34m(test_labels, predicted, model_name, verbose)\u001b[0m\n\u001b[1;32m     79\u001b[0m \u001b[0;34m\u001b[0m\u001b[0m\n\u001b[1;32m     80\u001b[0m \u001b[0;34m\u001b[0m\u001b[0m\n\u001b[0;32m---> 81\u001b[0;31m   \u001b[0mmodel_classifcation_report\u001b[0m \u001b[0;34m=\u001b[0m \u001b[0mclassification_report\u001b[0m\u001b[0;34m(\u001b[0m\u001b[0mtest_labels\u001b[0m\u001b[0;34m,\u001b[0m \u001b[0mpredicted\u001b[0m\u001b[0;34m,\u001b[0m \u001b[0moutput_dict\u001b[0m \u001b[0;34m=\u001b[0m \u001b[0;32mTrue\u001b[0m\u001b[0;34m)\u001b[0m\u001b[0;34m\u001b[0m\u001b[0;34m\u001b[0m\u001b[0m\n\u001b[0m\u001b[1;32m     82\u001b[0m   \u001b[0mconf_matrix\u001b[0m \u001b[0;34m=\u001b[0m \u001b[0mconfusion_matrix\u001b[0m\u001b[0;34m(\u001b[0m\u001b[0mtest_labels\u001b[0m\u001b[0;34m,\u001b[0m \u001b[0mpredicted\u001b[0m\u001b[0;34m)\u001b[0m\u001b[0;34m\u001b[0m\u001b[0;34m\u001b[0m\u001b[0m\n\u001b[1;32m     83\u001b[0m \u001b[0;34m\u001b[0m\u001b[0m\n",
            "\u001b[0;32m/usr/local/lib/python3.6/dist-packages/sklearn/metrics/classification.py\u001b[0m in \u001b[0;36mclassification_report\u001b[0;34m(y_true, y_pred, labels, target_names, sample_weight, digits, output_dict)\u001b[0m\n\u001b[1;32m   1850\u001b[0m     \"\"\"\n\u001b[1;32m   1851\u001b[0m \u001b[0;34m\u001b[0m\u001b[0m\n\u001b[0;32m-> 1852\u001b[0;31m     \u001b[0my_type\u001b[0m\u001b[0;34m,\u001b[0m \u001b[0my_true\u001b[0m\u001b[0;34m,\u001b[0m \u001b[0my_pred\u001b[0m \u001b[0;34m=\u001b[0m \u001b[0m_check_targets\u001b[0m\u001b[0;34m(\u001b[0m\u001b[0my_true\u001b[0m\u001b[0;34m,\u001b[0m \u001b[0my_pred\u001b[0m\u001b[0;34m)\u001b[0m\u001b[0;34m\u001b[0m\u001b[0;34m\u001b[0m\u001b[0m\n\u001b[0m\u001b[1;32m   1853\u001b[0m \u001b[0;34m\u001b[0m\u001b[0m\n\u001b[1;32m   1854\u001b[0m     \u001b[0mlabels_given\u001b[0m \u001b[0;34m=\u001b[0m \u001b[0;32mTrue\u001b[0m\u001b[0;34m\u001b[0m\u001b[0;34m\u001b[0m\u001b[0m\n",
            "\u001b[0;32m/usr/local/lib/python3.6/dist-packages/sklearn/metrics/classification.py\u001b[0m in \u001b[0;36m_check_targets\u001b[0;34m(y_true, y_pred)\u001b[0m\n\u001b[1;32m     79\u001b[0m     \u001b[0;32mif\u001b[0m \u001b[0mlen\u001b[0m\u001b[0;34m(\u001b[0m\u001b[0my_type\u001b[0m\u001b[0;34m)\u001b[0m \u001b[0;34m>\u001b[0m \u001b[0;36m1\u001b[0m\u001b[0;34m:\u001b[0m\u001b[0;34m\u001b[0m\u001b[0;34m\u001b[0m\u001b[0m\n\u001b[1;32m     80\u001b[0m         raise ValueError(\"Classification metrics can't handle a mix of {0} \"\n\u001b[0;32m---> 81\u001b[0;31m                          \"and {1} targets\".format(type_true, type_pred))\n\u001b[0m\u001b[1;32m     82\u001b[0m \u001b[0;34m\u001b[0m\u001b[0m\n\u001b[1;32m     83\u001b[0m     \u001b[0;31m# We can't have more than one value on y_type => The set is no more needed\u001b[0m\u001b[0;34m\u001b[0m\u001b[0;34m\u001b[0m\u001b[0;34m\u001b[0m\u001b[0m\n",
            "\u001b[0;31mValueError\u001b[0m: Classification metrics can't handle a mix of binary and continuous targets"
          ]
        },
        {
          "output_type": "display_data",
          "data": {
            "image/png": "[encoded data removed]",
            "text/plain": [
              "<Figure size 432x288 with 1 Axes>"
            ]
          },
          "metadata": {
            "tags": []
          }
        }
      ]
    },
    {
      "cell_type": "code",
      "metadata": {
        "id": "nu4DpLJyHppM",
        "colab_type": "code",
        "colab": {}
      },
      "source": [
        ""
      ],
      "execution_count": 0,
      "outputs": []
    },
    {
      "cell_type": "markdown",
      "metadata": {
        "id": "k-3lSVeYl9_S",
        "colab_type": "text"
      },
      "source": [
        "#### Michael Hills with Reduced Training Set\n",
        "\n",
        "From the work done with the Gaussian Model it was determined that a 2:1 interictal to ictal ratio of training results gave superior results over using the whole training set. This approach was applied to the FFT preprocessed data. \n",
        "\n"
      ]
    },
    {
      "cell_type": "code",
      "metadata": {
        "id": "oof-WpaAu0LM",
        "colab_type": "code",
        "colab": {}
      },
      "source": [
        "train_data, test_data, train_labels, test_labels = ml_utl.get_raw_train_test_split(\n",
        "    abs_data_pathname, data.SUBJECT_PATIENT, subject_number = 2, reduced_set = True, early_ictal_label = True, flattened = False\n",
        ")"
      ],
      "execution_count": 0,
      "outputs": []
    },
    {
      "cell_type": "code",
      "metadata": {
        "id": "4mII5wZMu7VP",
        "colab_type": "code",
        "colab": {}
      },
      "source": [
        "model_pipeline=Pipeline([('compression',  FFTWithTimeFreqCorrelation(1, 48, 400, 'usf'))\n",
        "                        , \n",
        "                        ('classifier', \n",
        "                         RandomForestRegressor(n_estimators=3000,\n",
        "                                               min_samples_split=2, \n",
        "                                               bootstrap=False, \n",
        "                                               n_jobs=4, \n",
        "                                               random_state=0))])\n",
        "\n",
        "model_pipeline.fit(train_data, train_labels)\n",
        "\n",
        "print('train complete!')"
      ],
      "execution_count": 0,
      "outputs": []
    },
    {
      "cell_type": "code",
      "metadata": {
        "id": "bucKyxcDvvFG",
        "colab_type": "code",
        "colab": {}
      },
      "source": [
        "predicted = model_pipeline.predict(test_data)\n",
        "plt.scatter(predicted, test_labels)\n",
        "   \n",
        "# Apply labels\n",
        "\n",
        "predicted_labels = ml_utl.assign_predicted_labels(predicted)\n",
        "\n",
        "model_results_dict = model_score(test_labels, predicted_labels, 'FFT_RandForestReg_early_red' )\n",
        "\n",
        "# save the model to disk\n",
        "filename = 'FFT_RandForestReg_early_red.sav'\n",
        "pickle.dump(model_pipeline, open(abs_data_pathname+ '/pickled/' + filename, 'wb'))\n"
      ],
      "execution_count": 0,
      "outputs": []
    },
    {
      "cell_type": "markdown",
      "metadata": {
        "id": "y0ym3WCmmDD3",
        "colab_type": "text"
      },
      "source": [
        "##### Test on all patients"
      ]
    },
    {
      "cell_type": "code",
      "metadata": {
        "id": "306tKzHkFx2t",
        "colab_type": "code",
        "colab": {}
      },
      "source": [
        "train_data, test_data, train_labels, test_labels = ml_utl.get_raw_train_test_split(\n",
        "    abs_data_pathname, data.SUBJECT_PATIENT, subject_number = 1, reduced_set = True, early_ictal_label = True, flattened = False\n",
        ")\n",
        "\n",
        "model_pipeline=Pipeline([('compression',  FFTWithTimeFreqCorrelation(1, 48, 400, 'usf'))\n",
        "                        , \n",
        "                        ('classifier', \n",
        "                         RandomForestRegressor(n_estimators=3000,\n",
        "                                               min_samples_split=2, \n",
        "                                               bootstrap=False, \n",
        "                                               n_jobs=4, \n",
        "                                               random_state=0))])\n",
        "\n",
        "model_pipeline.fit(train_data, train_labels)\n",
        "\n",
        "print('train complete!')\n",
        "\n",
        "predicted = model_pipeline.predict(test_data)\n",
        "plt.scatter(predicted, test_labels)\n",
        "   \n",
        "# Apply labels\n",
        "\n",
        "predicted_labels = ml_utl.assign_predicted_labels(predicted)\n",
        "\n",
        "model_results_dict = model_score(test_labels, predicted_labels, 'FFT_RandForestReg_early_red_p1' )\n",
        "\n",
        "# save the model to disk\n",
        "filename = 'FFT_RandForestReg_early_red_p1.sav'\n",
        "pickle.dump(model_pipeline, open(abs_data_pathname+ '/pickled/' + filename, 'wb'))\n"
      ],
      "execution_count": 0,
      "outputs": []
    },
    {
      "cell_type": "code",
      "metadata": {
        "id": "jA9wtSnlGIkQ",
        "colab_type": "code",
        "colab": {}
      },
      "source": [
        "## warning - slow, uncomment to run\n",
        "\n",
        "\n",
        "train_data, test_data, train_labels, test_labels = ml_utl.get_raw_train_test_split(\n",
        "    abs_data_pathname, data.SUBJECT_PATIENT, subject_number = 3, reduced_set = True, early_ictal_label = True, flattened = False\n",
        ")\n",
        "\n",
        "model_pipeline=Pipeline([('compression',  FFTWithTimeFreqCorrelation(1, 48, 400, 'usf'))\n",
        "                        , \n",
        "                        ('classifier', \n",
        "                         RandomForestRegressor(n_estimators=3000,\n",
        "                                               min_samples_split=2, \n",
        "                                               bootstrap=False, \n",
        "                                               n_jobs=4, \n",
        "                                               random_state=0))])\n",
        "\n",
        "model_pipeline.fit(train_data, train_labels)\n",
        "\n",
        "print('train complete!')\n",
        "\n",
        "predicted = model_pipeline.predict(test_data)\n",
        "plt.scatter(predicted, test_labels)\n",
        "   \n",
        "# Apply labels\n",
        "\n",
        "predicted_labels = ml_utl.assign_predicted_labels(predicted)\n",
        "\n",
        "model_results_dict = model_score(test_labels, predicted_labels, 'FFT_RandForestReg_early_red_p3' )\n",
        "\n",
        "# save the model to disk\n",
        "filename = 'FFT_RandForestReg_early_red_p3.sav'\n",
        "pickle.dump(model_pipeline, open(abs_data_pathname+ '/pickled/' + filename, 'wb'))"
      ],
      "execution_count": 0,
      "outputs": []
    },
    {
      "cell_type": "code",
      "metadata": {
        "id": "UvcH-5ZIICie",
        "colab_type": "code",
        "colab": {}
      },
      "source": [
        "train_data, test_data, train_labels, test_labels = ml_utl.get_raw_train_test_split(\n",
        "    abs_data_pathname, data.SUBJECT_PATIENT, subject_number = 4, reduced_set = True, early_ictal_label = True, flattened = False\n",
        ")\n",
        "\n",
        "model_pipeline=Pipeline([('compression',  FFTWithTimeFreqCorrelation(1, 48, 400, 'usf'))\n",
        "                        , \n",
        "                        ('classifier', \n",
        "                         RandomForestRegressor(n_estimators=3000,\n",
        "                                               min_samples_split=2, \n",
        "                                               bootstrap=False, \n",
        "                                               n_jobs=4, \n",
        "                                               random_state=0))])\n",
        "\n",
        "model_pipeline.fit(train_data, train_labels)\n",
        "\n",
        "print('train complete!')\n",
        "\n",
        "predicted = model_pipeline.predict(test_data)\n",
        "plt.scatter(predicted, test_labels)\n",
        "   \n",
        "# Apply labels\n",
        "\n",
        "predicted_labels = ml_utl.assign_predicted_labels(predicted)\n",
        "\n",
        "model_results_dict = model_score(test_labels, predicted_labels, 'FFT_RandForestReg_early_red_p4' )\n",
        "\n",
        "# save the model to disk\n",
        "filename = 'FFT_RandForestReg_early_red_p4.sav'\n",
        "pickle.dump(model_pipeline, open(abs_data_pathname+ '/pickled/' + filename, 'wb'))"
      ],
      "execution_count": 0,
      "outputs": []
    },
    {
      "cell_type": "code",
      "metadata": {
        "id": "dcCRl1LuI1BN",
        "colab_type": "code",
        "colab": {}
      },
      "source": [
        "train_data, test_data, train_labels, test_labels = ml_utl.get_raw_train_test_split(\n",
        "    abs_data_pathname, data.SUBJECT_PATIENT, subject_number = 5, reduced_set = True, early_ictal_label = True, flattened = False\n",
        ")\n",
        "\n",
        "model_pipeline=Pipeline([('compression',  FFTWithTimeFreqCorrelation(1, 48, 400, 'usf'))\n",
        "                        , \n",
        "                        ('classifier', \n",
        "                         RandomForestRegressor(n_estimators=3000,\n",
        "                                               min_samples_split=2, \n",
        "                                               bootstrap=False, \n",
        "                                               n_jobs=4, \n",
        "                                               random_state=0))])\n",
        "\n",
        "model_pipeline.fit(train_data, train_labels)\n",
        "\n",
        "print('train complete!')\n",
        "\n",
        "predicted = model_pipeline.predict(test_data)\n",
        "plt.scatter(predicted, test_labels)\n",
        "   \n",
        "# Apply labels\n",
        "\n",
        "predicted_labels = ml_utl.assign_predicted_labels(predicted)\n",
        "\n",
        "model_results_dict = model_score(test_labels, predicted_labels, 'FFT_RandForestReg_early_red_p5' )\n",
        "\n",
        "\n",
        "# save the model to disk\n",
        "filename = 'FFT_RandForestReg_early_red_p5.sav'\n",
        "pickle.dump(model_pipeline, open(abs_data_pathname+ '/pickled/' + filename, 'wb'))"
      ],
      "execution_count": 0,
      "outputs": []
    },
    {
      "cell_type": "code",
      "metadata": {
        "id": "AvTi9bXulxvL",
        "colab_type": "code",
        "colab": {}
      },
      "source": [
        "train_data, test_data, train_labels, test_labels = ml_utl.get_raw_train_test_split(\n",
        "    abs_data_pathname, data.SUBJECT_PATIENT, subject_number = 6, reduced_set = True, early_ictal_label = True, flattened = False\n",
        ")\n",
        "\n",
        "model_pipeline=Pipeline([('compression',  FFTWithTimeFreqCorrelation(1, 48, 400, 'usf'))\n",
        "                        , \n",
        "                        ('classifier', \n",
        "                         RandomForestRegressor(n_estimators=3000,\n",
        "                                               min_samples_split=2, \n",
        "                                               bootstrap=False, \n",
        "                                               n_jobs=4, \n",
        "                                               random_state=0))])\n",
        "\n",
        "model_pipeline.fit(train_data, train_labels)\n",
        "\n",
        "print('train complete!')\n",
        "\n",
        "predicted = model_pipeline.predict(test_data)\n",
        "plt.scatter(predicted, test_labels)\n",
        "   \n",
        "# Apply labels\n",
        "\n",
        "predicted_labels = ml_utl.assign_predicted_labels(predicted)\n",
        "\n",
        "model_results_dict = model_score(test_labels, predicted_labels, 'FFT_RandForestReg_early_red_p6' )\n",
        "\n",
        "# save the model to disk\n",
        "filename = 'FFT_RandForestReg_early_red_p6.sav'\n",
        "pickle.dump(model_pipeline, open(abs_data_pathname+ '/pickled/' + filename, 'wb'))"
      ],
      "execution_count": 0,
      "outputs": []
    },
    {
      "cell_type": "code",
      "metadata": {
        "id": "A5zKuVp0l2-k",
        "colab_type": "code",
        "colab": {}
      },
      "source": [
        "train_data, test_data, train_labels, test_labels = ml_utl.get_raw_train_test_split(\n",
        "    abs_data_pathname, data.SUBJECT_PATIENT, subject_number = 7, reduced_set = True, early_ictal_label = True, flattened = False\n",
        ")\n",
        "\n",
        "model_pipeline=Pipeline([('compression',  FFTWithTimeFreqCorrelation(1, 48, 400, 'usf'))\n",
        "                        , \n",
        "                        ('classifier', \n",
        "                         RandomForestRegressor(n_estimators=3000,\n",
        "                                               min_samples_split=2, \n",
        "                                               bootstrap=False, \n",
        "                                               n_jobs=4, \n",
        "                                               random_state=0))])\n",
        "\n",
        "model_pipeline.fit(train_data, train_labels)\n",
        "\n",
        "print('train complete!')\n",
        "\n",
        "predicted = model_pipeline.predict(test_data)\n",
        "plt.scatter(predicted, test_labels)\n",
        "   \n",
        "# Apply labels\n",
        "\n",
        "predicted_labels = ml_utl.assign_predicted_labels(predicted)\n",
        "\n",
        "\n",
        "model_results_dict = model_score(test_labels, predicted_labels, 'FFT_RandForestReg_early_red_p7' )\n",
        "\n",
        "# save the model to disk\n",
        "filename = 'FFT_RandForestReg_early_red_p7.sav'\n",
        "pickle.dump(model_pipeline, open(abs_data_pathname+ '/pickled/' + filename, 'wb'))"
      ],
      "execution_count": 0,
      "outputs": []
    },
    {
      "cell_type": "code",
      "metadata": {
        "id": "Gw1b5Y2ll6D5",
        "colab_type": "code",
        "colab": {}
      },
      "source": [
        "train_data, test_data, train_labels, test_labels = ml_utl.get_raw_train_test_split(\n",
        "    abs_data_pathname, data.SUBJECT_PATIENT, subject_number = 8, reduced_set = True, early_ictal_label = True, flattened = False\n",
        ")\n",
        "\n",
        "model_pipeline=Pipeline([('compression',  FFTWithTimeFreqCorrelation(1, 48, 400, 'usf'))\n",
        "                        , \n",
        "                        ('classifier', \n",
        "                         RandomForestRegressor(n_estimators=3000,\n",
        "                                               min_samples_split=2, \n",
        "                                               bootstrap=False, \n",
        "                                               n_jobs=4, \n",
        "                                               random_state=0))])\n",
        "\n",
        "model_pipeline.fit(train_data, train_labels)\n",
        "\n",
        "print('train complete!')\n",
        "\n",
        "predicted = model_pipeline.predict(test_data)\n",
        "plt.scatter(predicted, test_labels)\n",
        "   \n",
        "# Apply labels\n",
        "\n",
        "predicted_labels = ml_utl.assign_predicted_labels(predicted)\n",
        "\n",
        "model_results_dict = model_score(test_labels, predicted_labels, 'FFT_RandForestReg_early_red_p8' )\n",
        "\n",
        "# save the model to disk\n",
        "filename = 'FFT_RandForestReg_early_red_p8.sav'\n",
        "pickle.dump(model_pipeline, open(abs_data_pathname+ '/pickled/' + filename, 'wb'))"
      ],
      "execution_count": 0,
      "outputs": []
    },
    {
      "cell_type": "markdown",
      "metadata": {
        "id": "Kk8ORn2TPdLv",
        "colab_type": "text"
      },
      "source": [
        "## Compare Models\n"
      ]
    },
    {
      "cell_type": "code",
      "metadata": {
        "id": "pf53Q8NNQ6rb",
        "colab_type": "code",
        "colab": {}
      },
      "source": [
        "print('{: <30} {: <15} {: <15} {: <21} {: <21} {: <21} '.format('Model Name', 'Accuracy','Custom Score', 'interictal', 'ictal', 'early ictal'))\n",
        "print('{: <30} {: <15} {: <15} {: <7}{: <7}{: <7} {: <7}{: <7}{: <7} {: <7}{: <7}{: <7}  '.format('', '', '', 'prec.', 'recl', 'f1', 'prec.', 'recl', 'f1', 'prec.', 'recl', 'f1'))\n",
        "for model in results_dict.keys():\n",
        "  print('{: <30} '.format(model), end = '')\n",
        "  print(' {: <15}'.format(round(results_dict[model]['Model_Classification_Report']['accuracy']*100,2)), end = '')\n",
        "  print(' {: <15}'.format('TBA'),end = '')\n",
        "  for label in results_dict[model]['Model_Classification_Report'].keys():\n",
        "    try :\n",
        "      int(float(label))\n",
        "      for score in ['precision', 'recall', 'f1-score']:\n",
        "        print('{: <7}' .format(round(results_dict[model]['Model_Classification_Report'][label][score]*100,2)), end = '')\n",
        "      print(' ', end = '')\n",
        "    except:\n",
        "      continue\n",
        "  \n",
        "  print('')"
      ],
      "execution_count": 0,
      "outputs": []
    },
    {
      "cell_type": "code",
      "metadata": {
        "id": "D8zB5wh0REEW",
        "colab_type": "code",
        "colab": {}
      },
      "source": [
        "results_dict[model]['Model_Classification_Report'].keys()\n",
        "\n",
        "for label in results_dict[model]['Model_Classification_Report'].keys():\n",
        "  if label.isnumeric():\n",
        "    print(results_dict[model]['Model_Classification_Report'][key])"
      ],
      "execution_count": 0,
      "outputs": []
    },
    {
      "cell_type": "code",
      "metadata": {
        "id": "5m1eC__WcFTe",
        "colab_type": "code",
        "colab": {}
      },
      "source": [
        "results_dict['Baseline_50_50_early_ictal']['Model_Classification_Report'].keys()\n",
        "\n",
        "for label in results_dict['Baseline_50_50_early_ictal']['Model_Classification_Report'].keys():\n",
        "  \n",
        "  try :\n",
        "    int(float(label))\n",
        "    print(results_dict[model]['Model_Classification_Report'][label])\n",
        "  except:\n",
        "    continue"
      ],
      "execution_count": 0,
      "outputs": []
    },
    {
      "cell_type": "markdown",
      "metadata": {
        "id": "4ItiEdiTvt-s",
        "colab_type": "text"
      },
      "source": [
        "## Evaluate Errors"
      ]
    },
    {
      "cell_type": "markdown",
      "metadata": {
        "id": "6bpdH5j7REeU",
        "colab_type": "text"
      },
      "source": [
        "## Evaluate Final Model in kaggle Leaderboard.\n",
        "\n",
        "Separate Notebook\n",
        "\n",
        "Possible improvements:\n",
        "\n"
      ]
    },
    {
      "cell_type": "markdown",
      "metadata": {
        "id": "aJ-BFfY8qVjh",
        "colab_type": "text"
      },
      "source": [
        "\n",
        "\n",
        "Maybe some chat about\n",
        "* need for accuracy. if implementing using technology such as https://www.neuropace.com/\n",
        "* need for speed. model can't take longer than 1 sec to predict a clip if it is to operate in real time"
      ]
    },
    {
      "cell_type": "code",
      "metadata": {
        "id": "n1bSFzbt2UWo",
        "colab_type": "code",
        "colab": {}
      },
      "source": [
        ""
      ],
      "execution_count": 0,
      "outputs": []
    },
    {
      "cell_type": "code",
      "metadata": {
        "id": "ua6xo8AD3rNB",
        "colab_type": "code",
        "colab": {}
      },
      "source": [
        ""
      ],
      "execution_count": 0,
      "outputs": []
    }
  ]
}