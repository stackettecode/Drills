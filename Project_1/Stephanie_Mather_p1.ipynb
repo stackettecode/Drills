{
  "nbformat": 4,
  "nbformat_minor": 0,
  "metadata": {
    "colab": {
      "name": "Stephanie_Mather_p1.ipynb",
      "version": "0.3.2",
      "provenance": [],
      "collapsed_sections": [],
      "include_colab_link": true
    },
    "language_info": {
      "codemirror_mode": {
        "name": "ipython",
        "version": 2
      },
      "file_extension": ".py",
      "mimetype": "text/x-python",
      "name": "python",
      "nbconvert_exporter": "python",
      "pygments_lexer": "ipython2",
      "version": "2.7.15"
    },
    "kernelspec": {
      "display_name": "Python 2",
      "language": "python",
      "name": "python2"
    }
  },
  "cells": [
    {
      "cell_type": "markdown",
      "metadata": {
        "id": "view-in-github",
        "colab_type": "text"
      },
      "source": [
        "<a href=\"https://colab.research.google.com/github/stackettecode/Drills/blob/master/Project_1/Stephanie_Mather_p1.ipynb\" target=\"_parent\"><img src=\"https://colab.research.google.com/assets/colab-badge.svg\" alt=\"Open In Colab\"/></a>"
      ]
    },
    {
      "cell_type": "markdown",
      "metadata": {
        "id": "CjUJGz_wLkTk",
        "colab_type": "text"
      },
      "source": [
        "# Project 1: Digit Classification with KNN and Naive Bayes"
      ]
    },
    {
      "cell_type": "markdown",
      "metadata": {
        "id": "o9noHi1SLkTm",
        "colab_type": "text"
      },
      "source": [
        "In this project, you'll implement your own image recognition system for classifying digits. Read through the code and the instructions carefully and add your own code where indicated. Each problem can be addressed succinctly with the included packages -- please don't add any more. Grading will be based on writing clean, commented code, along with a few short answers.\n",
        "\n",
        "As always, you're welcome to work on the project in groups and discuss ideas on the course wall, but <b> please prepare your own write-up (with your own code). </b>\n",
        "\n",
        "If you're interested, check out these links related to digit recognition:\n",
        "\n",
        "Yann Lecun's MNIST benchmarks: http://yann.lecun.com/exdb/mnist/\n",
        "\n",
        "Stanford Streetview research and data: http://ufldl.stanford.edu/housenumbers/"
      ]
    },
    {
      "cell_type": "code",
      "metadata": {
        "id": "CG1rsda4LkTn",
        "colab_type": "code",
        "colab": {}
      },
      "source": [
        "# This tells matplotlib not to try opening a new window for each plot.\n",
        "%matplotlib inline\n",
        "\n",
        "# Import a bunch of libraries.\n",
        "import time\n",
        "import numpy as np\n",
        "import matplotlib.pyplot as plt\n",
        "from matplotlib.ticker import MultipleLocator\n",
        "from sklearn.pipeline import Pipeline\n",
        "from sklearn.datasets import fetch_openml\n",
        "from sklearn.neighbors import KNeighborsClassifier\n",
        "from sklearn.metrics import confusion_matrix\n",
        "from sklearn.linear_model import LinearRegression\n",
        "from sklearn.naive_bayes import BernoulliNB\n",
        "from sklearn.naive_bayes import MultinomialNB\n",
        "from sklearn.naive_bayes import GaussianNB\n",
        "from sklearn.model_selection import GridSearchCV\n",
        "from sklearn.metrics import classification_report\n",
        "from sklearn.datasets import fetch_openml\n",
        "\n",
        "# Set the randomizer seed so results are the same each time.\n",
        "np.random.seed(0)"
      ],
      "execution_count": 0,
      "outputs": []
    },
    {
      "cell_type": "markdown",
      "metadata": {
        "id": "X9M9bvyjLkTq",
        "colab_type": "text"
      },
      "source": [
        "Load the data. Notice that we are splitting the data into training, development, and test. We also have a small subset of the training data called mini_train_data and mini_train_labels that you should use in all the experiments below, unless otherwise noted."
      ]
    },
    {
      "cell_type": "code",
      "metadata": {
        "id": "Zf1UoZcOLkTr",
        "colab_type": "code",
        "outputId": "72f3ee85-e6d0-4f92-9dad-98c3248d6fe1",
        "colab": {
          "base_uri": "https://localhost:8080/",
          "height": 52
        }
      },
      "source": [
        "# Load the digit data from https://www.openml.org/d/554 or from default local location '~/scikit_learn_data/...'\n",
        "X, Y = fetch_openml(name='mnist_784', return_X_y=True, cache=False)\n",
        "\n",
        "\n",
        "# Rescale grayscale values to [0,1].\n",
        "X = X / 255.0\n",
        "\n",
        "# Shuffle the input: create a random permutation of the integers between 0 and the number of data points and apply this\n",
        "# permutation to X and Y.\n",
        "# NOTE: Each time you run this cell, you'll re-shuffle the data, resulting in a different ordering.\n",
        "shuffle = np.random.permutation(np.arange(X.shape[0]))\n",
        "X, Y = X[shuffle], Y[shuffle]\n",
        "\n",
        "print ('data shape: ', X.shape)\n",
        "print ('label shape:', Y.shape)\n",
        "\n",
        "# Set some variables to hold test, dev, and training data.\n",
        "test_data, test_labels = X[61000:], Y[61000:]\n",
        "dev_data, dev_labels = X[60000:61000], Y[60000:61000]\n",
        "train_data, train_labels = X[:60000], Y[:60000]\n",
        "mini_train_data, mini_train_labels = X[:1000], Y[:1000]"
      ],
      "execution_count": 0,
      "outputs": [
        {
          "output_type": "stream",
          "text": [
            "('data shape: ', (70000, 784))\n",
            "('label shape:', (70000,))\n"
          ],
          "name": "stdout"
        }
      ]
    },
    {
      "cell_type": "markdown",
      "metadata": {
        "id": "LBMg6pp2LkTw",
        "colab_type": "text"
      },
      "source": [
        "(1) Create a 10x10 grid to visualize 10 examples of each digit. Python hints:\n",
        "\n",
        "- plt.rc() for setting the colormap, for example to black and white\n",
        "- plt.subplot() for creating subplots\n",
        "- plt.imshow() for rendering a matrix\n",
        "- np.array.reshape() for reshaping a 1D feature vector into a 2D matrix (for rendering)"
      ]
    },
    {
      "cell_type": "code",
      "metadata": {
        "id": "NAcNPV-PLkTx",
        "colab_type": "code",
        "outputId": "db1789a8-9e33-4270-a6c5-67f5fd4cca74",
        "colab": {
          "base_uri": "https://localhost:8080/",
          "height": 581
        }
      },
      "source": [
        "def P1(num_examples=10):\n",
        "\n",
        "### STUDENT START ###\n",
        "  labels = sorted(set(train_labels)) # create a list of labels for the digits\n",
        "  num_labels = len(labels) # count number of possible labels\n",
        "  cmap = plt.cm.gray_r # Convert color map to grey scale\n",
        "\n",
        "   \n",
        " # Set the figure data \n",
        "  fig,ax = plt.subplots(nrows=num_labels, ncols=num_examples, figsize=(num_examples, num_labels))\n",
        "   \n",
        "# # Iterate over the labels, creating a 10x10 subplots with 10 examples of each label.\n",
        "  for label in range(num_labels):  \n",
        "    im_idx = np.argwhere(Y == labels[label]) # builds array of the locations where the label equals the label being plotted\n",
        "    for num in range(num_examples): # iterate for as many times as the number of example chosen by the user\n",
        "      image_pl = np.reshape(X[im_idx][num],(28,28)) # reshape image array to 28x28 for plotting\n",
        "      ax[label,num].imshow(image_pl, cmap = cmap) #plot image  \n",
        "      ax[label,num].set_xticks([]) # remove ticks on x \n",
        "      ax[label,num].set_yticks([]) # remove ticks on y       \n",
        "      \n",
        "\n",
        "### STUDENT END ###\n",
        "\n",
        "P1(10)"
      ],
      "execution_count": 0,
      "outputs": [
        {
          "output_type": "display_data",
          "data": {
            "image/png": "[encoded data removed]",
            "text/plain": [
              "<Figure size 720x720 with 100 Axes>"
            ]
          },
          "metadata": {
            "tags": []
          }
        }
      ]
    },
    {
      "cell_type": "markdown",
      "metadata": {
        "id": "AhcEgB5BLkTz",
        "colab_type": "text"
      },
      "source": [
        "(2) Evaluate a K-Nearest-Neighbors model with k = [1,3,5,7,9] using the mini training set. Report accuracy on the dev set. For k=1, show precision, recall, and F1 for each label. Which is the most difficult digit?\n",
        "\n",
        "- KNeighborsClassifier() for fitting and predicting\n",
        "- classification_report() for producing precision, recall, F1 results"
      ]
    },
    {
      "cell_type": "code",
      "metadata": {
        "id": "EVEn_N1uLkT0",
        "colab_type": "code",
        "outputId": "afdf29dd-6af2-4491-98ff-3e05ca1e10f7",
        "colab": {
          "base_uri": "https://localhost:8080/",
          "height": 451
        }
      },
      "source": [
        "def P2(k_values):\n",
        "\n",
        "### STUDENT START ###\n",
        "  \"\"\"fit K-Nearest-Neighbors model with different number of k using the mini training set and return score\"\"\"\n",
        "\n",
        "# compare score with differing values of k_values\n",
        "  for k_value in k_values:\n",
        "      my_score = get_score(k_value, mini_train_data, dev_data, mini_train_labels, dev_labels)\n",
        "      print(\"K-Nearest Neighbors with k: %s the accuracy score is %s\" %(k_value, my_score))\n",
        "\n",
        "  # For k=1, show precision, recall, and F1 for each label. \n",
        "  kn_model1=KNeighborsClassifier(n_neighbors=1)\n",
        "  kn_model1.fit(mini_train_data, mini_train_labels)\n",
        "  accuracy = classification_report(dev_labels, kn_model1.predict(dev_data))   \n",
        "  print(\"\\n\\nK-Nearest Neighbors with k: %s  \\n %s\" %(1, accuracy))\n",
        "\n",
        "def get_score(k_value, train_X, val_X, train_y, val_y):\n",
        "  \"\"\"Function to return single accuracy score for a KNeighborsClassifier model\"\"\"\n",
        "  model = KNeighborsClassifier(n_neighbors=k_value)\n",
        "  model.fit(train_X, train_y)\n",
        "  accuracy = model.score(val_X, val_y)\n",
        "  return(accuracy)\n",
        "  \n",
        "### STUDENT END ###\n",
        "\n",
        "k_values = [1, 3, 5, 7, 9]\n",
        "P2(k_values)"
      ],
      "execution_count": 0,
      "outputs": [
        {
          "output_type": "stream",
          "text": [
            "K-Nearest Neighbors with k: 1 the accuracy score is 0.884\n",
            "K-Nearest Neighbors with k: 3 the accuracy score is 0.876\n",
            "K-Nearest Neighbors with k: 5 the accuracy score is 0.882\n",
            "K-Nearest Neighbors with k: 7 the accuracy score is 0.877\n",
            "K-Nearest Neighbors with k: 9 the accuracy score is 0.875\n",
            "\n",
            "\n",
            "K-Nearest Neighbors with k: 1  \n",
            "               precision    recall  f1-score   support\n",
            "\n",
            "           0       0.95      0.95      0.95       106\n",
            "           1       0.89      0.98      0.93       118\n",
            "           2       0.90      0.79      0.84       106\n",
            "           3       0.93      0.87      0.90        97\n",
            "           4       0.91      0.85      0.88        92\n",
            "           5       0.86      0.88      0.87        88\n",
            "           6       0.92      0.92      0.92       102\n",
            "           7       0.85      0.94      0.89       102\n",
            "           8       0.83      0.77      0.80        94\n",
            "           9       0.80      0.86      0.83        95\n",
            "\n",
            "   micro avg       0.88      0.88      0.88      1000\n",
            "   macro avg       0.88      0.88      0.88      1000\n",
            "weighted avg       0.89      0.88      0.88      1000\n",
            "\n"
          ],
          "name": "stdout"
        }
      ]
    },
    {
      "cell_type": "markdown",
      "metadata": {
        "id": "VFAIEZi9LkT2",
        "colab_type": "text"
      },
      "source": [
        "ANSWER:\n",
        "\n",
        "**Higher Order kNN:**\n",
        "The highest accuracy was for the k=1 model, However, there is not much loss in accuracy for larger k values. The additional complexity added by increasing k did not increase accuracy on the test data set. A larger k suppresses the effects of noise, but makes the classification boundaries less distinct, which can be useful for some dataset that require more generalisation. We have enough data compared to the number of classifiers that this increase in generalisation is not required to improve performance.\n",
        "\n",
        "**NN Model Accuracy:**\n",
        "The f1 score is a weighted harmonic mean of precision and recall such that the best score is 1.0. From this score, 8 was the hardest number to classify overall. For the kNN with k=1 model the lowest precision score was for 9. This shows that this number was the most likely to have false positives, i.e. numbers classified as 9 that were not 9. 8 also had low precision. The lowest recall was for 8, this means this number was most likely to have the most false negatives, i.e. the model failed to classify the 8's as a 8.  4 also had a low precision. "
      ]
    },
    {
      "cell_type": "markdown",
      "metadata": {
        "id": "hFukiUp5LkT3",
        "colab_type": "text"
      },
      "source": [
        "(3) Using k=1, report dev set accuracy for the training set sizes below. Also, measure the amount of time needed for prediction with each training size.\n",
        "\n",
        "- time.time() gives a wall clock value you can use for timing operations"
      ]
    },
    {
      "cell_type": "code",
      "metadata": {
        "id": "KtaIb60LLkT4",
        "colab_type": "code",
        "outputId": "58e7106b-f934-4abf-9247-e553b7d1690b",
        "colab": {
          "base_uri": "https://localhost:8080/",
          "height": 173
        }
      },
      "source": [
        "def P3(train_sizes, accuracies):\n",
        "\n",
        "### STUDENT START ###\n",
        "\n",
        "# compare score with differing values of k_values\n",
        "  model = KNeighborsClassifier(n_neighbors=1) # create a KNeighborsClassifier model, k=1\n",
        "  for train_size in train_sizes:\n",
        "    model.fit(train_data[:train_size], train_labels[:train_size]) # fit the model for the training data set\n",
        "    \n",
        "    # Calculate the accuracy on the development data and time the model\n",
        "    start_time = time.time() \n",
        "    accuracy = model.score(dev_data, dev_labels) \n",
        "    train_time =  time.time() - start_time \n",
        "    \n",
        "    # Print output\n",
        "    print(\"K-Nearest Neighbors with training set size: %s the accuracy score is %s & time to compute is %0.2f seconds\" %(train_size, accuracy, train_time))\n",
        "    accuracies.append(accuracy)\n",
        "\n",
        "\n",
        "### STUDENT END ###\n",
        "\n",
        "train_sizes = [100, 200, 400, 800, 1600, 3200, 6400, 12800, 25000]\n",
        "accuracies = []\n",
        "P3(train_sizes, accuracies)"
      ],
      "execution_count": 0,
      "outputs": [
        {
          "output_type": "stream",
          "text": [
            "K-Nearest Neighbors with training set size: 100 the accuracy score is 0.702 & time to compute is 0.17 seconds\n",
            "K-Nearest Neighbors with training set size: 200 the accuracy score is 0.791 & time to compute is 0.33 seconds\n",
            "K-Nearest Neighbors with training set size: 400 the accuracy score is 0.811 & time to compute is 0.64 seconds\n",
            "K-Nearest Neighbors with training set size: 800 the accuracy score is 0.866 & time to compute is 1.29 seconds\n",
            "K-Nearest Neighbors with training set size: 1600 the accuracy score is 0.905 & time to compute is 2.67 seconds\n",
            "K-Nearest Neighbors with training set size: 3200 the accuracy score is 0.927 & time to compute is 6.07 seconds\n",
            "K-Nearest Neighbors with training set size: 6400 the accuracy score is 0.939 & time to compute is 12.46 seconds\n",
            "K-Nearest Neighbors with training set size: 12800 the accuracy score is 0.952 & time to compute is 24.97 seconds\n",
            "K-Nearest Neighbors with training set size: 25000 the accuracy score is 0.962 & time to compute is 49.12 seconds\n"
          ],
          "name": "stdout"
        }
      ]
    },
    {
      "cell_type": "markdown",
      "metadata": {
        "id": "oSOuTEQYLkT6",
        "colab_type": "text"
      },
      "source": [
        "(4) Fit a regression model that predicts accuracy from training size. What does it predict for n=60000? What's wrong with using regression here? Can you apply a transformation that makes the predictions more reasonable?\n",
        "\n",
        "- Remember that the sklearn fit() functions take an input matrix X and output vector Y. So each input example in X is a vector, even if it contains only a single value."
      ]
    },
    {
      "cell_type": "code",
      "metadata": {
        "id": "a9ASg8RBLkT7",
        "colab_type": "code",
        "outputId": "d3501682-f8b4-4c99-976e-afef2ae68877",
        "colab": {
          "base_uri": "https://localhost:8080/",
          "height": 321
        }
      },
      "source": [
        "def P4():\n",
        "\n",
        "### STUDENT START ###\n",
        "  # Transform train_sizes so it can be fed into linear regression model\n",
        "  X_train_sizes = np.array(train_sizes)[:, np.newaxis]\n",
        "\n",
        "\n",
        "### Create Linear Regression Model\n",
        "  lin_model = LinearRegression()\n",
        "  \n",
        "    # use a plain linear model\n",
        "  lin_model.fit(X_train_sizes, accuracies)\n",
        "  n_60000_pred = lin_model.predict([[60000]])\n",
        "  print(n_60000_pred)\n",
        "  \n",
        "    # use a simple log transform to increase linearity\n",
        "  lin_model.fit(np.log(X_train_sizes), accuracies)\n",
        "  n_60000_pred = lin_model.predict([np.log([60000])])\n",
        "  print(n_60000_pred)\n",
        "  \n",
        "  # use a simple 1/log transform to increase linearity\n",
        "  lin_model.fit(1/np.log(X_train_sizes), accuracies)\n",
        "  n_60000_pred = lin_model.predict([1/np.log([60000])])\n",
        "  pred = lin_model.predict(1/np.log(X_train_sizes))\n",
        "  print(n_60000_pred)\n",
        "  plt.scatter(1/np.log(X_train_sizes),accuracies)\n",
        "  plt.plot(1/np.log(X_train_sizes),pred)\n",
        "### STUDENT END ###\n",
        "\n",
        "P4()"
      ],
      "execution_count": 0,
      "outputs": [
        {
          "output_type": "stream",
          "text": [
            "[1.24469234]\n",
            "[1.03370997]\n",
            "[0.99020866]\n"
          ],
          "name": "stdout"
        },
        {
          "output_type": "display_data",
          "data": {
            "image/png": "[encoded data removed]",
            "text/plain": [
              "<Figure size 432x288 with 1 Axes>"
            ]
          },
          "metadata": {
            "tags": []
          }
        }
      ]
    },
    {
      "cell_type": "markdown",
      "metadata": {
        "id": "6n2wYXxkLkT9",
        "colab_type": "text"
      },
      "source": [
        "ANSWER: A simple linear regression gave a predicted accuracy of 1.25, which is not possible as the accuracy cannot be  greater than 1. After looking at the residual cure an log transformation was used, but the accuracy was still above 1, at 1.03. Finally a 1/log transform of the input variable train_size was implemented, giving an accuracy of 0.99, a reasonable prediction."
      ]
    },
    {
      "cell_type": "markdown",
      "metadata": {
        "id": "yGk9dilqLkT_",
        "colab_type": "text"
      },
      "source": [
        "Fit a 1-NN and output a confusion matrix for the dev data. Use the confusion matrix to identify the most confused pair of digits, and display a few example mistakes.\n",
        "\n",
        "- confusion_matrix() produces a confusion matrix"
      ]
    },
    {
      "cell_type": "code",
      "metadata": {
        "id": "lZBenYQDLkUA",
        "colab_type": "code",
        "outputId": "c19e3f3e-5b66-4c80-b0d9-288cc70b6235",
        "colab": {
          "base_uri": "https://localhost:8080/",
          "height": 477
        }
      },
      "source": [
        "def P5():\n",
        "\n",
        "### STUDENT START ###\n",
        "\n",
        "# Train kNN model on all training data, k_value = 1\n",
        "  model = KNeighborsClassifier(n_neighbors=1)\n",
        "  model.fit(mini_train_data, mini_train_labels)\n",
        "  dev_predict = model.predict(dev_data)\n",
        "  np.set_printoptions(precision=3)\n",
        "\n",
        "  # Compute confusion matrix\n",
        "  cm = confusion_matrix(dev_labels, dev_predict)\n",
        "  \n",
        "  labels = sorted(set(train_labels)) # create a list of labels for the digits\n",
        "  num_labels = len(labels) # count number of possible labels\n",
        "  \n",
        "  # Plot non-normalized confusion matrix\n",
        "  plot_confusion_matrix(cm = cm, classes= labels,\n",
        "                      title='Confusion matrix, MNIST NN Classifier')\n",
        "      \n",
        "  print(\"The most confused pair of digits are True 4's labeled as 9. A few examples of confused digits are shown below: \")\n",
        "  \n",
        "  \n",
        "  \n",
        "  cmap = plt.cm.gray_r # Convert color map to grey scale\n",
        "   \n",
        " # Set the figure data \n",
        "  fig,ax = plt.subplots(nrows=1, ncols=8, figsize=(20, 2))\n",
        "   \n",
        "# # Iterate over the labels, creating a 10x10 subplots with 10 examples of each label.\n",
        "#   for label in range(num_labels):  \n",
        "  im_idx = np.argwhere((dev_labels != dev_predict))#  dev_labels == labels[label])& # builds array of the locations where the label equals the label being plotted\n",
        "  for num in range(8): # iterate for as many times as the number of example chosen by the user\n",
        "    image_pl = np.reshape(dev_data[im_idx][num],(28,28)) # reshape image array to 28x28 for plotting\n",
        "    ax[num].imshow(image_pl, cmap = cmap) #plot image  \n",
        "    ax[num].set_xticks([]) # remove ticks on x \n",
        "    ax[num].set_yticks([]) # remove ticks on y \n",
        "    ax[num].set_title('True:%s Pred:%s' %(dev_labels[im_idx][num],dev_predict[im_idx][num] ) ) #title \n",
        "  \n",
        " \n",
        "\n",
        "  \n",
        "# Code for plot_confusion_matrix adapted from https://scikit-learn.org/stable/auto_examples/model_selection/plot_confusion_matrix.html\n",
        "def plot_confusion_matrix(cm, classes,\n",
        "                          title=None,\n",
        "                          cmap=plt.cm.Blues):\n",
        "    \"\"\"\n",
        "    This function plots the confusion matrix.\n",
        "    \"\"\"\n",
        "\n",
        "\n",
        "\n",
        "    fig, ax = plt.subplots()\n",
        "    im = ax.imshow(cm, interpolation='nearest', cmap=cmap)\n",
        "    ax.figure.colorbar(im, ax=ax)\n",
        "    # We want to show all ticks...\n",
        "    ax.set(xticks=np.arange(cm.shape[1]),\n",
        "           yticks=np.arange(cm.shape[0]),\n",
        "           # ... and label them with the respective list entries\n",
        "           xticklabels=classes, yticklabels=classes,\n",
        "           title=title,\n",
        "           ylabel='True label',\n",
        "           xlabel='Predicted label')\n",
        "\n",
        "    # Rotate the tick labels and set their alignment.\n",
        "    plt.setp(ax.get_xticklabels(), rotation=45, ha=\"right\",\n",
        "             rotation_mode=\"anchor\")\n",
        "\n",
        "    # Loop over data dimensions and create text annotations.\n",
        "    thresh = cm.max() / 2.\n",
        "    for i in range(cm.shape[0]):\n",
        "        for j in range(cm.shape[1]):\n",
        "            ax.text(j, i, format(cm[i, j], 'd'),\n",
        "                    ha=\"center\", va=\"center\",\n",
        "                    color=\"white\" if cm[i, j] > thresh else \"black\")\n",
        "    fig.tight_layout()\n",
        "    return ax\n",
        "\n",
        "    \n",
        "### STUDENT END ###\n",
        "\n",
        "P5()"
      ],
      "execution_count": 0,
      "outputs": [
        {
          "output_type": "stream",
          "text": [
            "The most confused pair of digits are True 4's labeled as 9. A few examples of confused digits are shown below: \n"
          ],
          "name": "stdout"
        },
        {
          "output_type": "display_data",
          "data": {
            "image/png": "[encoded data removed]",
            "text/plain": [
              "<Figure size 432x288 with 2 Axes>"
            ]
          },
          "metadata": {
            "tags": []
          }
        },
        {
          "output_type": "display_data",
          "data": {
            "image/png": "[encoded data removed]",
            "text/plain": [
              "<Figure size 1440x144 with 8 Axes>"
            ]
          },
          "metadata": {
            "tags": []
          }
        }
      ]
    },
    {
      "cell_type": "markdown",
      "metadata": {
        "id": "LknETfvs5g_p",
        "colab_type": "text"
      },
      "source": [
        "ANSWER: The most confused pair of digits are True 4's labeled as 9. A few examples of incorrect predictions are shown above."
      ]
    },
    {
      "cell_type": "markdown",
      "metadata": {
        "id": "4nixfswpLkUC",
        "colab_type": "text"
      },
      "source": [
        "(6) A common image processing technique is to smooth an image by blurring. The idea is that the value of a particular pixel is estimated as the weighted combination of the original value and the values around it. Typically, the blurring is Gaussian -- that is, the weight of a pixel's influence is determined by a Gaussian function over the distance to the relevant pixel.\n",
        "\n",
        "Implement a simplified Gaussian blur by just using the 8 neighboring pixels: the smoothed value of a pixel is a weighted combination of the original value and the 8 neighboring values. Try applying your blur filter in 3 ways:\n",
        "- preprocess the training data but not the dev data\n",
        "- preprocess the dev data but not the training data\n",
        "- preprocess both training and dev data\n",
        "\n",
        "Note that there are Guassian blur filters available, for example in scipy.ndimage.filters. You're welcome to experiment with those, but you are likely to get the best results with the simplified version I described above."
      ]
    },
    {
      "cell_type": "code",
      "metadata": {
        "id": "dQQXcH8YLkUD",
        "colab_type": "code",
        "outputId": "1c599b2e-69c7-43c9-ed8d-f0addae1185b",
        "colab": {
          "base_uri": "https://localhost:8080/",
          "height": 1731
        }
      },
      "source": [
        "\n",
        "def P6():\n",
        "    \n",
        "### STUDENT START ###\n",
        "  \n",
        "  # Create blurred data sets\n",
        "  mini_train_data_blurred = np.array(map(blur, mini_train_data))\n",
        "  dev_data_blurred = np.array(map(blur, dev_data))\n",
        "\n",
        "  kNN_fit(mini_train_data, dev_data, mini_train_labels, dev_labels, 'Original images, no blurring on test or development data') # original, no images blurred  \n",
        "  kNN_fit(mini_train_data_blurred, dev_data, mini_train_labels, dev_labels, 'Training data blurred, development data not blurred') # Training data blurred, development data not blurred\n",
        "  kNN_fit(mini_train_data, dev_data_blurred, mini_train_labels, dev_labels, 'Training data not blurred, development data blurred') #Training data not blurred, development data blurred\n",
        "  kNN_fit(mini_train_data_blurred, dev_data_blurred, mini_train_labels, dev_labels, 'Training data blurred, development data blurred') #Training data blurred, development data blurred\n",
        "  \n",
        "  print \"Examples of Guassian blur for a 3x3 matrix and sigma =1\"\n",
        "  map(plotting_blur, mini_train_data[3:5])\n",
        "\n",
        "def blur(image):\n",
        "  \"\"\"Blur image according to Gaussian blur, sigma 1\"\"\"\n",
        "  # Copy image \n",
        "  image_to_blur = np.copy(image.reshape((28,28)))\n",
        "  image_blurred = np.copy(image)\n",
        "  \n",
        "  #Create 3x3 Gaussian blurring matrix (sigma = 1)\n",
        "  kernel_sigma1 = gaussian_filter(sigma=1)\n",
        "  kernel = kernel_sigma1.reshape(-1,1)\n",
        "  \n",
        "  # Add row and column of zeros to image edges to allow edge blurring\n",
        "  image_to_blur = np.insert(np.insert(np.insert(image_to_blur, 28 , 0, axis=0), 0 , 0, axis=1), 0 , 0, axis=0)\n",
        "  image_to_blur = np.append(image_to_blur, np.zeros((30,1), dtype=int), axis=1)\n",
        "  \n",
        "  for i in range(1,28): # loop through rows\n",
        "    for j in range (1,28):\n",
        "      #splice image array to get 3x3 matrix for gaussian blurring\n",
        "      image_to_blur_matrix =  image_to_blur[i-1:i+2,j-1:j+2].reshape(1, -1)\n",
        "      # insert new pixel into image_blurred. New pixel is created via gaussian blur matrix 'kernel'\n",
        "      image_blurred[(i-1)*28 +(j-1)] = np.dot(image_to_blur_matrix,kernel)\n",
        "  return image_blurred # return new image array\n",
        "\n",
        "\n",
        "def gaussian_filter(shape =(3,3), sigma=1):\n",
        "  \"\"\"Function for returning a Gaussian Matrix\"\"\"\n",
        "  x, y = [edge /2 for edge in shape]\n",
        "  grid = np.array([[((i**2+j**2)/(2.0*sigma**2)) for i in xrange(-x, x+1)] for j in xrange(-y, y+1)])\n",
        "  g_filter = np.exp(-grid)/(2*np.pi*sigma**2)\n",
        "  g_filter /= np.sum(g_filter)\n",
        "  return g_filter\n",
        "\n",
        " \n",
        "def kNN_fit(train_data, dev_data, train_labels, dev_labels, title):\n",
        "  \"\"\"fit K-Nearest-Neighbors model with k=1 and return accuracy statistics\"\"\"\n",
        "\n",
        "  # For k=1, show precision, recall, and F1 for each label. \n",
        "  kn_model1=KNeighborsClassifier(n_neighbors=1)\n",
        "  kn_model1.fit(train_data, train_labels)\n",
        "  accuracy = classification_report(dev_labels, kn_model1.predict(dev_data))   \n",
        "  print title, \":\"\n",
        "  print (\"%s\" %(accuracy))\n",
        "  \n",
        "def plotting_blur(image):\n",
        "  \"\"\"Function to plot original image and blurred image pair\"\"\"\n",
        "  # Set the figure data \n",
        "  fig,ax = plt.subplots(nrows=1, ncols=2, figsize=(8, 8))\n",
        "\n",
        "  ax[0].imshow(np.copy(image.reshape((28,28))), cmap = plt.cm.gray_r) #plot original image \n",
        "  ax[1].imshow(np.copy(blur(image).reshape((28,28))), cmap = plt.cm.gray_r) #plot blurred image  \n",
        "  ax[0].set_xticks([]) # remove ticks on x\n",
        "  ax[0].set_yticks([]) # remove ticks on y   \n",
        "  ax[1].set_xticks([]) # remove ticks on x\n",
        "  ax[1].set_yticks([]) # remove ticks on y  \n",
        "  \n",
        "  \n",
        "### STUDENT END ###\n",
        "\n",
        "P6()\n",
        "\n"
      ],
      "execution_count": 0,
      "outputs": [
        {
          "output_type": "stream",
          "text": [
            "Original images, no blurring on test or development data :\n",
            "              precision    recall  f1-score   support\n",
            "\n",
            "           0       0.95      0.95      0.95       106\n",
            "           1       0.89      0.98      0.93       118\n",
            "           2       0.90      0.79      0.84       106\n",
            "           3       0.93      0.87      0.90        97\n",
            "           4       0.91      0.85      0.88        92\n",
            "           5       0.86      0.88      0.87        88\n",
            "           6       0.92      0.92      0.92       102\n",
            "           7       0.85      0.94      0.89       102\n",
            "           8       0.83      0.77      0.80        94\n",
            "           9       0.80      0.86      0.83        95\n",
            "\n",
            "   micro avg       0.88      0.88      0.88      1000\n",
            "   macro avg       0.88      0.88      0.88      1000\n",
            "weighted avg       0.89      0.88      0.88      1000\n",
            "\n",
            "Training data blurred, development data not blurred :\n",
            "              precision    recall  f1-score   support\n",
            "\n",
            "           0       0.94      0.95      0.95       106\n",
            "           1       0.94      0.97      0.96       118\n",
            "           2       0.92      0.86      0.89       106\n",
            "           3       0.94      0.87      0.90        97\n",
            "           4       0.94      0.84      0.89        92\n",
            "           5       0.91      0.89      0.90        88\n",
            "           6       0.92      0.95      0.93       102\n",
            "           7       0.91      0.94      0.93       102\n",
            "           8       0.83      0.85      0.84        94\n",
            "           9       0.81      0.92      0.86        95\n",
            "\n",
            "   micro avg       0.91      0.91      0.91      1000\n",
            "   macro avg       0.91      0.90      0.90      1000\n",
            "weighted avg       0.91      0.91      0.91      1000\n",
            "\n",
            "Training data not blurred, development data blurred :\n",
            "              precision    recall  f1-score   support\n",
            "\n",
            "           0       0.96      0.92      0.94       106\n",
            "           1       0.82      0.98      0.90       118\n",
            "           2       0.90      0.76      0.83       106\n",
            "           3       0.93      0.88      0.90        97\n",
            "           4       0.89      0.83      0.86        92\n",
            "           5       0.85      0.89      0.87        88\n",
            "           6       0.88      0.91      0.89       102\n",
            "           7       0.84      0.93      0.88       102\n",
            "           8       0.85      0.70      0.77        94\n",
            "           9       0.78      0.84      0.81        95\n",
            "\n",
            "   micro avg       0.87      0.87      0.87      1000\n",
            "   macro avg       0.87      0.86      0.87      1000\n",
            "weighted avg       0.87      0.87      0.87      1000\n",
            "\n",
            "Training data blurred, development data blurred :\n",
            "              precision    recall  f1-score   support\n",
            "\n",
            "           0       0.95      0.94      0.95       106\n",
            "           1       0.92      0.97      0.95       118\n",
            "           2       0.95      0.83      0.88       106\n",
            "           3       0.93      0.88      0.90        97\n",
            "           4       0.95      0.84      0.89        92\n",
            "           5       0.90      0.89      0.89        88\n",
            "           6       0.90      0.93      0.92       102\n",
            "           7       0.88      0.94      0.91       102\n",
            "           8       0.84      0.84      0.84        94\n",
            "           9       0.80      0.93      0.86        95\n",
            "\n",
            "   micro avg       0.90      0.90      0.90      1000\n",
            "   macro avg       0.90      0.90      0.90      1000\n",
            "weighted avg       0.90      0.90      0.90      1000\n",
            "\n",
            "Examples of Guassian blur for a 3x3 matrix and sigma =1\n"
          ],
          "name": "stdout"
        },
        {
          "output_type": "display_data",
          "data": {
            "image/png": "[encoded data removed]",
            "text/plain": [
              "<Figure size 576x576 with 2 Axes>"
            ]
          },
          "metadata": {
            "tags": []
          }
        },
        {
          "output_type": "display_data",
          "data": {
            "image/png": "[encoded data removed]",
            "text/plain": [
              "<Figure size 576x576 with 2 Axes>"
            ]
          },
          "metadata": {
            "tags": []
          }
        }
      ]
    },
    {
      "cell_type": "markdown",
      "metadata": {
        "id": "5d8F0JgvLkUF",
        "colab_type": "text"
      },
      "source": [
        "ANSWER:\n",
        "\n",
        "By employing a simple Gaussian blur to a model trained on the mini_train_data set the accuracy of prediction was increased by ~3%. This is a >25% decrease in the error rate. The increase in accuracy was best when the blur was only applied to the training data. The performance was worse than the base case (no blurring) when the test data was blurred without the training data being blurred. "
      ]
    },
    {
      "cell_type": "markdown",
      "metadata": {
        "id": "W1z-ZaYoLkUF",
        "colab_type": "text"
      },
      "source": [
        "(7) Fit a Naive Bayes classifier and report accuracy on the dev data. Remember that Naive Bayes estimates P(feature|label). While sklearn can handle real-valued features, let's start by mapping the pixel values to either 0 or 1. You can do this as a preprocessing step, or with the binarize argument. With binary-valued features, you can use BernoulliNB. Next try mapping the pixel values to 0, 1, or 2, representing white, grey, or black. This mapping requires MultinomialNB. Does the multi-class version improve the results? Why or why not?"
      ]
    },
    {
      "cell_type": "code",
      "metadata": {
        "id": "gFr5Q97TLkUG",
        "colab_type": "code",
        "outputId": "5e6a6d29-bcc8-435f-d26d-c81c6ffec5a3",
        "colab": {
          "base_uri": "https://localhost:8080/",
          "height": 949
        }
      },
      "source": [
        "def P7():\n",
        "\n",
        "### STUDENT START ###\n",
        "\n",
        "  ## simple binary Naive Bayes classifier \n",
        "  nb_binary = BernoulliNB(binarize = 0.5, alpha = 1.0)\n",
        "  nb_binary.fit(train_data, train_labels)\n",
        "  nb_predict = nb_binary.predict(dev_data)\n",
        "  \n",
        "  #report accuracy\n",
        "  accuracy = classification_report(nb_predict, dev_labels)\n",
        "  modelscore = nb_binary.score(dev_data, dev_labels)\n",
        "  print \"Accuracy of the binary NB classifier: %.3f\\n\\n %s\" %(modelscore, accuracy)\n",
        "  \n",
        "  \n",
        "  ## MultinomialNB classifier with the pixel values mapped to 0, 1, or 2, representing white, grey, or black\n",
        "  \n",
        "  # Vector to map pixel values to 0, 1, or 2, representing white, grey, or black\n",
        "  pixel_mapping = np.vectorize(lambda x: 2 if x > 0.9 else 0 if x < 0.4 else 1)\n",
        "  # map input training and test data\n",
        "  train_data_vec = pixel_mapping(np.copy(train_data))\n",
        "  dev_data_vec = pixel_mapping(np.copy(dev_data))\n",
        "  \n",
        "  ## Multinomial Naive Bayes classifier \n",
        "  nb_multi = MultinomialNB()\n",
        "  nb_multi.fit(train_data_vec, train_labels)\n",
        "  nb_multi_predict = nb_multi.predict(dev_data_vec)\n",
        "\n",
        "  #report accuracy\n",
        "  accuracy = classification_report(nb_multi_predict, dev_labels)\n",
        "  modelscore = nb_multi.score(dev_data, dev_labels)\n",
        "  print \"Accuracy of the Multinomial NB classifier: %.3f\\n\\n %s\" %(modelscore, accuracy)\n",
        "\n",
        "  print \"Example of White/Grey/Black Image: \\n\"\n",
        "  plotting(train_data_vec[1])\n",
        "\n",
        "def plotting(image):\n",
        "  \"\"\"Function to plot original image and blurred image pair\"\"\"\n",
        "  # Set the figure data \n",
        "  fig,ax = plt.subplots(nrows=1, ncols=1, figsize=(4, 4))\n",
        "\n",
        "  ax.imshow(np.copy(image.reshape((28,28))), cmap = plt.cm.gray_r) #plot original image \n",
        "  ax.set_xticks([]) # remove ticks on x\n",
        "  ax.set_yticks([]) # remove ticks on y   \n",
        "    \n",
        "### STUDENT END ###\n",
        "\n",
        "P7()\n",
        "\n",
        "\n",
        "\n"
      ],
      "execution_count": 0,
      "outputs": [
        {
          "output_type": "stream",
          "text": [
            "Accuracy of the binary NB classifier: 0.827\n",
            "\n",
            "               precision    recall  f1-score   support\n",
            "\n",
            "           0       0.92      0.92      0.92       106\n",
            "           1       0.96      0.90      0.93       126\n",
            "           2       0.75      0.84      0.79        94\n",
            "           3       0.77      0.72      0.75       104\n",
            "           4       0.86      0.76      0.81       104\n",
            "           5       0.72      0.89      0.79        71\n",
            "           6       0.90      0.84      0.87       109\n",
            "           7       0.87      0.94      0.90        95\n",
            "           8       0.70      0.68      0.69        97\n",
            "           9       0.77      0.78      0.77        94\n",
            "\n",
            "   micro avg       0.83      0.83      0.83      1000\n",
            "   macro avg       0.82      0.83      0.82      1000\n",
            "weighted avg       0.83      0.83      0.83      1000\n",
            "\n",
            "Accuracy of the Multinomial NB classifier: 0.827\n",
            "\n",
            "               precision    recall  f1-score   support\n",
            "\n",
            "           0       0.92      0.92      0.92       107\n",
            "           1       0.92      0.87      0.90       125\n",
            "           2       0.75      0.83      0.79        95\n",
            "           3       0.77      0.75      0.76       100\n",
            "           4       0.83      0.78      0.80        97\n",
            "           5       0.67      0.86      0.75        69\n",
            "           6       0.91      0.85      0.88       109\n",
            "           7       0.86      0.98      0.92        90\n",
            "           8       0.70      0.63      0.66       105\n",
            "           9       0.83      0.77      0.80       103\n",
            "\n",
            "   micro avg       0.82      0.82      0.82      1000\n",
            "   macro avg       0.82      0.82      0.82      1000\n",
            "weighted avg       0.83      0.82      0.82      1000\n",
            "\n",
            "Example of White/Grey/Black Image: \n",
            "\n"
          ],
          "name": "stdout"
        },
        {
          "output_type": "display_data",
          "data": {
            "image/png": "[encoded data removed]",
            "text/plain": [
              "<Figure size 288x288 with 1 Axes>"
            ]
          },
          "metadata": {
            "tags": []
          }
        }
      ]
    },
    {
      "cell_type": "markdown",
      "metadata": {
        "id": "qH_-xsd4LkUI",
        "colab_type": "text"
      },
      "source": [
        "ANSWER: The Multinomial Naive Bayes Classifier only has no accuracy increase over the binary NB classifier with tuning of the split between white, grey and black. Indeed, the performance was actually worse for most splits values explored. the split that optimised the accuracy was balck if > 0.9,  white if < 0.4 else grey (0.4 <= x<= 0.9. Thus overall, an MultinomialNB does not improve on the accuracy of the Bernoulli (binary) NB classifier, This is probably due to the lack of additional information brought to the model for the grey pixels: in the low resolution 28x28 grid the 3rd colour does not add enough information to make a difference. It is likely the binarized data allows the model to work with primary features such as artifacts in the image. Visually, from the plot above, the grey provides a little more context to the edge, but not enough to increase accuracy.\n",
        "\n"
      ]
    },
    {
      "cell_type": "markdown",
      "metadata": {
        "id": "tnLL2tC_LkUI",
        "colab_type": "text"
      },
      "source": [
        "(8) Use GridSearchCV to perform a search over values of alpha (the Laplace smoothing parameter) in a Bernoulli NB model. What is the best value for alpha? What is the accuracy when alpha=0? Is this what you'd expect?\n",
        "\n",
        "- Note that GridSearchCV partitions the training data so the results will be a bit different than if you used the dev data for evaluation."
      ]
    },
    {
      "cell_type": "code",
      "metadata": {
        "id": "slANjobgLkUJ",
        "colab_type": "code",
        "outputId": "59ae8ff4-7c07-48cc-b565-7959c0007f5c",
        "colab": {
          "base_uri": "https://localhost:8080/",
          "height": 347
        }
      },
      "source": [
        "def P8(alphas):\n",
        "\n",
        "### STUDENT START ###\n",
        "  \n",
        "  ## Grid search Binomial Naive Bayes classifier \n",
        "  gridsearch = GridSearchCV(BernoulliNB(binarize  = 0.5), alphas, cv=3)\n",
        "  gridsearch.fit(mini_train_data, mini_train_labels)\n",
        "  grid_predict = gridsearch.predict(dev_data)\n",
        "\n",
        "  #report accuracy\n",
        "  accuracy = classification_report(grid_predict, dev_labels)\n",
        "  modelscore = gridsearch.score(dev_data, dev_labels)\n",
        "  print \"Accuracy of the Bernoulli NB classifier: %.3f\\n\\n %s\" %(modelscore, accuracy)\n",
        "\n",
        "  return gridsearch\n",
        "### STUDENT END ###\n",
        "\n",
        "alphas = {'alpha': [0.0, 0.0001, 0.001, 0.01, 0.1, 0.5, 1.0, 2.0, 10.0]}\n",
        "nb = P8(alphas)"
      ],
      "execution_count": 0,
      "outputs": [
        {
          "output_type": "stream",
          "text": [
            "Accuracy of the Bernoulli NB classifier: 0.828\n",
            "\n",
            "               precision    recall  f1-score   support\n",
            "\n",
            "           0       0.91      0.93      0.92       103\n",
            "           1       0.93      0.92      0.92       120\n",
            "           2       0.81      0.75      0.78       114\n",
            "           3       0.77      0.75      0.76       100\n",
            "           4       0.83      0.76      0.79       100\n",
            "           5       0.73      0.82      0.77        78\n",
            "           6       0.86      0.94      0.90        94\n",
            "           7       0.86      0.94      0.90        94\n",
            "           8       0.74      0.67      0.71       104\n",
            "           9       0.79      0.81      0.80        93\n",
            "\n",
            "   micro avg       0.83      0.83      0.83      1000\n",
            "   macro avg       0.82      0.83      0.82      1000\n",
            "weighted avg       0.83      0.83      0.83      1000\n",
            "\n"
          ],
          "name": "stdout"
        }
      ]
    },
    {
      "cell_type": "code",
      "metadata": {
        "id": "xp-jbVd-LkUL",
        "colab_type": "code",
        "outputId": "01d5cf1a-312c-4b34-94fc-2a3349b9a39e",
        "colab": {
          "base_uri": "https://localhost:8080/",
          "height": 69
        }
      },
      "source": [
        "np.set_printoptions(precision=3)\n",
        "print nb.best_params_\n",
        "print alphas\n",
        "print nb.cv_results_['mean_test_score']"
      ],
      "execution_count": 0,
      "outputs": [
        {
          "output_type": "stream",
          "text": [
            "{'alpha': 0.001}\n",
            "{'alpha': [0.0, 0.0001, 0.001, 0.01, 0.1, 0.5, 1.0, 2.0, 10.0]}\n",
            "[0.814 0.825 0.827 0.825 0.821 0.815 0.811 0.803 0.744]\n"
          ],
          "name": "stdout"
        }
      ]
    },
    {
      "cell_type": "markdown",
      "metadata": {
        "id": "cY4gNiuNLkUO",
        "colab_type": "text"
      },
      "source": [
        "ANSWER: The best value for alpha is 0.001. This has an accuracy of 82.7%.  This is similar to the accuracy achieved with the larger training size of train_data in P7 using a default value of alpha = 1. The small increase in alpha applies a small amount of smoothing and reduces noise in the dataset. This is similar to the effect of the Gaussian blur. Manipulating the alpha has little effect to a model trained on  the larger train_data set because  the number of samples is much larger than the number of classifications and thus the possibilities are fairly well represented. The mini_data_set leaves some room for improvement via smoothing, allowing a model to be trained quickly to a similar accuracy.\n",
        "\n",
        "Note, the smallest allowable value for alpha is 1e-10, not 0. The accuracy is lower than in P7 because a smaller training set was used. The lower accuracy than 0.001 is expected as the noise in the dataset causes some digits to be confused by the model."
      ]
    },
    {
      "cell_type": "markdown",
      "metadata": {
        "id": "PNCf7eEKLkUP",
        "colab_type": "text"
      },
      "source": [
        "(9) Try training a model using GuassianNB, which is intended for real-valued features, and evaluate on the dev data. You'll notice that it doesn't work so well. Try to diagnose the problem. You should be able to find a simple fix that returns the accuracy to around the same rate as BernoulliNB. Explain your solution.\n",
        "\n",
        "Hint: examine the parameters estimated by the fit() method, theta\\_ and sigma\\_."
      ]
    },
    {
      "cell_type": "code",
      "metadata": {
        "id": "7mvGktkrLkUP",
        "colab_type": "code",
        "outputId": "d02bcd75-3fcb-43a1-e22c-5f6f5425fabf",
        "colab": {
          "base_uri": "https://localhost:8080/",
          "height": 347
        }
      },
      "source": [
        "def P9():\n",
        "\n",
        "### STUDENT END ###\n",
        "  \n",
        "  \n",
        "  ## Gaussian Naive Bayes classifier \n",
        "  gaussian_nb = GaussianNB() # manipulated var_smoothing to get reasonable sigma (variance)\n",
        "  gaussian_nb.fit(train_data, train_labels)\n",
        "  gaussian_nb_predict = gaussian_nb.predict(dev_data)\n",
        "\n",
        "  #report accuracy\n",
        "  accuracy = classification_report(gaussian_nb_predict, dev_labels)\n",
        "  modelscore = gaussian_nb.score(dev_data, dev_labels)\n",
        "  print \"Accuracy of the Multinomial NB classifier: %.3f\\n\\n %s\" %(modelscore, accuracy)\n",
        "\n",
        "\n",
        "  return gaussian_nb\n",
        "\n",
        "def plotting(image):\n",
        "  \"\"\"Function to plot theta or sigma images\"\"\"\n",
        "  # Set the figure data \n",
        "   # Set the figure data \n",
        "  fig,ax = plt.subplots(nrows=1, ncols=10, figsize=(20, 2))\n",
        "  \n",
        "  for i in range(10):\n",
        "    ax[i].imshow(np.copy(image[i].reshape((28,28))), cmap = plt.cm.gray_r) #plot original image \n",
        "    ax[i].set_xticks([]) # remove ticks on x\n",
        "    ax[i].set_yticks([]) # remove ticks on y\n",
        "\n",
        "### STUDENT END ###\n",
        "\n",
        "gnb = P9()"
      ],
      "execution_count": 0,
      "outputs": [
        {
          "output_type": "stream",
          "text": [
            "Accuracy of the Multinomial NB classifier: 0.586\n",
            "\n",
            "               precision    recall  f1-score   support\n",
            "\n",
            "           0       0.92      0.79      0.85       123\n",
            "           1       0.92      0.83      0.88       131\n",
            "           2       0.23      0.89      0.36        27\n",
            "           3       0.38      0.73      0.50        51\n",
            "           4       0.28      0.93      0.43        28\n",
            "           5       0.12      0.79      0.22        14\n",
            "           6       0.92      0.61      0.73       154\n",
            "           7       0.40      0.91      0.56        45\n",
            "           8       0.60      0.27      0.37       208\n",
            "           9       0.96      0.42      0.58       219\n",
            "\n",
            "   micro avg       0.59      0.59      0.59      1000\n",
            "   macro avg       0.57      0.72      0.55      1000\n",
            "weighted avg       0.76      0.59      0.61      1000\n",
            "\n"
          ],
          "name": "stdout"
        }
      ]
    },
    {
      "cell_type": "code",
      "metadata": {
        "id": "iNpXajqPLbPb",
        "colab_type": "code",
        "outputId": "1a59ed75-6611-43ae-8c08-bc5cef4a03e8",
        "colab": {
          "base_uri": "https://localhost:8080/",
          "height": 277
        }
      },
      "source": [
        "print(gnb.theta_[1][:100])\n"
      ],
      "execution_count": 0,
      "outputs": [
        {
          "output_type": "stream",
          "text": [
            "[0.000e+00 0.000e+00 0.000e+00 0.000e+00 0.000e+00 0.000e+00 0.000e+00\n",
            " 0.000e+00 0.000e+00 0.000e+00 0.000e+00 0.000e+00 0.000e+00 0.000e+00\n",
            " 0.000e+00 0.000e+00 0.000e+00 0.000e+00 0.000e+00 0.000e+00 0.000e+00\n",
            " 0.000e+00 0.000e+00 0.000e+00 0.000e+00 0.000e+00 0.000e+00 0.000e+00\n",
            " 0.000e+00 0.000e+00 0.000e+00 0.000e+00 0.000e+00 0.000e+00 0.000e+00\n",
            " 0.000e+00 0.000e+00 0.000e+00 0.000e+00 0.000e+00 0.000e+00 0.000e+00\n",
            " 1.810e-04 2.948e-04 4.120e-05 0.000e+00 0.000e+00 0.000e+00 0.000e+00\n",
            " 0.000e+00 0.000e+00 0.000e+00 0.000e+00 0.000e+00 0.000e+00 0.000e+00\n",
            " 0.000e+00 0.000e+00 0.000e+00 0.000e+00 0.000e+00 0.000e+00 0.000e+00\n",
            " 0.000e+00 0.000e+00 0.000e+00 4.990e-05 2.228e-04 3.633e-04 8.095e-04\n",
            " 1.263e-03 1.285e-03 6.012e-04 2.449e-04 1.045e-04 1.468e-04 3.482e-05\n",
            " 0.000e+00 0.000e+00 0.000e+00 0.000e+00 0.000e+00 0.000e+00 0.000e+00\n",
            " 0.000e+00 0.000e+00 2.437e-05 5.803e-06 0.000e+00 0.000e+00 0.000e+00\n",
            " 1.683e-05 1.915e-05 1.311e-04 3.395e-04 7.509e-04 1.804e-03 4.764e-03\n",
            " 6.566e-03 7.023e-03]\n"
          ],
          "name": "stdout"
        }
      ]
    },
    {
      "cell_type": "code",
      "metadata": {
        "id": "g2Ncg0RVpGVY",
        "colab_type": "code",
        "outputId": "af9ee43f-2c69-4b22-f89f-d29c46159c03",
        "colab": {
          "base_uri": "https://localhost:8080/",
          "height": 153
        }
      },
      "source": [
        "\n",
        "plotting(gnb.theta_)"
      ],
      "execution_count": 0,
      "outputs": [
        {
          "output_type": "display_data",
          "data": {
            "image/png": "[encoded data removed]",
            "text/plain": [
              "<Figure size 1440x144 with 10 Axes>"
            ]
          },
          "metadata": {
            "tags": []
          }
        }
      ]
    },
    {
      "cell_type": "code",
      "metadata": {
        "id": "WL0mghy0L3HC",
        "colab_type": "code",
        "outputId": "d4b93b75-9aca-4858-ad5b-7ea865df4cf4",
        "colab": {
          "base_uri": "https://localhost:8080/",
          "height": 1959
        }
      },
      "source": [
        "print(gnb.sigma_[9][:])\n",
        "\n"
      ],
      "execution_count": 0,
      "outputs": [
        {
          "output_type": "stream",
          "text": [
            "[1.994e-10 1.994e-10 1.994e-10 1.994e-10 1.994e-10 1.994e-10 1.994e-10\n",
            " 1.994e-10 1.994e-10 1.994e-10 1.994e-10 1.994e-10 1.994e-10 1.994e-10\n",
            " 1.994e-10 1.994e-10 1.994e-10 1.994e-10 1.994e-10 1.994e-10 1.994e-10\n",
            " 1.994e-10 1.994e-10 1.994e-10 1.994e-10 1.994e-10 1.994e-10 1.994e-10\n",
            " 1.994e-10 1.994e-10 1.994e-10 1.994e-10 1.994e-10 1.994e-10 1.994e-10\n",
            " 1.994e-10 1.994e-10 1.994e-10 1.994e-10 1.994e-10 1.994e-10 1.994e-10\n",
            " 1.994e-10 1.994e-10 1.994e-10 1.994e-10 1.994e-10 1.994e-10 1.994e-10\n",
            " 1.994e-10 1.994e-10 1.994e-10 1.994e-10 1.994e-10 1.994e-10 1.994e-10\n",
            " 1.994e-10 1.994e-10 1.994e-10 1.994e-10 1.994e-10 1.994e-10 1.994e-10\n",
            " 1.994e-10 1.994e-10 1.994e-10 1.994e-10 1.994e-10 1.994e-10 1.994e-10\n",
            " 1.994e-10 1.994e-10 1.994e-10 1.994e-10 1.994e-10 1.994e-10 1.994e-10\n",
            " 1.994e-10 1.994e-10 1.994e-10 1.994e-10 1.994e-10 1.994e-10 1.994e-10\n",
            " 1.994e-10 1.994e-10 1.994e-10 1.994e-10 1.994e-10 1.994e-10 1.994e-10\n",
            " 1.994e-10 1.994e-10 1.994e-10 1.994e-10 1.994e-10 1.994e-10 1.994e-10\n",
            " 1.994e-10 1.994e-10 1.994e-10 1.247e-06 6.845e-05 1.878e-06 1.994e-10\n",
            " 1.994e-10 1.994e-10 1.994e-10 1.994e-10 1.994e-10 1.994e-10 1.994e-10\n",
            " 1.994e-10 1.994e-10 1.994e-10 1.994e-10 1.994e-10 1.994e-10 1.649e-05\n",
            " 1.675e-04 2.228e-05 2.148e-06 1.503e-04 5.716e-04 1.468e-03 1.873e-03\n",
            " 1.967e-03 1.625e-03 1.210e-03 8.352e-04 6.879e-04 3.107e-04 1.946e-04\n",
            " 5.979e-07 1.994e-10 1.994e-10 1.994e-10 1.994e-10 1.994e-10 1.994e-10\n",
            " 1.994e-10 1.994e-10 1.994e-10 1.994e-10 1.994e-10 1.994e-10 3.617e-05\n",
            " 1.972e-04 4.512e-04 1.522e-03 4.292e-03 1.093e-02 1.904e-02 2.795e-02\n",
            " 3.359e-02 3.408e-02 3.009e-02 2.490e-02 1.780e-02 1.062e-02 5.468e-03\n",
            " 1.945e-03 3.537e-04 7.608e-06 1.994e-10 1.994e-10 1.994e-10 1.994e-10\n",
            " 1.994e-10 1.994e-10 1.994e-10 1.994e-10 2.020e-06 1.564e-05 4.394e-04\n",
            " 1.858e-03 6.292e-03 1.846e-02 4.109e-02 7.440e-02 1.141e-01 1.484e-01\n",
            " 1.669e-01 1.742e-01 1.742e-01 1.653e-01 1.361e-01 9.026e-02 4.952e-02\n",
            " 1.910e-02 5.740e-03 9.767e-04 2.175e-04 5.504e-05 1.994e-10 1.994e-10\n",
            " 1.994e-10 1.994e-10 1.994e-10 4.988e-06 1.870e-05 5.132e-04 3.837e-03\n",
            " 1.220e-02 3.365e-02 7.219e-02 1.214e-01 1.622e-01 1.674e-01 1.369e-01\n",
            " 1.059e-01 9.721e-02 1.187e-01 1.594e-01 1.826e-01 1.587e-01 1.068e-01\n",
            " 5.260e-02 1.879e-02 5.387e-03 7.969e-04 4.679e-05 1.994e-10 1.994e-10\n",
            " 1.994e-10 1.994e-10 2.776e-09 1.754e-05 6.848e-04 3.312e-03 1.435e-02\n",
            " 3.789e-02 8.590e-02 1.408e-01 1.734e-01 1.579e-01 1.260e-01 1.188e-01\n",
            " 1.304e-01 1.374e-01 1.394e-01 1.513e-01 1.698e-01 1.752e-01 1.381e-01\n",
            " 8.185e-02 3.338e-02 9.451e-03 2.242e-03 2.812e-04 1.994e-10 1.994e-10\n",
            " 1.994e-10 1.994e-10 2.638e-06 2.768e-04 1.960e-03 9.521e-03 3.466e-02\n",
            " 7.767e-02 1.388e-01 1.756e-01 1.595e-01 1.410e-01 1.569e-01 1.725e-01\n",
            " 1.642e-01 1.602e-01 1.708e-01 1.697e-01 1.702e-01 1.745e-01 1.499e-01\n",
            " 9.189e-02 4.002e-02 1.119e-02 2.356e-03 1.877e-04 1.994e-10 1.994e-10\n",
            " 1.994e-10 1.994e-10 1.264e-07 6.235e-04 5.587e-03 2.264e-02 6.055e-02\n",
            " 1.170e-01 1.718e-01 1.697e-01 1.519e-01 1.701e-01 1.680e-01 1.209e-01\n",
            " 9.104e-02 1.153e-01 1.679e-01 1.768e-01 1.678e-01 1.790e-01 1.592e-01\n",
            " 9.642e-02 4.014e-02 1.062e-02 2.253e-03 4.512e-04 2.806e-06 1.994e-10\n",
            " 1.994e-10 1.994e-10 3.997e-05 1.312e-03 1.041e-02 3.634e-02 8.521e-02\n",
            " 1.493e-01 1.806e-01 1.617e-01 1.696e-01 1.712e-01 1.128e-01 6.211e-02\n",
            " 6.750e-02 1.244e-01 1.785e-01 1.650e-01 1.505e-01 1.811e-01 1.622e-01\n",
            " 9.068e-02 3.531e-02 8.592e-03 1.324e-03 1.520e-04 1.411e-05 1.994e-10\n",
            " 1.994e-10 1.994e-10 1.859e-04 2.922e-03 1.599e-02 4.794e-02 1.014e-01\n",
            " 1.632e-01 1.782e-01 1.648e-01 1.780e-01 1.488e-01 9.199e-02 8.468e-02\n",
            " 1.187e-01 1.664e-01 1.721e-01 1.272e-01 1.391e-01 1.844e-01 1.463e-01\n",
            " 7.466e-02 2.770e-02 6.955e-03 4.574e-04 1.147e-06 1.994e-10 1.994e-10\n",
            " 1.994e-10 1.994e-10 1.709e-04 3.635e-03 1.817e-02 5.344e-02 1.110e-01\n",
            " 1.693e-01 1.788e-01 1.688e-01 1.798e-01 1.616e-01 1.436e-01 1.550e-01\n",
            " 1.734e-01 1.708e-01 1.274e-01 9.277e-02 1.438e-01 1.811e-01 1.206e-01\n",
            " 5.408e-02 1.785e-02 4.945e-03 4.187e-04 1.072e-04 6.967e-06 1.994e-10\n",
            " 1.994e-10 1.994e-10 9.507e-05 3.362e-03 1.726e-02 5.015e-02 1.080e-01\n",
            " 1.658e-01 1.828e-01 1.735e-01 1.764e-01 1.800e-01 1.803e-01 1.760e-01\n",
            " 1.648e-01 1.420e-01 9.611e-02 8.595e-02 1.616e-01 1.647e-01 9.058e-02\n",
            " 3.697e-02 1.278e-02 3.609e-03 1.614e-04 1.316e-04 9.904e-06 1.994e-10\n",
            " 1.994e-10 1.994e-10 8.969e-06 2.564e-03 1.315e-02 4.054e-02 8.954e-02\n",
            " 1.494e-01 1.810e-01 1.820e-01 1.756e-01 1.755e-01 1.733e-01 1.714e-01\n",
            " 1.639e-01 1.397e-01 9.593e-02 1.090e-01 1.758e-01 1.395e-01 6.749e-02\n",
            " 2.734e-02 1.045e-02 2.980e-03 1.857e-04 1.316e-04 1.423e-05 1.994e-10\n",
            " 1.994e-10 1.994e-10 7.742e-06 1.298e-03 7.499e-03 2.685e-02 6.257e-02\n",
            " 1.124e-01 1.602e-01 1.803e-01 1.850e-01 1.821e-01 1.776e-01 1.750e-01\n",
            " 1.702e-01 1.540e-01 1.135e-01 1.442e-01 1.763e-01 1.148e-01 5.549e-02\n",
            " 2.238e-02 9.527e-03 2.250e-03 2.563e-04 7.886e-06 3.156e-06 1.994e-10\n",
            " 1.994e-10 1.994e-10 1.503e-05 5.833e-04 3.615e-03 1.332e-02 3.416e-02\n",
            " 6.558e-02 1.032e-01 1.338e-01 1.490e-01 1.535e-01 1.501e-01 1.526e-01\n",
            " 1.709e-01 1.654e-01 1.407e-01 1.704e-01 1.645e-01 9.992e-02 4.818e-02\n",
            " 1.983e-02 7.572e-03 1.816e-03 2.464e-04 9.532e-05 1.994e-10 1.994e-10\n",
            " 6.701e-06 1.994e-10 4.156e-05 5.026e-04 1.839e-03 6.011e-03 1.505e-02\n",
            " 2.907e-02 4.798e-02 6.726e-02 8.121e-02 8.801e-02 9.728e-02 1.349e-01\n",
            " 1.796e-01 1.736e-01 1.646e-01 1.822e-01 1.513e-01 9.188e-02 4.478e-02\n",
            " 1.965e-02 7.891e-03 2.491e-03 2.596e-04 2.994e-04 1.994e-10 1.994e-10\n",
            " 1.994e-10 1.994e-10 1.994e-10 3.394e-04 8.154e-04 2.663e-03 6.115e-03\n",
            " 1.076e-02 1.712e-02 2.498e-02 3.473e-02 5.203e-02 9.015e-02 1.525e-01\n",
            " 1.894e-01 1.807e-01 1.773e-01 1.797e-01 1.386e-01 8.667e-02 4.247e-02\n",
            " 1.908e-02 8.757e-03 3.223e-03 5.584e-04 3.904e-04 1.994e-10 1.994e-10\n",
            " 1.994e-10 1.994e-10 7.669e-06 1.197e-04 5.671e-04 2.215e-03 4.003e-03\n",
            " 5.538e-03 8.718e-03 1.523e-02 2.990e-02 6.133e-02 1.186e-01 1.727e-01\n",
            " 1.917e-01 1.835e-01 1.826e-01 1.712e-01 1.302e-01 8.340e-02 4.275e-02\n",
            " 2.005e-02 9.148e-03 3.942e-03 1.169e-03 5.094e-04 1.994e-10 1.994e-10\n",
            " 1.994e-10 1.994e-10 2.476e-06 1.178e-05 5.807e-04 2.131e-03 3.693e-03\n",
            " 5.805e-03 1.169e-02 2.496e-02 5.134e-02 9.410e-02 1.491e-01 1.838e-01\n",
            " 1.900e-01 1.810e-01 1.794e-01 1.628e-01 1.241e-01 7.967e-02 4.471e-02\n",
            " 2.135e-02 1.085e-02 4.513e-03 1.914e-03 3.255e-04 1.994e-10 1.994e-10\n",
            " 1.994e-10 1.994e-10 1.994e-10 2.695e-04 1.237e-03 2.211e-03 3.887e-03\n",
            " 8.472e-03 2.110e-02 4.387e-02 8.097e-02 1.305e-01 1.689e-01 1.864e-01\n",
            " 1.845e-01 1.769e-01 1.731e-01 1.557e-01 1.190e-01 7.751e-02 4.738e-02\n",
            " 2.452e-02 1.194e-02 5.498e-03 1.902e-03 4.625e-04 1.994e-10 1.994e-10\n",
            " 1.994e-10 1.994e-10 1.994e-10 3.097e-04 9.474e-04 2.234e-03 5.668e-03\n",
            " 1.479e-02 3.419e-02 6.384e-02 1.059e-01 1.500e-01 1.755e-01 1.824e-01\n",
            " 1.777e-01 1.684e-01 1.672e-01 1.481e-01 1.174e-01 7.979e-02 4.838e-02\n",
            " 2.674e-02 1.337e-02 6.344e-03 1.619e-03 2.444e-04 1.994e-10 1.994e-10\n",
            " 1.994e-10 1.994e-10 1.994e-10 6.038e-05 5.130e-04 3.016e-03 8.406e-03\n",
            " 2.035e-02 4.246e-02 7.521e-02 1.167e-01 1.494e-01 1.652e-01 1.701e-01\n",
            " 1.636e-01 1.541e-01 1.533e-01 1.373e-01 1.088e-01 7.624e-02 4.756e-02\n",
            " 2.528e-02 1.172e-02 5.585e-03 8.895e-04 1.497e-04 1.994e-10 1.994e-10\n",
            " 1.994e-10 1.994e-10 1.994e-10 1.994e-10 3.380e-04 2.644e-03 6.512e-03\n",
            " 1.536e-02 3.637e-02 6.258e-02 9.450e-02 1.178e-01 1.311e-01 1.322e-01\n",
            " 1.228e-01 1.124e-01 1.138e-01 9.911e-02 7.749e-02 5.404e-02 3.402e-02\n",
            " 1.720e-02 6.347e-03 2.307e-03 2.267e-04 5.346e-05 1.994e-10 1.994e-10\n",
            " 1.994e-10 1.994e-10 1.994e-10 3.721e-06 4.587e-04 9.434e-04 2.354e-03\n",
            " 3.235e-03 9.335e-03 1.665e-02 2.702e-02 3.831e-02 4.381e-02 4.495e-02\n",
            " 4.252e-02 3.546e-02 3.713e-02 3.083e-02 2.283e-02 1.708e-02 1.246e-02\n",
            " 5.049e-03 1.223e-03 3.496e-04 3.331e-06 1.994e-10 1.994e-10 1.994e-10\n",
            " 1.994e-10 1.994e-10 1.994e-10 1.994e-10 1.994e-10 1.994e-10 4.331e-06\n",
            " 1.399e-04 1.165e-04 1.676e-04 4.075e-04 4.046e-04 6.872e-04 8.071e-04\n",
            " 9.997e-04 4.492e-04 7.677e-04 4.321e-04 6.762e-04 6.338e-04 5.463e-04\n",
            " 2.244e-04 6.754e-05 1.994e-10 1.994e-10 1.994e-10 1.994e-10 1.994e-10]\n"
          ],
          "name": "stdout"
        }
      ]
    },
    {
      "cell_type": "code",
      "metadata": {
        "id": "7NlYqhbspDZO",
        "colab_type": "code",
        "outputId": "6997d0f4-5c2b-442d-c541-289d668c95cd",
        "colab": {
          "base_uri": "https://localhost:8080/",
          "height": 153
        }
      },
      "source": [
        "plotting(gnb.sigma_)"
      ],
      "execution_count": 0,
      "outputs": [
        {
          "output_type": "display_data",
          "data": {
            "image/png": "[encoded data removed]",
            "text/plain": [
              "<Figure size 1440x144 with 10 Axes>"
            ]
          },
          "metadata": {
            "tags": []
          }
        }
      ]
    },
    {
      "cell_type": "code",
      "metadata": {
        "id": "c1KfUCypBsSe",
        "colab_type": "code",
        "outputId": "8f3f4cc6-3969-4d0d-ff85-981a1c29bfae",
        "colab": {
          "base_uri": "https://localhost:8080/",
          "height": 347
        }
      },
      "source": [
        "def P9():\n",
        "\n",
        "### STUDENT END ###\n",
        "  \n",
        "  \n",
        "  ## Gaussian Naive Bayes classifier \n",
        "  gaussian_nb = GaussianNB(var_smoothing = 0.05)# manipulated var_smoothing to get reasonable sigma (variance)\n",
        "  gaussian_nb.fit(train_data, train_labels)\n",
        "  gaussian_nb_predict = gaussian_nb.predict(dev_data)\n",
        "\n",
        "  #report accuracy\n",
        "  accuracy = classification_report(gaussian_nb_predict, dev_labels)\n",
        "  modelscore = gaussian_nb.score(dev_data, dev_labels)\n",
        "  print \"Accuracy of the Multinomial NB classifier: %.3f\\n\\n %s\" %(modelscore, accuracy)\n",
        "\n",
        "\n",
        "  return gaussian_nb\n",
        "\n",
        "def plotting(image):\n",
        "  \"\"\"Function to plot theta or sigma images\"\"\"\n",
        "  # Set the figure data \n",
        "   # Set the figure data \n",
        "  fig,ax = plt.subplots(nrows=1, ncols=10, figsize=(20, 2))\n",
        "  \n",
        "  for i in range(10):\n",
        "    ax[i].imshow(np.copy(image[i].reshape((28,28))), cmap = plt.cm.gray_r) #plot original image \n",
        "    ax[i].set_xticks([]) # remove ticks on x\n",
        "    ax[i].set_yticks([]) # remove ticks on y\n",
        "\n",
        "### STUDENT END ###\n",
        "\n",
        "gnb = P9()"
      ],
      "execution_count": 0,
      "outputs": [
        {
          "output_type": "stream",
          "text": [
            "Accuracy of the Multinomial NB classifier: 0.814\n",
            "\n",
            "               precision    recall  f1-score   support\n",
            "\n",
            "           0       0.92      0.92      0.92       107\n",
            "           1       0.96      0.85      0.90       133\n",
            "           2       0.67      0.89      0.76        80\n",
            "           3       0.76      0.78      0.77        95\n",
            "           4       0.76      0.81      0.79        86\n",
            "           5       0.66      0.89      0.76        65\n",
            "           6       0.90      0.81      0.86       113\n",
            "           7       0.86      0.98      0.92        90\n",
            "           8       0.69      0.61      0.65       107\n",
            "           9       0.89      0.69      0.78       124\n",
            "\n",
            "   micro avg       0.81      0.81      0.81      1000\n",
            "   macro avg       0.81      0.82      0.81      1000\n",
            "weighted avg       0.83      0.81      0.81      1000\n",
            "\n"
          ],
          "name": "stdout"
        }
      ]
    },
    {
      "cell_type": "code",
      "metadata": {
        "id": "yWvJCrEBoMVO",
        "colab_type": "code",
        "outputId": "9366bdb5-bbdb-4306-8cf9-637d7d5bcaf7",
        "colab": {
          "base_uri": "https://localhost:8080/",
          "height": 153
        }
      },
      "source": [
        "\n",
        "plotting(gnb.theta_)"
      ],
      "execution_count": 0,
      "outputs": [
        {
          "output_type": "display_data",
          "data": {
            "image/png": "[encoded data removed]",
            "text/plain": [
              "<Figure size 1440x144 with 10 Axes>"
            ]
          },
          "metadata": {
            "tags": []
          }
        }
      ]
    },
    {
      "cell_type": "code",
      "metadata": {
        "id": "Nh7qFpnGpgGL",
        "colab_type": "code",
        "outputId": "68e40feb-c987-45d0-dc4c-5572905b7bf0",
        "colab": {
          "base_uri": "https://localhost:8080/",
          "height": 153
        }
      },
      "source": [
        "plotting(gnb.sigma_)"
      ],
      "execution_count": 0,
      "outputs": [
        {
          "output_type": "display_data",
          "data": {
            "image/png": "[encoded data removed]",
            "text/plain": [
              "<Figure size 1440x144 with 10 Axes>"
            ]
          },
          "metadata": {
            "tags": []
          }
        }
      ]
    },
    {
      "cell_type": "markdown",
      "metadata": {
        "id": "-JBR4VJ6LkUR",
        "colab_type": "text"
      },
      "source": [
        "ANSWER: As a Guassian model, the classifier is expecting a normal distribution of features.  The theta value is the mean of each feature per class and in general the numbers are small for the model. The  sigma value is the variance of each feature per class, and in general it is also small. A combination of a low valued mean and a low variance leads to computational insignificance of the features. By increasing var_smoothing from it's default value of 1e9 to 0.1, the noise from the variance amplified  through filtering of the input data, allowing the features to provide information to the model. This allows the model to generalise better to new examples, hence the increase in accuracy.\n",
        "\n",
        "An attempt was also made to normalise the input data directly in order to create the Gaussian distribution expected by the model. This was unsuccessful in increasing the accuracy but it may have been the way I implemented the code. See attempt below."
      ]
    },
    {
      "cell_type": "code",
      "metadata": {
        "id": "f07uRt9nzMu2",
        "colab_type": "code",
        "outputId": "cad4ecb7-1a31-4433-84bd-0a4cd82864f6",
        "colab": {
          "base_uri": "https://localhost:8080/",
          "height": 381
        }
      },
      "source": [
        "# Normalise training data\n",
        "\n",
        "def P9_norm():\n",
        "\n",
        "### STUDENT END ###\n",
        "  \n",
        "  # normalise training data\n",
        "  train_mean = np.mean(train_data, axis =0)\n",
        "  train_var = np.std(train_data, axis =0)\n",
        "  print train_mean.shape\n",
        "  print train_var.shape\n",
        "  \n",
        "#   for i in range(len(train_data)):\n",
        "  train_norm = np.divide(np.subtract(train_data, train_mean),train_var, out=np.zeros_like(np.subtract(train_data, train_mean)), where=train_var!=0)\n",
        "  \n",
        "  dev_data_norm = np.divide(np.subtract(dev_data, train_mean),train_var, out=np.zeros_like(np.subtract(dev_data, train_mean)), where=train_var!=0)\n",
        "#   print(train_norm[0])\n",
        "  \n",
        "  ## Gaussian Naive Bayes classifier \n",
        "  gaussian_nb = GaussianNB()#priors = y )\n",
        "  gaussian_nb.fit(train_norm, train_labels)\n",
        "  gaussian_nb_predict = gaussian_nb.predict(dev_data_norm)\n",
        "\n",
        "  #report accuracy\n",
        "  accuracy = classification_report(gaussian_nb_predict, dev_labels)\n",
        "  modelscore = gaussian_nb.score(dev_data_norm, dev_labels)\n",
        "  print \"Accuracy of the Multinomial NB classifier: %.3f\\n\\n %s\" %(modelscore, accuracy)\n",
        "\n",
        "  return gaussian_nb\n",
        "\n",
        "def plotting(image):\n",
        "  \"\"\"Function to plot theta or sigma images\"\"\"\n",
        "  # Set the figure data \n",
        "   # Set the figure data \n",
        "  fig,ax = plt.subplots(nrows=1, ncols=10, figsize=(20, 2))\n",
        "  \n",
        "  for i in range(10):\n",
        "    ax[i].imshow(np.copy(image[i].reshape((28,28))), cmap = plt.cm.gray_r) #plot original image \n",
        "    ax[i].set_xticks([]) # remove ticks on x\n",
        "    ax[i].set_yticks([]) # remove ticks on y\n",
        "    \n",
        "    ### STUDENT END ###\n",
        "\n",
        "gnb = P9_norm()"
      ],
      "execution_count": 0,
      "outputs": [
        {
          "output_type": "stream",
          "text": [
            "(784,)\n",
            "(784,)\n",
            "Accuracy of the Multinomial NB classifier: 0.550\n",
            "\n",
            "               precision    recall  f1-score   support\n",
            "\n",
            "           0       0.91      0.76      0.82       127\n",
            "           1       0.92      0.86      0.89       127\n",
            "           2       0.18      0.86      0.30        22\n",
            "           3       0.27      0.68      0.39        38\n",
            "           4       0.20      0.90      0.32        20\n",
            "           5       0.06      0.56      0.10         9\n",
            "           6       0.89      0.66      0.76       138\n",
            "           7       0.32      0.94      0.48        35\n",
            "           8       0.66      0.23      0.35       265\n",
            "           9       0.96      0.42      0.58       219\n",
            "\n",
            "   micro avg       0.55      0.55      0.55      1000\n",
            "   macro avg       0.54      0.69      0.50      1000\n",
            "weighted avg       0.77      0.55      0.59      1000\n",
            "\n"
          ],
          "name": "stdout"
        }
      ]
    },
    {
      "cell_type": "markdown",
      "metadata": {
        "id": "VPRMFt9lLkUS",
        "colab_type": "text"
      },
      "source": [
        "(10) Because Naive Bayes is a generative model, we can use the trained model to generate digits. Train a BernoulliNB model and then generate a 10x20 grid with 20 examples of each digit. Because you're using a Bernoulli model, each pixel output will be either 0 or 1. How do the generated digits compare to the training digits?\n",
        "\n",
        "- You can use np.random.rand() to generate random numbers from a uniform distribution\n",
        "- The estimated probability of each pixel is stored in feature\\_log\\_prob\\_. You'll need to use np.exp() to convert a log probability back to a probability."
      ]
    },
    {
      "cell_type": "code",
      "metadata": {
        "id": "ToJgTdxsLkUS",
        "colab_type": "code",
        "outputId": "c9ca1478-4b9f-4876-962f-6d4533bfe4c2",
        "colab": {
          "base_uri": "https://localhost:8080/",
          "height": 601
        }
      },
      "source": [
        "def P10(num_examples):\n",
        "\n",
        "### STUDENT START ###\n",
        "\n",
        "  ## Fit BernoulliNB model\n",
        "  nb_binary = BernoulliNB(binarize = 0.5, alpha = 1.0)\n",
        "  nb_binary.fit(train_data, train_labels)\n",
        "  nb_predict = nb_binary.predict(dev_data)\n",
        "\n",
        " # Set the figure data \n",
        "  fig,ax = plt.subplots(nrows=10, ncols=num_examples, figsize=(num_examples, 10))\n",
        "   \n",
        "# # Iterate over the labels, creating a 10x10 subplots with 10 examples of each label.\n",
        "  for label in range(10):  # iterate through the 10 digits\n",
        "    for num in range(num_examples): # iterate for as many times as the number of example chosen by the user\n",
        "#       print np.exp(nb_binary.feature_log_prob_[label])\n",
        "      image_pl = np.reshape(np.random.rand(784) < np.exp(nb_binary.feature_log_prob_[label]),(28,28)) # reshape image array to 28x28 for plotting\n",
        "      ax[label,num].imshow(image_pl, cmap = plt.cm.gray_r ) #plot image in greyscale\n",
        "      ax[label,num].set_xticks([]) # remove ticks on x \n",
        "      ax[label,num].set_yticks([]) # remove ticks on y  \n",
        "\n",
        "### STUDENT END ###\n",
        "\n",
        "P10(20)\n"
      ],
      "execution_count": 0,
      "outputs": [
        {
          "output_type": "display_data",
          "data": {
            "image/png": "[encoded data removed]",
            "text/plain": [
              "<Figure size 1440x720 with 200 Axes>"
            ]
          },
          "metadata": {
            "tags": []
          }
        }
      ]
    },
    {
      "cell_type": "markdown",
      "metadata": {
        "id": "ipiQxRdCLkUV",
        "colab_type": "text"
      },
      "source": [
        "ANSWER: In general the algorithm produced recognisable digits. However it is evident which digits had the weaker models, namely 4, 8 and 9 which each have several examples which are difficult to make out.  This is similar to earlier models, including the kNN classifier as well as the NB classifiers."
      ]
    },
    {
      "cell_type": "markdown",
      "metadata": {
        "id": "ZU2voLvILkUX",
        "colab_type": "text"
      },
      "source": [
        "(11) Remember that a strongly calibrated classifier is rougly 90% accurate when the posterior probability of the predicted class is 0.9. A weakly calibrated classifier is more accurate when the posterior is 90% than when it is 80%. A poorly calibrated classifier has no positive correlation between posterior and accuracy.\n",
        "\n",
        "Train a BernoulliNB model with a reasonable alpha value. For each posterior bucket (think of a bin in a histogram), you want to estimate the classifier's accuracy. So for each prediction, find the bucket the maximum posterior belongs to and update the \"correct\" and \"total\" counters.\n",
        "\n",
        "How would you characterize the calibration for the Naive Bayes model?"
      ]
    },
    {
      "cell_type": "code",
      "metadata": {
        "id": "0dsdaxrYLkUX",
        "colab_type": "code",
        "outputId": "0b969312-4fdb-40f1-ece8-bbf4e606d0db",
        "colab": {
          "base_uri": "https://localhost:8080/",
          "height": 173
        }
      },
      "source": [
        "def P11(buckets, correct, total):\n",
        "    \n",
        "### STUDENT START ###\n",
        "  \n",
        "## Fit BernoulliNB model\n",
        "  nb_binary = BernoulliNB(binarize = 0.5, alpha = 0.001)\n",
        "  nb_binary.fit(mini_train_data, mini_train_labels)\n",
        "  \n",
        "  # get predicted values and predicted probabilties\n",
        "  nb_predict = nb_binary.predict(dev_data)\n",
        "  nb_predict_probs = nb_binary.predict_proba(dev_data)\n",
        "  # extract the top probability for each image, this is the probability calculated for the assigned label\n",
        "  nb_predict_probs_max = np.max(nb_predict_probs, axis = 1)\n",
        "  nb_predict_correct_probs = nb_predict_probs_max[np.argwhere(nb_predict == dev_labels)]\n",
        "  \n",
        "  # count the number of probablities that fall into each bucket (unique is used to count the bins created by digitize)\n",
        "  # np output is converted to float and list \n",
        "  total = np.unique(np.digitize(nb_predict_probs_max, buckets, right=True), return_counts=True)[1].astype(np.float64).tolist()\n",
        "  correct = np.unique(np.digitize(nb_predict_correct_probs, buckets, right=True), return_counts=True)[1].astype(np.float64).tolist()\n",
        "  \n",
        "  # Add zero for count of probablities <= 0.5\n",
        "  total = np.insert(total, 0 , 0, axis=0)\n",
        "  correct = np.insert(correct, 0 , 0, axis=0)\n",
        "  \n",
        "  \n",
        "  return correct, total\n",
        "  \n",
        "### STUDENT END ###\n",
        "\n",
        "buckets = [0.5, 0.9, 0.999, 0.99999, 0.9999999, 0.999999999, 0.99999999999, 0.9999999999999, 1.0]\n",
        "correct = [0 for i in buckets]\n",
        "total = [0 for i in buckets]\n",
        "\n",
        "correct, total = P11(buckets, correct, total)\n",
        "\n",
        "for i in range(len(buckets)):\n",
        "   accuracy = 0.0\n",
        "   if (total[i] > 0): accuracy = correct[i] / total[i]\n",
        "   print 'p(pred) <= %.13f    total = %3d    accuracy = %.3f' %(buckets[i], total[i], accuracy)"
      ],
      "execution_count": 0,
      "outputs": [
        {
          "output_type": "stream",
          "text": [
            "p(pred) <= 0.5000000000000    total =   0    accuracy = 0.000\n",
            "p(pred) <= 0.9000000000000    total =  36    accuracy = 0.389\n",
            "p(pred) <= 0.9990000000000    total =  90    accuracy = 0.444\n",
            "p(pred) <= 0.9999900000000    total =  69    accuracy = 0.565\n",
            "p(pred) <= 0.9999999000000    total =  67    accuracy = 0.672\n",
            "p(pred) <= 0.9999999990000    total =  50    accuracy = 0.820\n",
            "p(pred) <= 0.9999999999900    total =  72    accuracy = 0.903\n",
            "p(pred) <= 0.9999999999999    total =  66    accuracy = 0.894\n",
            "p(pred) <= 1.0000000000000    total = 550    accuracy = 0.955\n"
          ],
          "name": "stdout"
        }
      ]
    },
    {
      "cell_type": "markdown",
      "metadata": {
        "id": "x44WGcXfLkUa",
        "colab_type": "text"
      },
      "source": [
        "ANSWER: The model is weakly calibrated as there is positive correlation between the accuracy and the posterier probability. However the model is not perfectly calibrated as the posterier probability is > than the accuracy of the model. In fact, the calibration is quite poor as the accuracy from ~50% to 95% where the posterior probability moves from 0.99999 to 1 which is highly non-linear. \n"
      ]
    },
    {
      "cell_type": "markdown",
      "metadata": {
        "id": "NPCGFg_yLkUa",
        "colab_type": "text"
      },
      "source": [
        "(12) EXTRA CREDIT\n",
        "\n",
        "Try designing extra features to see if you can improve the performance of Naive Bayes on the dev set. Here are a few ideas to get you started:\n",
        "- Try summing the pixel values in each row and each column.\n",
        "- Try counting the number of enclosed regions; 8 usually has 2 enclosed regions, 9 usually has 1, and 7 usually has 0.\n",
        "\n",
        "Make sure you comment your code well!"
      ]
    },
    {
      "cell_type": "code",
      "metadata": {
        "id": "wa22uHmrF3Zq",
        "colab_type": "code",
        "outputId": "82edcbed-64d1-43df-de23-241d98fd7c67",
        "colab": {
          "base_uri": "https://localhost:8080/",
          "height": 676
        }
      },
      "source": [
        "def P7_simple(train_data, train_labels, dev_data, dev_labels):\n",
        "\n",
        "### STUDENT START ###\n",
        "\n",
        "  ## simple binary Naive Bayes classifier \n",
        "  nb_binary = BernoulliNB(binarize = 0.5, alpha = 1.0)\n",
        "  nb_binary.fit(train_data, train_labels)\n",
        "  nb_predict = nb_binary.predict(dev_data)\n",
        "  \n",
        "  #report accuracy\n",
        "  accuracy = classification_report(nb_predict, dev_labels)\n",
        "  modelscore = nb_binary.score(dev_data, dev_labels)\n",
        "  print \"Accuracy of the binary NB classifier: %.3f\\n\\n %s\" %(modelscore, accuracy)\n",
        "  \n",
        "\n",
        "### STUDENT END ###\n",
        "\n",
        "P7_simple(mini_train_data, mini_train_labels, dev_data, dev_labels)\n",
        "\n",
        "\n",
        "def P9_simple(train_data, train_labels, dev_data, dev_labels):\n",
        "  gaussian_nb = GaussianNB(var_smoothing = 0.05)\n",
        "  gaussian_nb.fit(train_data, train_labels)\n",
        "  gaussian_nb_predict = gaussian_nb.predict(dev_data)\n",
        "\n",
        "  #report accuracy\n",
        "  accuracy = classification_report(gaussian_nb_predict, dev_labels)\n",
        "  modelscore = gaussian_nb.score(dev_data, dev_labels)\n",
        "  print \"Accuracy of the Multinomial NB classifier: %.3f\\n\\n %s\" %(modelscore, accuracy)\n",
        "  \n",
        "P9_simple(mini_train_data, mini_train_labels, dev_data, dev_labels)\n",
        "\n"
      ],
      "execution_count": 0,
      "outputs": [
        {
          "output_type": "stream",
          "text": [
            "Accuracy of the binary NB classifier: 0.819\n",
            "\n",
            "               precision    recall  f1-score   support\n",
            "\n",
            "           0       0.90      0.94      0.92       101\n",
            "           1       0.96      0.87      0.91       130\n",
            "           2       0.72      0.79      0.75        96\n",
            "           3       0.78      0.75      0.77       101\n",
            "           4       0.86      0.78      0.82       101\n",
            "           5       0.72      0.85      0.78        74\n",
            "           6       0.89      0.89      0.89       102\n",
            "           7       0.87      0.86      0.87       103\n",
            "           8       0.73      0.65      0.69       106\n",
            "           9       0.72      0.79      0.75        86\n",
            "\n",
            "   micro avg       0.82      0.82      0.82      1000\n",
            "   macro avg       0.81      0.82      0.81      1000\n",
            "weighted avg       0.82      0.82      0.82      1000\n",
            "\n",
            "Accuracy of the Multinomial NB classifier: 0.816\n",
            "\n",
            "               precision    recall  f1-score   support\n",
            "\n",
            "           0       0.92      0.93      0.92       104\n",
            "           1       0.96      0.86      0.91       131\n",
            "           2       0.71      0.82      0.76        92\n",
            "           3       0.76      0.82      0.79        90\n",
            "           4       0.73      0.80      0.76        84\n",
            "           5       0.73      0.79      0.76        81\n",
            "           6       0.87      0.87      0.87       102\n",
            "           7       0.86      0.99      0.92        89\n",
            "           8       0.71      0.63      0.67       106\n",
            "           9       0.86      0.68      0.76       121\n",
            "\n",
            "   micro avg       0.82      0.82      0.82      1000\n",
            "   macro avg       0.81      0.82      0.81      1000\n",
            "weighted avg       0.82      0.82      0.82      1000\n",
            "\n"
          ],
          "name": "stdout"
        }
      ]
    },
    {
      "cell_type": "code",
      "metadata": {
        "id": "xjEcU7SULkUb",
        "colab_type": "code",
        "outputId": "57e4eed8-d02c-4115-855c-fba1a1dc501b",
        "colab": {
          "base_uri": "https://localhost:8080/",
          "height": 347
        }
      },
      "source": [
        "def P12_pixel_col_count():\n",
        "  ### STUDENT START ###\n",
        "  \n",
        "  mini_train_data_cols = create_pixel_count(mini_train_data)\n",
        "  dev_cols = create_pixel_count(dev_data)\n",
        "  \n",
        "    # Run the GuassianNB on this new set.\n",
        "  P9_simple(mini_train_data_cols, mini_train_labels, dev_cols, dev_labels)\n",
        "  \n",
        "\n",
        "def create_pixel_count(data):\n",
        "  \n",
        "  # New training data arrays, of larger size to fit the 28*2 new features.\n",
        "  data_cols = np.empty(shape = (len(data),840))\n",
        "  \n",
        "  # Loop through the range of images in the data sets.\n",
        "  for i in range(len(data)):\n",
        "    # Append the two axis sums to the each sample.\n",
        "    data_cols[i] = np.append(data[i],\n",
        "                                np.concatenate((data[i].reshape((28,28)).sum(axis = 0)/28,\n",
        "                                                data[i].reshape((28,28)).sum(axis = 1)/28)))                                               \n",
        "  return data_cols\n",
        "\n",
        "\n",
        "  ### STUDENT END ###\n",
        "P12_pixel_col_count()"
      ],
      "execution_count": 0,
      "outputs": [
        {
          "output_type": "stream",
          "text": [
            "Accuracy of the Multinomial NB classifier: 0.817\n",
            "\n",
            "               precision    recall  f1-score   support\n",
            "\n",
            "           0       0.92      0.93      0.92       104\n",
            "           1       0.96      0.86      0.91       131\n",
            "           2       0.69      0.83      0.75        88\n",
            "           3       0.76      0.81      0.79        91\n",
            "           4       0.74      0.81      0.77        84\n",
            "           5       0.73      0.79      0.76        81\n",
            "           6       0.87      0.86      0.87       103\n",
            "           7       0.86      0.99      0.92        89\n",
            "           8       0.72      0.63      0.67       108\n",
            "           9       0.87      0.69      0.77       121\n",
            "\n",
            "   micro avg       0.82      0.82      0.82      1000\n",
            "   macro avg       0.81      0.82      0.81      1000\n",
            "weighted avg       0.82      0.82      0.82      1000\n",
            "\n"
          ],
          "name": "stdout"
        }
      ]
    },
    {
      "cell_type": "code",
      "metadata": {
        "id": "t31kURqYGdd6",
        "colab_type": "code",
        "outputId": "5f03c57a-4fc5-4fce-d5b5-268627844289",
        "colab": {
          "base_uri": "https://localhost:8080/",
          "height": 347
        }
      },
      "source": [
        "from scipy.ndimage import label\n",
        "\n",
        "def P12_region_count():\n",
        "  \n",
        "  ### STUDENT START ###\n",
        "   \n",
        "  # Loop through the training data.\n",
        "  mt_data_rgn = region_feature(mini_train_data)\n",
        "  # Repeat for dev set.\n",
        "  dev_rgn = region_feature(dev_data)\n",
        "  \n",
        "   # Run the Guassian NB on the new dataset.\n",
        "  P9_simple(mt_data_rgn, mini_train_labels, dev_rgn, dev_labels)\n",
        "  \n",
        "def region_feature(data_set):\n",
        "  \n",
        "  \n",
        "  # Define function with binarisation AND inversion of the images with threshold 0.3\n",
        "  vec_func = np.vectorize(lambda x: 1 if x < 0.3 else 0)\n",
        "  #calculate length of dataset \n",
        "  len_data = len(data_set)\n",
        "  # New arrays with one extra item - for the enclosed space count.\n",
        "  data_rgn = np.empty(shape = (len_data,785))\n",
        "  \n",
        "  # Apply the blur function\n",
        "  images = np.array(map(blur_simple, np.copy(data_set)))\n",
        "  \n",
        "  for i in range(len_data):\n",
        "    # Apply the binariser\n",
        "    images[i] = vec_func(images[i])\n",
        "    bmp = images[i].reshape((28,28))\n",
        "    \n",
        "    # The features of the inverse image are the enclosed areas of the positive values\n",
        "    # use Scipy to label them.\n",
        "    labels, num_features = label(bmp)\n",
        "\n",
        "    # Standardise the number of features and append.\n",
        "    data_rgn[i] = np.append(data_set[i], (num_features - 1)/2)\n",
        "    \n",
        "  return data_rgn\n",
        "\n",
        "def blur_simple(image):\n",
        "  \"\"\"Blur image according to Gaussian blur, sigma 1\"\"\"\n",
        "  # Copy image \n",
        "  image_to_blur = np.copy(image.reshape((28,28)))\n",
        "  image_blurred = np.copy(image)\n",
        "  \n",
        "  #Create 3x3 Gaussian blurring matrix (sigma = 1)\n",
        "  kernel_sigma1 = gaussian_filter(sigma=1)\n",
        "  kernel = kernel_sigma1.reshape(-1,1)\n",
        "  \n",
        "  # Add row and column of zeros to image edges to allow edge blurring\n",
        "  image_to_blur = np.insert(np.insert(np.insert(image_to_blur, 28 , 0, axis=0), 0 , 0, axis=1), 0 , 0, axis=0)\n",
        "  image_to_blur = np.append(image_to_blur, np.zeros((30,1), dtype=int), axis=1)\n",
        "  \n",
        "  for i in range(1,28): # loop through rows\n",
        "    for j in range (1,28):\n",
        "      #splice image array to get 3x3 matrix for gaussian blurring\n",
        "      image_to_blur_matrix =  image_to_blur[i-1:i+2,j-1:j+2].reshape(1, -1)\n",
        "      # insert new pixel into image_blurred. New pixel is created via gaussian blur matrix 'kernel'\n",
        "      image_blurred[(i-1)*28 +(j-1)] = np.dot(image_to_blur_matrix,kernel)\n",
        "  return image_blurred # return new image array\n",
        " \n",
        "  ### STUDENT END ###\n",
        "\n",
        "P12_region_count()"
      ],
      "execution_count": 0,
      "outputs": [
        {
          "output_type": "stream",
          "text": [
            "Accuracy of the Multinomial NB classifier: 0.821\n",
            "\n",
            "               precision    recall  f1-score   support\n",
            "\n",
            "           0       0.92      0.93      0.92       104\n",
            "           1       0.96      0.86      0.91       131\n",
            "           2       0.71      0.81      0.75        93\n",
            "           3       0.75      0.85      0.80        86\n",
            "           4       0.73      0.80      0.76        84\n",
            "           5       0.73      0.79      0.76        81\n",
            "           6       0.88      0.87      0.88       103\n",
            "           7       0.86      0.99      0.92        89\n",
            "           8       0.77      0.66      0.71       109\n",
            "           9       0.86      0.68      0.76       120\n",
            "\n",
            "   micro avg       0.82      0.82      0.82      1000\n",
            "   macro avg       0.82      0.82      0.82      1000\n",
            "weighted avg       0.83      0.82      0.82      1000\n",
            "\n"
          ],
          "name": "stdout"
        }
      ]
    },
    {
      "cell_type": "markdown",
      "metadata": {
        "id": "F9PTGKbBw9Fm",
        "colab_type": "text"
      },
      "source": [
        "ANSWER: The additional pixel count did little to improve the accuracy of the Gaussian classifier. It is likely that it does not add much additional information that was already available in the raw form of the features. The enclosed region was more successful in increasing the accuracy, but it was sensitive to the amount of bluring applied and the threshold values used for the binarisation of the pixels. This is likely due to the variation of enclosure of region based on pen strokes."
      ]
    }
  ]
}